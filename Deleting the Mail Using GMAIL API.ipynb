{
 "cells": [
  {
   "cell_type": "code",
   "execution_count": 1,
   "metadata": {},
   "outputs": [
    {
     "data": {
      "text/plain": [
       "<googleapiclient.discovery.Resource at 0x153c50fe188>"
      ]
     },
     "execution_count": 1,
     "metadata": {},
     "output_type": "execute_result"
    }
   ],
   "source": [
    "from __future__ import print_function\n",
    "import pickle\n",
    "import os.path\n",
    "import base64\n",
    "import email\n",
    "from apiclient import errors\n",
    "import re\n",
    "import time\n",
    "from datetime import datetime\n",
    "from googleapiclient.discovery import build\n",
    "from google_auth_oauthlib.flow import InstalledAppFlow\n",
    "from google.auth.transport.requests import Request\n",
    "\n",
    "# If modifying these scopes, delete the file token.pickle.\n",
    "SCOPES = ['https://mail.google.com/']\n",
    "\n",
    "def main():\n",
    "    \"\"\"Shows basic usage of the Gmail API.\n",
    "    Lists the user's Gmail labels.\n",
    "    \"\"\"\n",
    "    creds = None\n",
    "    # The file token.pickle stores the user's access and refresh tokens, and is\n",
    "    # created automatically when the authorization flow completes for the first\n",
    "    # time.\n",
    "    if os.path.exists('token.pickle'):\n",
    "        with open('token.pickle', 'rb') as token:\n",
    "            creds = pickle.load(token)\n",
    "    # If there are no (valid) credentials available, let the user log in.\n",
    "    if not creds or not creds.valid:\n",
    "        if creds and creds.expired and creds.refresh_token:\n",
    "            creds.refresh(Request())\n",
    "        else:\n",
    "            flow = InstalledAppFlow.from_client_secrets_file(\n",
    "                'credentials.json', SCOPES)\n",
    "            creds = flow.run_local_server(port=0)\n",
    "        # Save the credentials for the next run\n",
    "        with open('token.pickle', 'wb') as token:\n",
    "            pickle.dump(creds, token)\n",
    "\n",
    "    service = build('gmail', 'v1', credentials=creds)\n",
    "    \n",
    "    return service\n",
    "\n",
    "#     # Call the Gmail API\n",
    "#     results = service.users().labels().list(userId='me').execute()\n",
    "#     labels = results.get('labels', [])\n",
    "    \n",
    "#     userInfo = service.users().getProfile(userId='me').execute()\n",
    "#     print(\"User Info :\",userInfo)\n",
    "\n",
    "#     if not labels:\n",
    "#         print('No labels found.')\n",
    "#     else:\n",
    "#         print('Labels:')\n",
    "#         for label in labels:\n",
    "#             print(label['name'])\n",
    "\n",
    "\n",
    "\n",
    "\n",
    "\n",
    "# if __name__ == '__main__':\n",
    "#     main()\n",
    "\n",
    "main()"
   ]
  },
  {
   "cell_type": "code",
   "execution_count": 2,
   "metadata": {},
   "outputs": [],
   "source": [
    "import pandas as pd\n",
    "import numpy as np"
   ]
  },
  {
   "cell_type": "code",
   "execution_count": 3,
   "metadata": {},
   "outputs": [],
   "source": [
    "prediction_data=pd.read_csv(r'C:\\Users\\lenovo\\Documents\\Project\\Mail Prediction.csv')"
   ]
  },
  {
   "cell_type": "code",
   "execution_count": 4,
   "metadata": {},
   "outputs": [
    {
     "data": {
      "text/html": [
       "<div>\n",
       "<style scoped>\n",
       "    .dataframe tbody tr th:only-of-type {\n",
       "        vertical-align: middle;\n",
       "    }\n",
       "\n",
       "    .dataframe tbody tr th {\n",
       "        vertical-align: top;\n",
       "    }\n",
       "\n",
       "    .dataframe thead th {\n",
       "        text-align: right;\n",
       "    }\n",
       "</style>\n",
       "<table border=\"1\" class=\"dataframe\">\n",
       "  <thead>\n",
       "    <tr style=\"text-align: right;\">\n",
       "      <th></th>\n",
       "      <th>Unnamed: 0</th>\n",
       "      <th>Mail_Id</th>\n",
       "      <th>Subject</th>\n",
       "      <th>Body</th>\n",
       "      <th>predict_we</th>\n",
       "    </tr>\n",
       "  </thead>\n",
       "  <tbody>\n",
       "    <tr>\n",
       "      <td>0</td>\n",
       "      <td>0</td>\n",
       "      <td>1710d470bc7be473</td>\n",
       "      <td>Tips To Revive Your Job Search How Coronavirus...</td>\n",
       "      <td>ta eta iewport\" swap\" Some resets issue fixes ...</td>\n",
       "      <td>1</td>\n",
       "    </tr>\n",
       "    <tr>\n",
       "      <td>1</td>\n",
       "      <td>1</td>\n",
       "      <td>1710d3d35c3080ed</td>\n",
       "      <td>How prepare video interview</td>\n",
       "      <td>Monster Email View Browser Keep search Tips de...</td>\n",
       "      <td>0</td>\n",
       "    </tr>\n",
       "    <tr>\n",
       "      <td>2</td>\n",
       "      <td>2</td>\n",
       "      <td>1710cf0bee737d50</td>\n",
       "      <td>Future Digital Live Masterclass hosted PGPpro</td>\n",
       "      <td>Join Masterclass Professor Deepa View email br...</td>\n",
       "      <td>0</td>\n",
       "    </tr>\n",
       "    <tr>\n",
       "      <td>3</td>\n",
       "      <td>3</td>\n",
       "      <td>1710ceebafee994e</td>\n",
       "      <td>Free Master Class AZURE DEVOPS Saturday, March 28</td>\n",
       "      <td>NaN</td>\n",
       "      <td>1</td>\n",
       "    </tr>\n",
       "    <tr>\n",
       "      <td>4</td>\n",
       "      <td>4</td>\n",
       "      <td>1710cb015b898416</td>\n",
       "      <td>Status job application changed</td>\n",
       "      <td>PUBLIC 1px solid 'Roboto', c48711e56d4c06f6443...</td>\n",
       "      <td>1</td>\n",
       "    </tr>\n",
       "  </tbody>\n",
       "</table>\n",
       "</div>"
      ],
      "text/plain": [
       "   Unnamed: 0           Mail_Id  \\\n",
       "0           0  1710d470bc7be473   \n",
       "1           1  1710d3d35c3080ed   \n",
       "2           2  1710cf0bee737d50   \n",
       "3           3  1710ceebafee994e   \n",
       "4           4  1710cb015b898416   \n",
       "\n",
       "                                             Subject  \\\n",
       "0  Tips To Revive Your Job Search How Coronavirus...   \n",
       "1                        How prepare video interview   \n",
       "2      Future Digital Live Masterclass hosted PGPpro   \n",
       "3  Free Master Class AZURE DEVOPS Saturday, March 28   \n",
       "4                     Status job application changed   \n",
       "\n",
       "                                                Body  predict_we  \n",
       "0  ta eta iewport\" swap\" Some resets issue fixes ...           1  \n",
       "1  Monster Email View Browser Keep search Tips de...           0  \n",
       "2  Join Masterclass Professor Deepa View email br...           0  \n",
       "3                                                NaN           1  \n",
       "4  PUBLIC 1px solid 'Roboto', c48711e56d4c06f6443...           1  "
      ]
     },
     "execution_count": 4,
     "metadata": {},
     "output_type": "execute_result"
    }
   ],
   "source": [
    "prediction_data.head()"
   ]
  },
  {
   "cell_type": "code",
   "execution_count": 5,
   "metadata": {},
   "outputs": [],
   "source": [
    "mail_id=prediction_data.loc[prediction_data['predict_we']==1,['Mail_Id']]"
   ]
  },
  {
   "cell_type": "code",
   "execution_count": 6,
   "metadata": {},
   "outputs": [
    {
     "data": {
      "text/plain": [
       "(22031, 1)"
      ]
     },
     "execution_count": 6,
     "metadata": {},
     "output_type": "execute_result"
    }
   ],
   "source": [
    "mail_id.shape"
   ]
  },
  {
   "cell_type": "code",
   "execution_count": 7,
   "metadata": {},
   "outputs": [],
   "source": [
    "mail_id.reset_index(inplace=True,drop=True)"
   ]
  },
  {
   "cell_type": "code",
   "execution_count": 8,
   "metadata": {},
   "outputs": [
    {
     "name": "stdout",
     "output_type": "stream",
     "text": [
      "22031\n"
     ]
    },
    {
     "data": {
      "text/plain": [
       "1        1710ceebafee994e\n",
       "2        1710cb015b898416\n",
       "3        1710c8ee7dbc1fd4\n",
       "4        1710c0923737841f\n",
       "5        1710bfbabdd611f7\n",
       "               ...       \n",
       "22026    14ce0cb9734b1c87\n",
       "22027    14c898c7d746a0af\n",
       "22028    14c898aed9e70dd9\n",
       "22029    14bb0d78c4a15732\n",
       "22030    14ba68eab7f00f83\n",
       "Name: Mail_Id, Length: 22030, dtype: object"
      ]
     },
     "execution_count": 8,
     "metadata": {},
     "output_type": "execute_result"
    }
   ],
   "source": [
    "print(len(mail_id))\n",
    "\n",
    "mail_id['Mail_Id'][1:]"
   ]
  },
  {
   "cell_type": "code",
   "execution_count": null,
   "metadata": {},
   "outputs": [],
   "source": [
    "#test trash of one file\n",
    "# a='1710ceebafee994e'\n",
    "\n",
    "# try:\n",
    "#     main().users().messages().trash(userId='me',id=a).execute()\n",
    "#     print('Message with id: %s moved to trash successfully.',a)\n",
    "# except errors.HttpError as error:\n",
    "#     print(error)"
   ]
  },
  {
   "cell_type": "code",
   "execution_count": 12,
   "metadata": {},
   "outputs": [
    {
     "name": "stdout",
     "output_type": "stream",
     "text": [
      "Message with id: %s moved to trash successfully. 16aa6548d99ef9ec\n",
      "Message with id: %s moved to trash successfully. 16aa650466190735\n"
     ]
    }
   ],
   "source": [
    "# Moving 22031 mail to trash from mail after getting the prediction\n",
    "for i in mail_id['Mail_Id'][:2]:\n",
    "    try:\n",
    "        main().users().messages().trash(userId='me',id=i).execute()\n",
    "        print('Message with id: %s moved to trash successfully.',i)\n",
    "    except errors.HttpError as error:\n",
    "        print(i,error)"
   ]
  },
  {
   "cell_type": "code",
   "execution_count": null,
   "metadata": {},
   "outputs": [],
   "source": []
  }
 ],
 "metadata": {
  "kernelspec": {
   "display_name": "Python 3",
   "language": "python",
   "name": "python3"
  },
  "language_info": {
   "codemirror_mode": {
    "name": "ipython",
    "version": 3
   },
   "file_extension": ".py",
   "mimetype": "text/x-python",
   "name": "python",
   "nbconvert_exporter": "python",
   "pygments_lexer": "ipython3",
   "version": "3.7.4"
  }
 },
 "nbformat": 4,
 "nbformat_minor": 2
}
