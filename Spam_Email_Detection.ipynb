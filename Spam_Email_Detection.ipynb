{
  "nbformat": 4,
  "nbformat_minor": 0,
  "metadata": {
    "colab": {
      "name": "Spam Email Detection",
      "provenance": [],
      "collapsed_sections": [],
      "toc_visible": true
    },
    "kernelspec": {
      "name": "python3",
      "display_name": "Python 3"
    },
    "accelerator": "GPU"
  },
  "cells": [
    {
      "cell_type": "code",
      "metadata": {
        "id": "w22fjvnijzWz",
        "colab_type": "code",
        "colab": {}
      },
      "source": [
        "%tensorflow_version 2.x"
      ],
      "execution_count": 0,
      "outputs": []
    },
    {
      "cell_type": "code",
      "metadata": {
        "id": "fFPQqlgNkDOP",
        "colab_type": "code",
        "colab": {}
      },
      "source": [
        "import pandas as pd\n",
        "import numpy as np"
      ],
      "execution_count": 0,
      "outputs": []
    },
    {
      "cell_type": "code",
      "metadata": {
        "id": "_aaXGA1nkE_6",
        "colab_type": "code",
        "colab": {
          "base_uri": "https://localhost:8080/",
          "height": 373
        },
        "outputId": "472de27f-e55f-4e66-b600-14705acbbcbe"
      },
      "source": [
        "!wget https://www.dropbox.com/s/qvxz4qnyfb8w3re/train%20test%20data.csv?dl=0"
      ],
      "execution_count": 3,
      "outputs": [
        {
          "output_type": "stream",
          "text": [
            "--2020-04-19 13:11:11--  https://www.dropbox.com/s/qvxz4qnyfb8w3re/train%20test%20data.csv?dl=0\n",
            "Resolving www.dropbox.com (www.dropbox.com)... 162.125.65.1, 2620:100:6021:1::a27d:4101\n",
            "Connecting to www.dropbox.com (www.dropbox.com)|162.125.65.1|:443... connected.\n",
            "HTTP request sent, awaiting response... 301 Moved Permanently\n",
            "Location: /s/raw/qvxz4qnyfb8w3re/train%20test%20data.csv [following]\n",
            "--2020-04-19 13:11:11--  https://www.dropbox.com/s/raw/qvxz4qnyfb8w3re/train%20test%20data.csv\n",
            "Reusing existing connection to www.dropbox.com:443.\n",
            "HTTP request sent, awaiting response... 302 Found\n",
            "Location: https://uca4cb559d14ec690ce95fb79a6b.dl.dropboxusercontent.com/cd/0/inline/A2JVwoFUr0YRwdaBFwZ-AmIJpBEXDCCMWiDB9KHQ7RchPtVJxqjRBrzVTAYlZkkqzl6oQNSNGwtQ6s5BP5dnmUGf8EnZ2BtfFxZQjk4x85B6lS8npWaBUd6Gpw4qz-65LSU/file# [following]\n",
            "--2020-04-19 13:11:12--  https://uca4cb559d14ec690ce95fb79a6b.dl.dropboxusercontent.com/cd/0/inline/A2JVwoFUr0YRwdaBFwZ-AmIJpBEXDCCMWiDB9KHQ7RchPtVJxqjRBrzVTAYlZkkqzl6oQNSNGwtQ6s5BP5dnmUGf8EnZ2BtfFxZQjk4x85B6lS8npWaBUd6Gpw4qz-65LSU/file\n",
            "Resolving uca4cb559d14ec690ce95fb79a6b.dl.dropboxusercontent.com (uca4cb559d14ec690ce95fb79a6b.dl.dropboxusercontent.com)... 162.125.65.6, 2620:100:6021:6::a27d:4106\n",
            "Connecting to uca4cb559d14ec690ce95fb79a6b.dl.dropboxusercontent.com (uca4cb559d14ec690ce95fb79a6b.dl.dropboxusercontent.com)|162.125.65.6|:443... connected.\n",
            "HTTP request sent, awaiting response... 200 OK\n",
            "Length: 45422569 (43M) [text/plain]\n",
            "Saving to: ‘train test data.csv?dl=0’\n",
            "\n",
            "train test data.csv 100%[===================>]  43.32M  58.7MB/s    in 0.7s    \n",
            "\n",
            "2020-04-19 13:11:13 (58.7 MB/s) - ‘train test data.csv?dl=0’ saved [45422569/45422569]\n",
            "\n"
          ],
          "name": "stdout"
        }
      ]
    },
    {
      "cell_type": "code",
      "metadata": {
        "id": "1Ora72VAkGUO",
        "colab_type": "code",
        "colab": {}
      },
      "source": [
        "data=pd.read_csv(r'/content/train test data.csv?dl=0')"
      ],
      "execution_count": 0,
      "outputs": []
    },
    {
      "cell_type": "code",
      "metadata": {
        "id": "3JwQUmLZzOOK",
        "colab_type": "code",
        "colab": {}
      },
      "source": [
        "data=data[~data['Body'].isnull()]\n"
      ],
      "execution_count": 0,
      "outputs": []
    },
    {
      "cell_type": "code",
      "metadata": {
        "id": "IK9rynGikIRx",
        "colab_type": "code",
        "colab": {
          "base_uri": "https://localhost:8080/",
          "height": 185
        },
        "outputId": "20f11c0b-63d8-48c2-dce1-e89323a9086c"
      },
      "source": [
        "import re\n",
        "import nltk\n",
        "nltk.download('stopwords')\n",
        "nltk.download('punkt')\n",
        "nltk.download('wordnet')\n",
        "nltk.download('averaged_perceptron_tagger')\n",
        "import re\n",
        "from nltk.corpus import wordnet\n",
        "from nltk.stem.wordnet import WordNetLemmatizer\n",
        "from nltk.corpus import stopwords\n",
        "from string import punctuation\n",
        "from nltk.stem.snowball import SnowballStemmer\n",
        "from nltk import WordNetLemmatizer, pos_tag, word_tokenize\n",
        "lemma = WordNetLemmatizer()\n",
        "my_stop=set(stopwords.words('english')+list(punctuation))\n",
        "\n",
        "from nltk import word_tokenize\n",
        "from tensorflow.keras.preprocessing.text import Tokenizer\n",
        "from tensorflow.keras.preprocessing import sequence\n",
        "\n",
        "\n",
        "from sklearn.feature_extraction.text import CountVectorizer, TfidfVectorizer\n",
        "from sklearn.model_selection import train_test_split\n"
      ],
      "execution_count": 51,
      "outputs": [
        {
          "output_type": "stream",
          "text": [
            "[nltk_data] Downloading package stopwords to /root/nltk_data...\n",
            "[nltk_data]   Package stopwords is already up-to-date!\n",
            "[nltk_data] Downloading package punkt to /root/nltk_data...\n",
            "[nltk_data]   Package punkt is already up-to-date!\n",
            "[nltk_data] Downloading package wordnet to /root/nltk_data...\n",
            "[nltk_data]   Package wordnet is already up-to-date!\n",
            "[nltk_data] Downloading package averaged_perceptron_tagger to\n",
            "[nltk_data]     /root/nltk_data...\n",
            "[nltk_data]   Package averaged_perceptron_tagger is already up-to-\n",
            "[nltk_data]       date!\n"
          ],
          "name": "stdout"
        }
      ]
    },
    {
      "cell_type": "code",
      "metadata": {
        "id": "FcgOV86CkNEH",
        "colab_type": "code",
        "colab": {}
      },
      "source": [
        "data['concate']=data[['Subject','Body']].apply(lambda x:' '.join(x.astype(str)),axis=1)\n",
        "df=data.loc[:,['concate','Class']]"
      ],
      "execution_count": 0,
      "outputs": []
    },
    {
      "cell_type": "code",
      "metadata": {
        "id": "6skL-0aLkP8R",
        "colab_type": "code",
        "colab": {}
      },
      "source": [
        "df_train,df_test=train_test_split(df,test_size=0.2,random_state=2)"
      ],
      "execution_count": 0,
      "outputs": []
    },
    {
      "cell_type": "code",
      "metadata": {
        "id": "SmsHZ0LAkZZI",
        "colab_type": "code",
        "colab": {}
      },
      "source": [
        "y_train=(df_train['Class']=='spam').astype(int)\n",
        "y_train.reset_index(inplace=True,drop=True)\n",
        "y_test=(df_test['Class']=='spam').astype(int)\n",
        "y_test.reset_index(inplace=True,drop=True)"
      ],
      "execution_count": 0,
      "outputs": []
    },
    {
      "cell_type": "code",
      "metadata": {
        "id": "h0Fd8nWUk1JN",
        "colab_type": "code",
        "colab": {}
      },
      "source": [
        "df_train.reset_index(inplace=True,drop=True)\n",
        "df_test.reset_index(inplace=True,drop=True)"
      ],
      "execution_count": 0,
      "outputs": []
    },
    {
      "cell_type": "code",
      "metadata": {
        "id": "f3ZgHNbnknUs",
        "colab_type": "code",
        "colab": {}
      },
      "source": [
        "my_stop=set(stopwords.words('english')+list(punctuation)+[i for i in '0123456789'])"
      ],
      "execution_count": 0,
      "outputs": []
    },
    {
      "cell_type": "code",
      "metadata": {
        "id": "JMxgsG2RksRt",
        "colab_type": "code",
        "colab": {}
      },
      "source": [
        "def lemmatize(text):\n",
        "    \"\"\" Tokenize text and lemmatize word tokens \"\"\"\n",
        "    \n",
        "    text=text.lower()\n",
        "    def get_pos(tag):\n",
        "        if tag.startswith('J'):\n",
        "            return wordnet.ADJ\n",
        "        elif tag.startswith('V'):\n",
        "            return wordnet.VERB\n",
        "        elif tag.startswith('N'):\n",
        "            return wordnet.NOUN\n",
        "        elif tag.startswith('R'):\n",
        "            return wordnet.ADV\n",
        "        return wordnet.NOUN\n",
        "    \n",
        "    wnl = WordNetLemmatizer()\n",
        "    num=re.compile(u'(?ui)\\\\b\\\\w*[a-z]+\\\\w*\\\\b')\n",
        "    return [wnl.lemmatize(token, get_pos(tag)) for token, tag in pos_tag(word_tokenize(text)) if (token not in my_stop) and (num.search(token)!=None)]\n",
        "\n",
        "tf=TfidfVectorizer(tokenizer=lemmatize ,min_df=100,max_df=500)"
      ],
      "execution_count": 0,
      "outputs": []
    },
    {
      "cell_type": "code",
      "metadata": {
        "id": "26SftC9dlBJx",
        "colab_type": "code",
        "colab": {
          "base_uri": "https://localhost:8080/",
          "height": 70
        },
        "outputId": "44cd9076-593c-496b-995a-98f3ab3d6650"
      },
      "source": [
        "tf.fit(df_train['concate'])\n",
        "train_tf=tf.transform(df_train['concate'])\n"
      ],
      "execution_count": 12,
      "outputs": [
        {
          "output_type": "stream",
          "text": [
            "/usr/local/lib/python3.6/dist-packages/sklearn/feature_extraction/text.py:507: UserWarning: The parameter 'token_pattern' will not be used since 'tokenizer' is not None'\n",
            "  warnings.warn(\"The parameter 'token_pattern' will not be used\"\n"
          ],
          "name": "stderr"
        }
      ]
    },
    {
      "cell_type": "code",
      "metadata": {
        "id": "Xzm-t4rqlBqP",
        "colab_type": "code",
        "colab": {}
      },
      "source": [
        "x_train_tf=pd.DataFrame(train_tf.toarray(),columns=tf.get_feature_names())\n",
        "col=x_train_tf.columns"
      ],
      "execution_count": 0,
      "outputs": []
    },
    {
      "cell_type": "code",
      "metadata": {
        "id": "MAIZpHyG2WCz",
        "colab_type": "code",
        "colab": {
          "base_uri": "https://localhost:8080/",
          "height": 67
        },
        "outputId": "025b9685-68e2-473f-9f12-46486fff2e02"
      },
      "source": [
        "print(x_train_tf.shape,y_train.shape)\n",
        "print(x_test_tf.shape,y_test.shape)\n",
        "\n",
        "input_len=x_train_tf.shape[1]\n",
        "print(input_len,type(input_len))"
      ],
      "execution_count": 34,
      "outputs": [
        {
          "output_type": "stream",
          "text": [
            "(26600, 2219) (26600,)\n",
            "(6651, 2219) (6651,)\n",
            "2219 <class 'int'>\n"
          ],
          "name": "stdout"
        }
      ]
    },
    {
      "cell_type": "code",
      "metadata": {
        "id": "dfKFwIctlLEG",
        "colab_type": "code",
        "colab": {}
      },
      "source": [
        "test_tf=tf.transform(df_test['concate'])\n",
        "x_test_tf=pd.DataFrame(test_tf.toarray(),columns=tf.get_feature_names())"
      ],
      "execution_count": 0,
      "outputs": []
    },
    {
      "cell_type": "code",
      "metadata": {
        "id": "7YiK2gJalLnW",
        "colab_type": "code",
        "colab": {}
      },
      "source": [
        "from tensorflow.keras.models import Sequential\n",
        "from tensorflow.keras.layers import Dense, LeakyReLU, Dropout, LSTM\n",
        "from tensorflow.keras import backend as K\n",
        "\n",
        "from tensorflow.keras.backend import sigmoid\n",
        "from tensorflow.keras import activations\n",
        "\n",
        "from sklearn.metrics import roc_auc_score\n",
        "from sklearn.metrics import fbeta_score"
      ],
      "execution_count": 0,
      "outputs": []
    },
    {
      "cell_type": "code",
      "metadata": {
        "id": "Q2Di7mhXlPod",
        "colab_type": "code",
        "colab": {}
      },
      "source": [
        "model = Sequential()\n",
        "\n",
        "model.add(Dense(1000,input_dim=input_len,activation='relu'))\n",
        "\n",
        "model.add(Dropout(0.1))\n",
        "\n",
        "model.add(Dense(500,activation=LeakyReLU()))\n",
        "\n",
        "model.add(Dropout(0.1))\n",
        "\n",
        "model.add(Dense(200,activation='relu'))\n",
        "\n",
        "model.add(Dropout(0.15))\n",
        "\n",
        "model.add(Dense(50,activation=LeakyReLU()))\n",
        "\n",
        "model.add(Dropout(0.1))\n",
        "\n",
        "model.add(Dense(1,activation='sigmoid'))"
      ],
      "execution_count": 0,
      "outputs": []
    },
    {
      "cell_type": "code",
      "metadata": {
        "id": "LSGg5owUljsd",
        "colab_type": "code",
        "colab": {
          "base_uri": "https://localhost:8080/",
          "height": 454
        },
        "outputId": "6ccfc55d-f76d-4242-b257-65cbd288bb24"
      },
      "source": [
        "model.compile(optimizer='adam',loss='binary_crossentropy',metrics=['accuracy'])\n",
        "model.summary()"
      ],
      "execution_count": 36,
      "outputs": [
        {
          "output_type": "stream",
          "text": [
            "Model: \"sequential_1\"\n",
            "_________________________________________________________________\n",
            "Layer (type)                 Output Shape              Param #   \n",
            "=================================================================\n",
            "dense_5 (Dense)              (None, 1000)              2220000   \n",
            "_________________________________________________________________\n",
            "dropout_4 (Dropout)          (None, 1000)              0         \n",
            "_________________________________________________________________\n",
            "dense_6 (Dense)              (None, 500)               500500    \n",
            "_________________________________________________________________\n",
            "dropout_5 (Dropout)          (None, 500)               0         \n",
            "_________________________________________________________________\n",
            "dense_7 (Dense)              (None, 200)               100200    \n",
            "_________________________________________________________________\n",
            "dropout_6 (Dropout)          (None, 200)               0         \n",
            "_________________________________________________________________\n",
            "dense_8 (Dense)              (None, 50)                10050     \n",
            "_________________________________________________________________\n",
            "dropout_7 (Dropout)          (None, 50)                0         \n",
            "_________________________________________________________________\n",
            "dense_9 (Dense)              (None, 1)                 51        \n",
            "=================================================================\n",
            "Total params: 2,830,801\n",
            "Trainable params: 2,830,801\n",
            "Non-trainable params: 0\n",
            "_________________________________________________________________\n"
          ],
          "name": "stdout"
        }
      ]
    },
    {
      "cell_type": "code",
      "metadata": {
        "id": "jD-i3QhClmRp",
        "colab_type": "code",
        "colab": {
          "base_uri": "https://localhost:8080/",
          "height": 953
        },
        "outputId": "ade82607-d5a4-4d33-9eb5-649b262885b7"
      },
      "source": [
        "from tensorflow.keras.utils import plot_model\n",
        "plot_model(model)"
      ],
      "execution_count": 37,
      "outputs": [
        {
          "output_type": "execute_result",
          "data": {
            "image/png": "[encoded data removed]",
            "text/plain": [
              "<IPython.core.display.Image object>"
            ]
          },
          "metadata": {
            "tags": []
          },
          "execution_count": 37
        }
      ]
    },
    {
      "cell_type": "code",
      "metadata": {
        "id": "jPOGLgvHlpIz",
        "colab_type": "code",
        "colab": {
          "base_uri": "https://localhost:8080/",
          "height": 1000
        },
        "outputId": "1516587c-c5d4-4319-b1c4-9d3d37855eff"
      },
      "source": [
        "model.fit(x_train_tf,y_train.values,validation_data=(x_test_tf,y_test.values),epochs=100,batch_size=100,verbose=1)"
      ],
      "execution_count": 38,
      "outputs": [
        {
          "output_type": "stream",
          "text": [
            "Epoch 1/100\n",
            "266/266 [==============================] - 1s 5ms/step - loss: 0.1559 - accuracy: 0.9325 - val_loss: 0.1147 - val_accuracy: 0.9505\n",
            "Epoch 2/100\n",
            "266/266 [==============================] - 1s 5ms/step - loss: 0.0640 - accuracy: 0.9731 - val_loss: 0.1095 - val_accuracy: 0.9549\n",
            "Epoch 3/100\n",
            "266/266 [==============================] - 1s 4ms/step - loss: 0.0375 - accuracy: 0.9830 - val_loss: 0.1466 - val_accuracy: 0.9556\n",
            "Epoch 4/100\n",
            "266/266 [==============================] - 1s 4ms/step - loss: 0.0269 - accuracy: 0.9866 - val_loss: 0.2415 - val_accuracy: 0.9553\n",
            "Epoch 5/100\n",
            "266/266 [==============================] - 1s 5ms/step - loss: 0.0255 - accuracy: 0.9868 - val_loss: 0.2009 - val_accuracy: 0.9562\n",
            "Epoch 6/100\n",
            "266/266 [==============================] - 1s 4ms/step - loss: 0.0275 - accuracy: 0.9858 - val_loss: 0.2383 - val_accuracy: 0.9513\n",
            "Epoch 7/100\n",
            "266/266 [==============================] - 1s 4ms/step - loss: 0.0271 - accuracy: 0.9858 - val_loss: 0.2228 - val_accuracy: 0.9535\n",
            "Epoch 8/100\n",
            "266/266 [==============================] - 1s 4ms/step - loss: 0.0254 - accuracy: 0.9867 - val_loss: 0.2375 - val_accuracy: 0.9535\n",
            "Epoch 9/100\n",
            "266/266 [==============================] - 1s 4ms/step - loss: 0.0227 - accuracy: 0.9875 - val_loss: 0.2852 - val_accuracy: 0.9544\n",
            "Epoch 10/100\n",
            "266/266 [==============================] - 1s 4ms/step - loss: 0.0222 - accuracy: 0.9876 - val_loss: 0.2757 - val_accuracy: 0.9537\n",
            "Epoch 11/100\n",
            "266/266 [==============================] - 1s 4ms/step - loss: 0.0220 - accuracy: 0.9877 - val_loss: 0.3002 - val_accuracy: 0.9529\n",
            "Epoch 12/100\n",
            "266/266 [==============================] - 1s 4ms/step - loss: 0.0218 - accuracy: 0.9878 - val_loss: 0.3280 - val_accuracy: 0.9540\n",
            "Epoch 13/100\n",
            "266/266 [==============================] - 1s 4ms/step - loss: 0.0224 - accuracy: 0.9877 - val_loss: 0.2422 - val_accuracy: 0.9546\n",
            "Epoch 14/100\n",
            "266/266 [==============================] - 1s 4ms/step - loss: 0.0219 - accuracy: 0.9877 - val_loss: 0.3053 - val_accuracy: 0.9541\n",
            "Epoch 15/100\n",
            "266/266 [==============================] - 1s 4ms/step - loss: 0.0218 - accuracy: 0.9877 - val_loss: 0.3376 - val_accuracy: 0.9543\n",
            "Epoch 16/100\n",
            "266/266 [==============================] - 1s 4ms/step - loss: 0.0218 - accuracy: 0.9880 - val_loss: 0.3267 - val_accuracy: 0.9544\n",
            "Epoch 17/100\n",
            "266/266 [==============================] - 1s 4ms/step - loss: 0.0217 - accuracy: 0.9877 - val_loss: 0.3558 - val_accuracy: 0.9541\n",
            "Epoch 18/100\n",
            "266/266 [==============================] - 1s 4ms/step - loss: 0.0221 - accuracy: 0.9878 - val_loss: 0.2912 - val_accuracy: 0.9511\n",
            "Epoch 19/100\n",
            "266/266 [==============================] - 1s 4ms/step - loss: 0.0274 - accuracy: 0.9862 - val_loss: 0.1831 - val_accuracy: 0.9526\n",
            "Epoch 20/100\n",
            "266/266 [==============================] - 1s 4ms/step - loss: 0.0285 - accuracy: 0.9859 - val_loss: 0.2455 - val_accuracy: 0.9540\n",
            "Epoch 21/100\n",
            "266/266 [==============================] - 1s 4ms/step - loss: 0.0255 - accuracy: 0.9867 - val_loss: 0.2074 - val_accuracy: 0.9522\n",
            "Epoch 22/100\n",
            "266/266 [==============================] - 1s 4ms/step - loss: 0.0223 - accuracy: 0.9878 - val_loss: 0.3111 - val_accuracy: 0.9549\n",
            "Epoch 23/100\n",
            "266/266 [==============================] - 1s 4ms/step - loss: 0.0225 - accuracy: 0.9877 - val_loss: 0.2924 - val_accuracy: 0.9543\n",
            "Epoch 24/100\n",
            "266/266 [==============================] - 1s 4ms/step - loss: 0.0219 - accuracy: 0.9876 - val_loss: 0.2983 - val_accuracy: 0.9538\n",
            "Epoch 25/100\n",
            "266/266 [==============================] - 1s 4ms/step - loss: 0.0218 - accuracy: 0.9877 - val_loss: 0.3003 - val_accuracy: 0.9541\n",
            "Epoch 26/100\n",
            "266/266 [==============================] - 1s 5ms/step - loss: 0.0217 - accuracy: 0.9878 - val_loss: 0.3320 - val_accuracy: 0.9546\n",
            "Epoch 27/100\n",
            "266/266 [==============================] - 1s 4ms/step - loss: 0.0218 - accuracy: 0.9875 - val_loss: 0.3121 - val_accuracy: 0.9547\n",
            "Epoch 28/100\n",
            "266/266 [==============================] - 1s 4ms/step - loss: 0.0216 - accuracy: 0.9879 - val_loss: 0.3347 - val_accuracy: 0.9543\n",
            "Epoch 29/100\n",
            "266/266 [==============================] - 1s 4ms/step - loss: 0.0216 - accuracy: 0.9879 - val_loss: 0.3453 - val_accuracy: 0.9543\n",
            "Epoch 30/100\n",
            "266/266 [==============================] - 1s 4ms/step - loss: 0.0217 - accuracy: 0.9877 - val_loss: 0.3518 - val_accuracy: 0.9552\n",
            "Epoch 31/100\n",
            "266/266 [==============================] - 1s 4ms/step - loss: 0.0222 - accuracy: 0.9876 - val_loss: 0.2792 - val_accuracy: 0.9544\n",
            "Epoch 32/100\n",
            "266/266 [==============================] - 1s 4ms/step - loss: 0.0219 - accuracy: 0.9878 - val_loss: 0.2490 - val_accuracy: 0.9543\n",
            "Epoch 33/100\n",
            "266/266 [==============================] - 1s 4ms/step - loss: 0.0221 - accuracy: 0.9877 - val_loss: 0.3035 - val_accuracy: 0.9543\n",
            "Epoch 34/100\n",
            "266/266 [==============================] - 1s 4ms/step - loss: 0.0225 - accuracy: 0.9877 - val_loss: 0.3296 - val_accuracy: 0.9543\n",
            "Epoch 35/100\n",
            "266/266 [==============================] - 1s 4ms/step - loss: 0.0217 - accuracy: 0.9876 - val_loss: 0.3668 - val_accuracy: 0.9541\n",
            "Epoch 36/100\n",
            "266/266 [==============================] - 1s 4ms/step - loss: 0.0217 - accuracy: 0.9878 - val_loss: 0.3907 - val_accuracy: 0.9549\n",
            "Epoch 37/100\n",
            "266/266 [==============================] - 1s 4ms/step - loss: 0.0217 - accuracy: 0.9876 - val_loss: 0.3683 - val_accuracy: 0.9549\n",
            "Epoch 38/100\n",
            "266/266 [==============================] - 1s 4ms/step - loss: 0.0216 - accuracy: 0.9879 - val_loss: 0.3903 - val_accuracy: 0.9544\n",
            "Epoch 39/100\n",
            "266/266 [==============================] - 1s 4ms/step - loss: 0.0217 - accuracy: 0.9877 - val_loss: 0.3810 - val_accuracy: 0.9544\n",
            "Epoch 40/100\n",
            "266/266 [==============================] - 1s 5ms/step - loss: 0.0217 - accuracy: 0.9877 - val_loss: 0.3783 - val_accuracy: 0.9549\n",
            "Epoch 41/100\n",
            "266/266 [==============================] - 1s 4ms/step - loss: 0.0216 - accuracy: 0.9879 - val_loss: 0.4018 - val_accuracy: 0.9543\n",
            "Epoch 42/100\n",
            "266/266 [==============================] - 1s 5ms/step - loss: 0.0216 - accuracy: 0.9878 - val_loss: 0.4152 - val_accuracy: 0.9544\n",
            "Epoch 43/100\n",
            "266/266 [==============================] - 1s 4ms/step - loss: 0.0219 - accuracy: 0.9877 - val_loss: 0.4479 - val_accuracy: 0.9546\n",
            "Epoch 44/100\n",
            "266/266 [==============================] - 1s 4ms/step - loss: 0.0255 - accuracy: 0.9869 - val_loss: 0.1924 - val_accuracy: 0.9547\n",
            "Epoch 45/100\n",
            "266/266 [==============================] - 1s 4ms/step - loss: 0.0282 - accuracy: 0.9857 - val_loss: 0.2846 - val_accuracy: 0.9541\n",
            "Epoch 46/100\n",
            "266/266 [==============================] - 1s 5ms/step - loss: 0.0225 - accuracy: 0.9877 - val_loss: 0.2635 - val_accuracy: 0.9531\n",
            "Epoch 47/100\n",
            "266/266 [==============================] - 1s 4ms/step - loss: 0.0217 - accuracy: 0.9878 - val_loss: 0.3456 - val_accuracy: 0.9541\n",
            "Epoch 48/100\n",
            "266/266 [==============================] - 1s 4ms/step - loss: 0.0216 - accuracy: 0.9880 - val_loss: 0.3678 - val_accuracy: 0.9541\n",
            "Epoch 49/100\n",
            "266/266 [==============================] - 1s 4ms/step - loss: 0.0219 - accuracy: 0.9879 - val_loss: 0.3043 - val_accuracy: 0.9543\n",
            "Epoch 50/100\n",
            "266/266 [==============================] - 1s 4ms/step - loss: 0.0216 - accuracy: 0.9877 - val_loss: 0.3370 - val_accuracy: 0.9543\n",
            "Epoch 51/100\n",
            "266/266 [==============================] - 1s 4ms/step - loss: 0.0216 - accuracy: 0.9877 - val_loss: 0.3474 - val_accuracy: 0.9543\n",
            "Epoch 52/100\n",
            "266/266 [==============================] - 1s 4ms/step - loss: 0.0217 - accuracy: 0.9877 - val_loss: 0.3558 - val_accuracy: 0.9543\n",
            "Epoch 53/100\n",
            "266/266 [==============================] - 1s 4ms/step - loss: 0.0216 - accuracy: 0.9880 - val_loss: 0.3597 - val_accuracy: 0.9543\n",
            "Epoch 54/100\n",
            "266/266 [==============================] - 1s 4ms/step - loss: 0.0216 - accuracy: 0.9879 - val_loss: 0.3772 - val_accuracy: 0.9541\n",
            "Epoch 55/100\n",
            "266/266 [==============================] - 1s 4ms/step - loss: 0.0216 - accuracy: 0.9879 - val_loss: 0.3639 - val_accuracy: 0.9540\n",
            "Epoch 56/100\n",
            "266/266 [==============================] - 1s 4ms/step - loss: 0.0219 - accuracy: 0.9878 - val_loss: 0.2743 - val_accuracy: 0.9547\n",
            "Epoch 57/100\n",
            "266/266 [==============================] - 1s 4ms/step - loss: 0.0217 - accuracy: 0.9879 - val_loss: 0.3287 - val_accuracy: 0.9547\n",
            "Epoch 58/100\n",
            "266/266 [==============================] - 1s 5ms/step - loss: 0.0217 - accuracy: 0.9879 - val_loss: 0.3671 - val_accuracy: 0.9544\n",
            "Epoch 59/100\n",
            "266/266 [==============================] - 1s 5ms/step - loss: 0.0216 - accuracy: 0.9877 - val_loss: 0.3640 - val_accuracy: 0.9547\n",
            "Epoch 60/100\n",
            "266/266 [==============================] - 1s 5ms/step - loss: 0.0218 - accuracy: 0.9878 - val_loss: 0.3798 - val_accuracy: 0.9529\n",
            "Epoch 61/100\n",
            "266/266 [==============================] - 1s 5ms/step - loss: 0.0221 - accuracy: 0.9878 - val_loss: 0.3140 - val_accuracy: 0.9535\n",
            "Epoch 62/100\n",
            "266/266 [==============================] - 1s 4ms/step - loss: 0.0216 - accuracy: 0.9879 - val_loss: 0.3922 - val_accuracy: 0.9531\n",
            "Epoch 63/100\n",
            "266/266 [==============================] - 1s 5ms/step - loss: 0.0216 - accuracy: 0.9878 - val_loss: 0.4198 - val_accuracy: 0.9535\n",
            "Epoch 64/100\n",
            "266/266 [==============================] - 1s 5ms/step - loss: 0.0218 - accuracy: 0.9879 - val_loss: 0.3400 - val_accuracy: 0.9538\n",
            "Epoch 65/100\n",
            "266/266 [==============================] - 1s 5ms/step - loss: 0.0223 - accuracy: 0.9876 - val_loss: 0.4082 - val_accuracy: 0.9525\n",
            "Epoch 66/100\n",
            "266/266 [==============================] - 1s 5ms/step - loss: 0.0226 - accuracy: 0.9877 - val_loss: 0.3440 - val_accuracy: 0.9531\n",
            "Epoch 67/100\n",
            "266/266 [==============================] - 1s 4ms/step - loss: 0.0224 - accuracy: 0.9878 - val_loss: 0.3841 - val_accuracy: 0.9522\n",
            "Epoch 68/100\n",
            "266/266 [==============================] - 1s 4ms/step - loss: 0.0255 - accuracy: 0.9871 - val_loss: 0.2006 - val_accuracy: 0.9534\n",
            "Epoch 69/100\n",
            "266/266 [==============================] - 1s 4ms/step - loss: 0.0233 - accuracy: 0.9874 - val_loss: 0.2897 - val_accuracy: 0.9559\n",
            "Epoch 70/100\n",
            "266/266 [==============================] - 1s 4ms/step - loss: 0.0219 - accuracy: 0.9877 - val_loss: 0.2885 - val_accuracy: 0.9556\n",
            "Epoch 71/100\n",
            "266/266 [==============================] - 1s 4ms/step - loss: 0.0216 - accuracy: 0.9878 - val_loss: 0.3106 - val_accuracy: 0.9543\n",
            "Epoch 72/100\n",
            "266/266 [==============================] - 1s 4ms/step - loss: 0.0217 - accuracy: 0.9878 - val_loss: 0.3209 - val_accuracy: 0.9543\n",
            "Epoch 73/100\n",
            "266/266 [==============================] - 1s 4ms/step - loss: 0.0217 - accuracy: 0.9878 - val_loss: 0.3270 - val_accuracy: 0.9543\n",
            "Epoch 74/100\n",
            "266/266 [==============================] - 1s 4ms/step - loss: 0.0216 - accuracy: 0.9879 - val_loss: 0.3505 - val_accuracy: 0.9544\n",
            "Epoch 75/100\n",
            "266/266 [==============================] - 1s 4ms/step - loss: 0.0217 - accuracy: 0.9877 - val_loss: 0.3618 - val_accuracy: 0.9546\n",
            "Epoch 76/100\n",
            "266/266 [==============================] - 1s 4ms/step - loss: 0.0216 - accuracy: 0.9877 - val_loss: 0.3528 - val_accuracy: 0.9541\n",
            "Epoch 77/100\n",
            "266/266 [==============================] - 1s 4ms/step - loss: 0.0216 - accuracy: 0.9879 - val_loss: 0.3517 - val_accuracy: 0.9543\n",
            "Epoch 78/100\n",
            "266/266 [==============================] - 1s 4ms/step - loss: 0.0216 - accuracy: 0.9877 - val_loss: 0.3950 - val_accuracy: 0.9543\n",
            "Epoch 79/100\n",
            "266/266 [==============================] - 1s 4ms/step - loss: 0.0216 - accuracy: 0.9880 - val_loss: 0.3806 - val_accuracy: 0.9549\n",
            "Epoch 80/100\n",
            "266/266 [==============================] - 1s 4ms/step - loss: 0.0216 - accuracy: 0.9876 - val_loss: 0.3884 - val_accuracy: 0.9540\n",
            "Epoch 81/100\n",
            "266/266 [==============================] - 1s 4ms/step - loss: 0.0217 - accuracy: 0.9878 - val_loss: 0.3460 - val_accuracy: 0.9552\n",
            "Epoch 82/100\n",
            "266/266 [==============================] - 1s 4ms/step - loss: 0.0216 - accuracy: 0.9879 - val_loss: 0.3665 - val_accuracy: 0.9546\n",
            "Epoch 83/100\n",
            "266/266 [==============================] - 1s 4ms/step - loss: 0.0216 - accuracy: 0.9879 - val_loss: 0.3873 - val_accuracy: 0.9547\n",
            "Epoch 84/100\n",
            "266/266 [==============================] - 1s 4ms/step - loss: 0.0216 - accuracy: 0.9879 - val_loss: 0.4175 - val_accuracy: 0.9552\n",
            "Epoch 85/100\n",
            "266/266 [==============================] - 1s 4ms/step - loss: 0.0222 - accuracy: 0.9879 - val_loss: 0.3021 - val_accuracy: 0.9555\n",
            "Epoch 86/100\n",
            "266/266 [==============================] - 1s 4ms/step - loss: 0.0216 - accuracy: 0.9879 - val_loss: 0.4212 - val_accuracy: 0.9556\n",
            "Epoch 87/100\n",
            "266/266 [==============================] - 1s 5ms/step - loss: 0.0222 - accuracy: 0.9877 - val_loss: 0.4378 - val_accuracy: 0.9553\n",
            "Epoch 88/100\n",
            "266/266 [==============================] - 1s 4ms/step - loss: 0.0226 - accuracy: 0.9877 - val_loss: 0.2138 - val_accuracy: 0.9520\n",
            "Epoch 89/100\n",
            "266/266 [==============================] - 1s 4ms/step - loss: 0.0245 - accuracy: 0.9875 - val_loss: 0.2681 - val_accuracy: 0.9555\n",
            "Epoch 90/100\n",
            "266/266 [==============================] - 1s 4ms/step - loss: 0.0224 - accuracy: 0.9877 - val_loss: 0.3113 - val_accuracy: 0.9547\n",
            "Epoch 91/100\n",
            "266/266 [==============================] - 1s 4ms/step - loss: 0.0223 - accuracy: 0.9878 - val_loss: 0.2570 - val_accuracy: 0.9541\n",
            "Epoch 92/100\n",
            "266/266 [==============================] - 1s 4ms/step - loss: 0.0217 - accuracy: 0.9878 - val_loss: 0.3352 - val_accuracy: 0.9558\n",
            "Epoch 93/100\n",
            "266/266 [==============================] - 1s 4ms/step - loss: 0.0216 - accuracy: 0.9880 - val_loss: 0.3376 - val_accuracy: 0.9559\n",
            "Epoch 94/100\n",
            "266/266 [==============================] - 1s 4ms/step - loss: 0.0221 - accuracy: 0.9877 - val_loss: 0.3427 - val_accuracy: 0.9559\n",
            "Epoch 95/100\n",
            "266/266 [==============================] - 1s 4ms/step - loss: 0.0217 - accuracy: 0.9879 - val_loss: 0.2850 - val_accuracy: 0.9559\n",
            "Epoch 96/100\n",
            "266/266 [==============================] - 1s 4ms/step - loss: 0.0216 - accuracy: 0.9879 - val_loss: 0.3530 - val_accuracy: 0.9565\n",
            "Epoch 97/100\n",
            "266/266 [==============================] - 1s 5ms/step - loss: 0.0216 - accuracy: 0.9878 - val_loss: 0.2959 - val_accuracy: 0.9562\n",
            "Epoch 98/100\n",
            "266/266 [==============================] - 1s 4ms/step - loss: 0.0216 - accuracy: 0.9880 - val_loss: 0.3582 - val_accuracy: 0.9559\n",
            "Epoch 99/100\n",
            "266/266 [==============================] - 1s 5ms/step - loss: 0.0216 - accuracy: 0.9880 - val_loss: 0.3650 - val_accuracy: 0.9567\n",
            "Epoch 100/100\n",
            "266/266 [==============================] - 1s 4ms/step - loss: 0.0216 - accuracy: 0.9879 - val_loss: 0.3715 - val_accuracy: 0.9562\n"
          ],
          "name": "stdout"
        },
        {
          "output_type": "execute_result",
          "data": {
            "text/plain": [
              "<tensorflow.python.keras.callbacks.History at 0x7f73ec20ca90>"
            ]
          },
          "metadata": {
            "tags": []
          },
          "execution_count": 38
        }
      ]
    },
    {
      "cell_type": "code",
      "metadata": {
        "id": "nU-gT5mQlu2W",
        "colab_type": "code",
        "colab": {
          "base_uri": "https://localhost:8080/",
          "height": 50
        },
        "outputId": "1de5647f-3fdb-45d6-af5e-d69c3d51f6ba"
      },
      "source": [
        "print('Train Data Accuracy',roc_auc_score(y_train,model.predict(x_train_tf)))\n",
        "\n",
        "print('Test Data Accuracy',roc_auc_score(y_test,model.predict(x_test_tf)))"
      ],
      "execution_count": 39,
      "outputs": [
        {
          "output_type": "stream",
          "text": [
            "Train Data Accuracy 0.9995335688806198\n",
            "Test Data Accuracy 0.9917166148486698\n"
          ],
          "name": "stdout"
        }
      ]
    },
    {
      "cell_type": "code",
      "metadata": {
        "id": "hiqCYyInlvDT",
        "colab_type": "code",
        "colab": {}
      },
      "source": [
        "cutoffs=np.linspace(0.01,0.99,99)\n",
        "real=y_train\n",
        "prob_score=model.predict(x_train_tf)"
      ],
      "execution_count": 0,
      "outputs": []
    },
    {
      "cell_type": "code",
      "metadata": {
        "id": "u7xOrHQClvdx",
        "colab_type": "code",
        "colab": {}
      },
      "source": [
        "KS_cut=[]\n",
        "for cutoff in cutoffs:\n",
        "  predicted=pd.Series([0]*len(y_train))\n",
        "  predicted=(prob_score>cutoff).astype(int)\n",
        "  df=pd.DataFrame(list(zip(y_train,predicted)),columns=[\"real\",\"predicted\"])\n",
        "  TP=len(df[(df[\"real\"]==1) & (df[\"predicted\"]==1) ])\n",
        "  FP=len(df[(df[\"real\"]==0) & (df[\"predicted\"]==1) ])\n",
        "  TN=len(df[(df[\"real\"]==0) & (df[\"predicted\"]==0) ])\n",
        "  FN=len(df[(df[\"real\"]==1) & (df[\"predicted\"]==0) ])\n",
        "  P=TP+FN\n",
        "  N=TN+FP\n",
        "  KS=(TP/P)-(FP/N)\n",
        "  KS_cut.append(KS)\n",
        "\n",
        "cutoff_data=pd.DataFrame(list(zip(cutoffs,KS_cut)),columns=[\"cutoff\",\"KS\"])\n",
        "\n",
        "KS_cutoff=cutoff_data[cutoff_data[\"KS\"]==cutoff_data[\"KS\"].max()][\"cutoff\"]"
      ],
      "execution_count": 0,
      "outputs": []
    },
    {
      "cell_type": "code",
      "metadata": {
        "id": "y2u_ZJFbmFVI",
        "colab_type": "code",
        "colab": {
          "base_uri": "https://localhost:8080/",
          "height": 118
        },
        "outputId": "9a937762-a00c-481c-d00e-6c9191d01800"
      },
      "source": [
        "KS_cutoff"
      ],
      "execution_count": 42,
      "outputs": [
        {
          "output_type": "execute_result",
          "data": {
            "text/plain": [
              "52    0.53\n",
              "53    0.54\n",
              "54    0.55\n",
              "55    0.56\n",
              "56    0.57\n",
              "Name: cutoff, dtype: float64"
            ]
          },
          "metadata": {
            "tags": []
          },
          "execution_count": 42
        }
      ]
    },
    {
      "cell_type": "code",
      "metadata": {
        "id": "XvFyr0wPmFzE",
        "colab_type": "code",
        "colab": {
          "base_uri": "https://localhost:8080/",
          "height": 136
        },
        "outputId": "7cfb1666-0582-46b7-ae0c-294a67ae896d"
      },
      "source": [
        "y_predict_test=model.predict(x_test_tf)\n",
        "binary_predict=((y_predict_test>0.53).astype(int))\n",
        "y_data=pd.DataFrame(binary_predict,columns=['Predicted'])\n",
        "y_data['Original']=y_test\n",
        "pd.crosstab(y_data['Original'],y_data['Predicted'])"
      ],
      "execution_count": 43,
      "outputs": [
        {
          "output_type": "execute_result",
          "data": {
            "text/html": [
              "<div>\n",
              "<style scoped>\n",
              "    .dataframe tbody tr th:only-of-type {\n",
              "        vertical-align: middle;\n",
              "    }\n",
              "\n",
              "    .dataframe tbody tr th {\n",
              "        vertical-align: top;\n",
              "    }\n",
              "\n",
              "    .dataframe thead th {\n",
              "        text-align: right;\n",
              "    }\n",
              "</style>\n",
              "<table border=\"1\" class=\"dataframe\">\n",
              "  <thead>\n",
              "    <tr style=\"text-align: right;\">\n",
              "      <th>Predicted</th>\n",
              "      <th>0</th>\n",
              "      <th>1</th>\n",
              "    </tr>\n",
              "    <tr>\n",
              "      <th>Original</th>\n",
              "      <th></th>\n",
              "      <th></th>\n",
              "    </tr>\n",
              "  </thead>\n",
              "  <tbody>\n",
              "    <tr>\n",
              "      <th>0</th>\n",
              "      <td>3148</td>\n",
              "      <td>99</td>\n",
              "    </tr>\n",
              "    <tr>\n",
              "      <th>1</th>\n",
              "      <td>193</td>\n",
              "      <td>3211</td>\n",
              "    </tr>\n",
              "  </tbody>\n",
              "</table>\n",
              "</div>"
            ],
            "text/plain": [
              "Predicted     0     1\n",
              "Original             \n",
              "0          3148    99\n",
              "1           193  3211"
            ]
          },
          "metadata": {
            "tags": []
          },
          "execution_count": 43
        }
      ]
    },
    {
      "cell_type": "code",
      "metadata": {
        "id": "ERHzcKTylv8E",
        "colab_type": "code",
        "colab": {}
      },
      "source": [
        ""
      ],
      "execution_count": 0,
      "outputs": []
    },
    {
      "cell_type": "markdown",
      "metadata": {
        "id": "XPn4NITmwBPo",
        "colab_type": "text"
      },
      "source": [
        "# Word Embedding"
      ]
    },
    {
      "cell_type": "code",
      "metadata": {
        "id": "3Uca6B84wbfY",
        "colab_type": "code",
        "colab": {}
      },
      "source": [
        "data_train,data_test=train_test_split(data,test_size=0.2,random_state=2)\n",
        "\n",
        "data_train.reset_index(inplace=True,drop=True)\n",
        "data_test.reset_index(inplace=True,drop=True)\n",
        "\n",
        "x_train=data_train.loc[:,['Subject','Body']]\n",
        "x_train.reset_index(inplace=True,drop=True)\n",
        "\n",
        "x_test=data_test.loc[:,['Subject','Body']]\n",
        "x_test.reset_index(inplace=True,drop=True)"
      ],
      "execution_count": 0,
      "outputs": []
    },
    {
      "cell_type": "code",
      "metadata": {
        "id": "9U7gm2wHwJc-",
        "colab_type": "code",
        "colab": {}
      },
      "source": [
        "sen_len=[]\n",
        "\n",
        "for sent in data['Body']:\n",
        "  sen_len.append(len(word_tokenize(sent)))"
      ],
      "execution_count": 0,
      "outputs": []
    },
    {
      "cell_type": "code",
      "metadata": {
        "id": "JmWiu74-wr0t",
        "colab_type": "code",
        "colab": {
          "base_uri": "https://localhost:8080/",
          "height": 386
        },
        "outputId": "545b9570-b389-4b0c-8d49-2bdf3daf412d"
      },
      "source": [
        "!wget http://nlp.stanford.edu/data/glove.840B.300d.zip\n",
        "\n",
        "!unzip /content/glove.840B.300d.zip"
      ],
      "execution_count": 46,
      "outputs": [
        {
          "output_type": "stream",
          "text": [
            "--2020-04-19 14:40:23--  http://nlp.stanford.edu/data/glove.840B.300d.zip\n",
            "Resolving nlp.stanford.edu (nlp.stanford.edu)... 171.64.67.140\n",
            "Connecting to nlp.stanford.edu (nlp.stanford.edu)|171.64.67.140|:80... connected.\n",
            "HTTP request sent, awaiting response... 302 Found\n",
            "Location: https://nlp.stanford.edu/data/glove.840B.300d.zip [following]\n",
            "--2020-04-19 14:40:23--  https://nlp.stanford.edu/data/glove.840B.300d.zip\n",
            "Connecting to nlp.stanford.edu (nlp.stanford.edu)|171.64.67.140|:443... connected.\n",
            "HTTP request sent, awaiting response... 301 Moved Permanently\n",
            "Location: http://downloads.cs.stanford.edu/nlp/data/glove.840B.300d.zip [following]\n",
            "--2020-04-19 14:40:24--  http://downloads.cs.stanford.edu/nlp/data/glove.840B.300d.zip\n",
            "Resolving downloads.cs.stanford.edu (downloads.cs.stanford.edu)... 171.64.64.22\n",
            "Connecting to downloads.cs.stanford.edu (downloads.cs.stanford.edu)|171.64.64.22|:80... connected.\n",
            "HTTP request sent, awaiting response... 200 OK\n",
            "Length: 2176768927 (2.0G) [application/zip]\n",
            "Saving to: ‘glove.840B.300d.zip’\n",
            "\n",
            "glove.840B.300d.zip 100%[===================>]   2.03G  1.98MB/s    in 16m 58s \n",
            "\n",
            "2020-04-19 14:57:22 (2.04 MB/s) - ‘glove.840B.300d.zip’ saved [2176768927/2176768927]\n",
            "\n",
            "Archive:  /content/glove.840B.300d.zip\n",
            "  inflating: glove.840B.300d.txt     \n"
          ],
          "name": "stdout"
        }
      ]
    },
    {
      "cell_type": "code",
      "metadata": {
        "id": "-HOqeC8-wrpO",
        "colab_type": "code",
        "colab": {}
      },
      "source": [
        "embedding_index={}\n",
        "\n",
        "f=open('glove.840B.300d.txt','r',errors='ignore',encoding='utf8')\n",
        "\n",
        "for line in f:\n",
        "  values=line.split()\n",
        "  word=values[0]\n",
        "  coefs=np.asarray(values[-300:],dtype='float32')\n",
        "  embedding_index[word]=coefs\n",
        "f.close()"
      ],
      "execution_count": 0,
      "outputs": []
    },
    {
      "cell_type": "code",
      "metadata": {
        "id": "mRB19cJLwrgV",
        "colab_type": "code",
        "colab": {
          "base_uri": "https://localhost:8080/",
          "height": 34
        },
        "outputId": "08ea57e5-1358-4982-8373-ad49370121a3"
      },
      "source": [
        "# Subject word embedding on train and test data\n",
        "\n",
        "max_len_sub = 15\n",
        "tok_sub = Tokenizer(char_level=False,split=' ')\n",
        "tok_sub.fit_on_texts(data_train['Subject'])\n",
        "\n",
        "vocab_len_sub=len(tok_sub.word_index)\n",
        "print(\"vocab_len_sub :\",vocab_len_sub)\n",
        "\n",
        "sequence_sub=tok_sub.texts_to_sequences(data_train['Subject'])\n",
        "sequence_matrix_sub=sequence.pad_sequences(sequence_sub,maxlen=max_len_sub)\n",
        "\n",
        "embedding_matrix_sub=np.zeros((vocab_len_sub+1,300))\n",
        "\n",
        "for word,i in tok_sub.word_index.items():\n",
        "  embed_vector=embedding_index.get(word)\n",
        "  if embed_vector is not None:\n",
        "    embedding_matrix_sub[i]=embed_vector\n",
        "\n",
        "sequence_sub_test=tok_sub.texts_to_sequences(data_test['Subject'])\n",
        "sequence_matrix_sub_test=sequence.pad_sequences(sequence_sub_test,maxlen=max_len_sub)"
      ],
      "execution_count": 52,
      "outputs": [
        {
          "output_type": "stream",
          "text": [
            "vocab_len_sub : 15989\n"
          ],
          "name": "stdout"
        }
      ]
    },
    {
      "cell_type": "code",
      "metadata": {
        "id": "LAEQnuGKwrWS",
        "colab_type": "code",
        "colab": {
          "base_uri": "https://localhost:8080/",
          "height": 34
        },
        "outputId": "ea297f16-4d89-41c8-faaf-1f051c54d1c3"
      },
      "source": [
        "# Body Word embedding on train and test data\n",
        "\n",
        "max_len_body=900\n",
        "tok_body=Tokenizer()\n",
        "tok_body.fit_on_texts(data_train['Body'])\n",
        "\n",
        "sequence_body=tok_body.texts_to_sequences(data_train['Body'])\n",
        "sequence_matrix_body=sequence.pad_sequences(sequence_body,max_len_body)\n",
        "\n",
        "vocab_len_body=len(tok_body.word_index)\n",
        "print(\"vocab_len_body :\",vocab_len_body)\n",
        "\n",
        "embedding_matrix_body=np.zeros((vocab_len_body+1,300))\n",
        "\n",
        "for word,i in tok_body.word_index.items():\n",
        "  embed_vector=embedding_index.get(word)\n",
        "  if embed_vector is not None:\n",
        "    embedding_matrix_body[i]=embed_vector\n",
        "\n",
        "sequence_body_test=tok_body.texts_to_sequences(data_test['Body'])\n",
        "sequence_matrix_body_test=sequence.pad_sequences(sequence_body_test,maxlen=max_len_body)\n",
        "\n"
      ],
      "execution_count": 53,
      "outputs": [
        {
          "output_type": "stream",
          "text": [
            "vocab_len_body : 135962\n"
          ],
          "name": "stdout"
        }
      ]
    },
    {
      "cell_type": "code",
      "metadata": {
        "id": "NofcbrTQ-Fzo",
        "colab_type": "code",
        "colab": {}
      },
      "source": [
        "from tensorflow.keras.layers import Dense,LSTM, BatchNormalization, Dropout,concatenate,Input,Embedding\n",
        "from tensorflow.keras.models import Model"
      ],
      "execution_count": 0,
      "outputs": []
    },
    {
      "cell_type": "code",
      "metadata": {
        "id": "jGWi2l2QwrLv",
        "colab_type": "code",
        "colab": {}
      },
      "source": [
        "### subject lstm \n",
        "\n",
        "input_sub=Input(name='input_sub',shape=[max_len_sub])\n",
        "\n",
        "layer_sub = Embedding(vocab_len_sub+1,300,input_length=max_len_sub,mask_zero=True,weights=[embedding_matrix_sub],\n",
        "                      trainable=False)(input_sub)\n",
        "layer_sub = LSTM(64)(layer_sub)\n"
      ],
      "execution_count": 0,
      "outputs": []
    },
    {
      "cell_type": "code",
      "metadata": {
        "id": "xbpbnEGBwrBD",
        "colab_type": "code",
        "colab": {}
      },
      "source": [
        "### body lstm \n",
        "\n",
        "input_body=Input(name='input_body',shape=[max_len_body])\n",
        "\n",
        "layer_body = Embedding(vocab_len_body+1,300,input_length=max_len_body,mask_zero=True,\n",
        "                       weights=[embedding_matrix_body],trainable=False)(input_body)\n",
        "layer_body = LSTM(64)(layer_body)"
      ],
      "execution_count": 0,
      "outputs": []
    },
    {
      "cell_type": "code",
      "metadata": {
        "id": "XTb5u1e8wq2Y",
        "colab_type": "code",
        "colab": {}
      },
      "source": [
        "# conatenate and dense on top\n",
        "x = concatenate([layer_sub, layer_body])\n",
        "\n",
        "dense1 = Dense(100, activation='relu')(x)\n",
        "dense2 = Dense(50, activation=LeakyReLU())(dense1)\n",
        "drop1=Dropout(0.2)(dense2)\n",
        "dense3=Dense(20,activation='relu')(drop1)\n",
        "output = Dense(1, activation='sigmoid',name='output')(dense3)"
      ],
      "execution_count": 0,
      "outputs": []
    },
    {
      "cell_type": "code",
      "metadata": {
        "id": "KhCXqrfYwqqf",
        "colab_type": "code",
        "colab": {
          "base_uri": "https://localhost:8080/",
          "height": 638
        },
        "outputId": "edab545c-1556-4a47-e1f5-2a2887f56705"
      },
      "source": [
        "model_we = Model(inputs=[input_sub,input_body],outputs=[output])\n",
        "model_we.compile(optimizer='adam',loss='binary_crossentropy',metrics=['accuracy'])\n",
        "model_we.summary()"
      ],
      "execution_count": 131,
      "outputs": [
        {
          "output_type": "stream",
          "text": [
            "Model: \"model_2\"\n",
            "__________________________________________________________________________________________________\n",
            "Layer (type)                    Output Shape         Param #     Connected to                     \n",
            "==================================================================================================\n",
            "input_sub (InputLayer)          [(None, 15)]         0                                            \n",
            "__________________________________________________________________________________________________\n",
            "input_body (InputLayer)         [(None, 900)]        0                                            \n",
            "__________________________________________________________________________________________________\n",
            "embedding (Embedding)           (None, 15, 300)      4797000     input_sub[0][0]                  \n",
            "__________________________________________________________________________________________________\n",
            "embedding_1 (Embedding)         (None, 900, 300)     40788900    input_body[0][0]                 \n",
            "__________________________________________________________________________________________________\n",
            "lstm (LSTM)                     (None, 64)           93440       embedding[0][0]                  \n",
            "__________________________________________________________________________________________________\n",
            "lstm_1 (LSTM)                   (None, 64)           93440       embedding_1[0][0]                \n",
            "__________________________________________________________________________________________________\n",
            "concatenate_2 (Concatenate)     (None, 128)          0           lstm[0][0]                       \n",
            "                                                                 lstm_1[0][0]                     \n",
            "__________________________________________________________________________________________________\n",
            "dense_18 (Dense)                (None, 200)          25800       concatenate_2[0][0]              \n",
            "__________________________________________________________________________________________________\n",
            "dense_19 (Dense)                (None, 100)          20100       dense_18[0][0]                   \n",
            "__________________________________________________________________________________________________\n",
            "dropout_12 (Dropout)            (None, 100)          0           dense_19[0][0]                   \n",
            "__________________________________________________________________________________________________\n",
            "dense_20 (Dense)                (None, 50)           5050        dropout_12[0][0]                 \n",
            "__________________________________________________________________________________________________\n",
            "dropout_13 (Dropout)            (None, 50)           0           dense_20[0][0]                   \n",
            "__________________________________________________________________________________________________\n",
            "dense_21 (Dense)                (None, 20)           1020        dropout_13[0][0]                 \n",
            "__________________________________________________________________________________________________\n",
            "output (Dense)                  (None, 1)            21          dense_21[0][0]                   \n",
            "==================================================================================================\n",
            "Total params: 45,824,771\n",
            "Trainable params: 238,871\n",
            "Non-trainable params: 45,585,900\n",
            "__________________________________________________________________________________________________\n"
          ],
          "name": "stdout"
        }
      ]
    },
    {
      "cell_type": "code",
      "metadata": {
        "id": "ZAGQwpoeyBpQ",
        "colab_type": "code",
        "colab": {
          "base_uri": "https://localhost:8080/",
          "height": 1000
        },
        "outputId": "c97067f0-2cd1-440d-8b72-56550e28d144"
      },
      "source": [
        "plot_model(model_we,show_shapes=True)"
      ],
      "execution_count": 132,
      "outputs": [
        {
          "output_type": "execute_result",
          "data": {
            "image/png": "[encoded data removed]",
            "text/plain": [
              "<IPython.core.display.Image object>"
            ]
          },
          "metadata": {
            "tags": []
          },
          "execution_count": 132
        }
      ]
    },
    {
      "cell_type": "code",
      "metadata": {
        "id": "zKZwSrtTyJMz",
        "colab_type": "code",
        "colab": {
          "base_uri": "https://localhost:8080/",
          "height": 218
        },
        "outputId": "03c54eb9-d799-4b80-b4be-2bfa3b8872f9"
      },
      "source": [
        "model_we.fit([sequence_matrix_sub,sequence_matrix_body],y_train.values,validation_data=([sequence_matrix_sub_test,sequence_matrix_body_test],y_test.values),\n",
        "          epochs=6,batch_size=200,verbose=1)"
      ],
      "execution_count": 133,
      "outputs": [
        {
          "output_type": "stream",
          "text": [
            "Epoch 1/6\n",
            "133/133 [==============================] - ETA: 0s - loss: 0.0478 - accuracy: 0.9858Epoch 2/6\n",
            "133/133 [==============================] - 108s 815ms/step - loss: 0.0047 - accuracy: 0.9989 - val_loss: 0.0665 - val_accuracy: 0.9869\n",
            "Epoch 3/6\n",
            "133/133 [==============================] - 109s 817ms/step - loss: 0.0192 - accuracy: 0.9941 - val_loss: 0.0542 - val_accuracy: 0.9850\n",
            "Epoch 4/6\n",
            "133/133 [==============================] - 109s 816ms/step - loss: 0.0020 - accuracy: 0.9996 - val_loss: 0.0599 - val_accuracy: 0.9869\n",
            "Epoch 5/6\n",
            "133/133 [==============================] - 109s 823ms/step - loss: 5.4459e-04 - accuracy: 0.9999 - val_loss: 0.0745 - val_accuracy: 0.9869\n",
            "Epoch 6/6\n",
            "133/133 [==============================] - 110s 830ms/step - loss: 1.2965e-04 - accuracy: 1.0000 - val_loss: 0.0802 - val_accuracy: 0.9880\n"
          ],
          "name": "stdout"
        },
        {
          "output_type": "execute_result",
          "data": {
            "text/plain": [
              "<tensorflow.python.keras.callbacks.History at 0x7f73327065f8>"
            ]
          },
          "metadata": {
            "tags": []
          },
          "execution_count": 133
        }
      ]
    },
    {
      "cell_type": "code",
      "metadata": {
        "id": "c7wq34qPyJGC",
        "colab_type": "code",
        "colab": {
          "base_uri": "https://localhost:8080/",
          "height": 50
        },
        "outputId": "9023e898-50bb-45c4-d33a-badcf562879e"
      },
      "source": [
        "print('Train data accuracy',roc_auc_score(y_train,model_we.predict([sequence_matrix_sub,sequence_matrix_body])))\n",
        "print('Test data accuracy',roc_auc_score(y_test,model_we.predict([sequence_matrix_sub_test,sequence_matrix_body_test])))"
      ],
      "execution_count": 134,
      "outputs": [
        {
          "output_type": "stream",
          "text": [
            "Train data accuracy 1.0\n",
            "Test data accuracy 0.9989506267558919\n"
          ],
          "name": "stdout"
        }
      ]
    },
    {
      "cell_type": "code",
      "metadata": {
        "id": "E8vHZ5pyyJEb",
        "colab_type": "code",
        "colab": {}
      },
      "source": [
        "cutoffs=np.linspace(0.01,0.99,99)\n",
        "real=y_train\n",
        "prob_score=model_we.predict([sequence_matrix_sub,sequence_matrix_body])"
      ],
      "execution_count": 0,
      "outputs": []
    },
    {
      "cell_type": "code",
      "metadata": {
        "id": "7UzfXepYyI9x",
        "colab_type": "code",
        "colab": {}
      },
      "source": [
        "KS_cut=[]\n",
        "for cutoff in cutoffs:\n",
        "  predicted=pd.Series([0]*len(y_train))\n",
        "  predicted=(prob_score>cutoff).astype(int)\n",
        "  df=pd.DataFrame(list(zip(y_train,predicted)),columns=[\"real\",\"predicted\"])\n",
        "  TP=len(df[(df[\"real\"]==1) & (df[\"predicted\"]==1) ])\n",
        "  FP=len(df[(df[\"real\"]==0) & (df[\"predicted\"]==1) ])\n",
        "  TN=len(df[(df[\"real\"]==0) & (df[\"predicted\"]==0) ])\n",
        "  FN=len(df[(df[\"real\"]==1) & (df[\"predicted\"]==0) ])\n",
        "  P=TP+FN\n",
        "  N=TN+FP\n",
        "  KS=(TP/P)-(FP/N)\n",
        "  KS_cut.append(KS)\n",
        "\n",
        "cutoff_data=pd.DataFrame(list(zip(cutoffs,KS_cut)),columns=[\"cutoff\",\"KS\"])\n",
        "\n",
        "KS_cutoff=cutoff_data[cutoff_data[\"KS\"]==cutoff_data[\"KS\"].max()][\"cutoff\"]"
      ],
      "execution_count": 0,
      "outputs": []
    },
    {
      "cell_type": "code",
      "metadata": {
        "id": "_k4UqTQ7yI8T",
        "colab_type": "code",
        "colab": {
          "base_uri": "https://localhost:8080/",
          "height": 218
        },
        "outputId": "e1fd2a33-2035-422b-b443-dc00034ffb3a"
      },
      "source": [
        "KS_cutoff"
      ],
      "execution_count": 137,
      "outputs": [
        {
          "output_type": "execute_result",
          "data": {
            "text/plain": [
              "5     0.06\n",
              "6     0.07\n",
              "7     0.08\n",
              "8     0.09\n",
              "9     0.10\n",
              "      ... \n",
              "69    0.70\n",
              "70    0.71\n",
              "71    0.72\n",
              "72    0.73\n",
              "73    0.74\n",
              "Name: cutoff, Length: 69, dtype: float64"
            ]
          },
          "metadata": {
            "tags": []
          },
          "execution_count": 137
        }
      ]
    },
    {
      "cell_type": "code",
      "metadata": {
        "id": "QuhoZPSwyI1S",
        "colab_type": "code",
        "colab": {
          "base_uri": "https://localhost:8080/",
          "height": 136
        },
        "outputId": "cb939f82-7f51-4e30-d149-46d1d484fc57"
      },
      "source": [
        "y_predict_test=model.predict(x_test_tf)\n",
        "binary_predict=((y_predict_test>0.50).astype(int))\n",
        "y_data=pd.DataFrame(binary_predict,columns=['Predicted'])\n",
        "y_data['Original']=y_test\n",
        "pd.crosstab(y_data['Original'],y_data['Predicted'])"
      ],
      "execution_count": 73,
      "outputs": [
        {
          "output_type": "execute_result",
          "data": {
            "text/html": [
              "<div>\n",
              "<style scoped>\n",
              "    .dataframe tbody tr th:only-of-type {\n",
              "        vertical-align: middle;\n",
              "    }\n",
              "\n",
              "    .dataframe tbody tr th {\n",
              "        vertical-align: top;\n",
              "    }\n",
              "\n",
              "    .dataframe thead th {\n",
              "        text-align: right;\n",
              "    }\n",
              "</style>\n",
              "<table border=\"1\" class=\"dataframe\">\n",
              "  <thead>\n",
              "    <tr style=\"text-align: right;\">\n",
              "      <th>Predicted</th>\n",
              "      <th>0</th>\n",
              "      <th>1</th>\n",
              "    </tr>\n",
              "    <tr>\n",
              "      <th>Original</th>\n",
              "      <th></th>\n",
              "      <th></th>\n",
              "    </tr>\n",
              "  </thead>\n",
              "  <tbody>\n",
              "    <tr>\n",
              "      <th>0</th>\n",
              "      <td>3146</td>\n",
              "      <td>101</td>\n",
              "    </tr>\n",
              "    <tr>\n",
              "      <th>1</th>\n",
              "      <td>190</td>\n",
              "      <td>3214</td>\n",
              "    </tr>\n",
              "  </tbody>\n",
              "</table>\n",
              "</div>"
            ],
            "text/plain": [
              "Predicted     0     1\n",
              "Original             \n",
              "0          3146   101\n",
              "1           190  3214"
            ]
          },
          "metadata": {
            "tags": []
          },
          "execution_count": 73
        }
      ]
    },
    {
      "cell_type": "code",
      "metadata": {
        "id": "vqCCXoVryIzr",
        "colab_type": "code",
        "colab": {}
      },
      "source": [
        ""
      ],
      "execution_count": 0,
      "outputs": []
    },
    {
      "cell_type": "code",
      "metadata": {
        "id": "Cq5ZYBMJyIuU",
        "colab_type": "code",
        "colab": {}
      },
      "source": [
        ""
      ],
      "execution_count": 0,
      "outputs": []
    },
    {
      "cell_type": "code",
      "metadata": {
        "id": "EOJssOleyIsi",
        "colab_type": "code",
        "colab": {}
      },
      "source": [
        ""
      ],
      "execution_count": 0,
      "outputs": []
    },
    {
      "cell_type": "code",
      "metadata": {
        "id": "lMqI_NLoyIlN",
        "colab_type": "code",
        "colab": {
          "base_uri": "https://localhost:8080/",
          "height": 373
        },
        "outputId": "3e6d5ce1-d2e7-42a7-d886-8426618e61b2"
      },
      "source": [
        "!wget https://www.dropbox.com/s/78d4c5u4vuj80t6/my%20mail%20spam.csv?dl=0"
      ],
      "execution_count": 97,
      "outputs": [
        {
          "output_type": "stream",
          "text": [
            "--2020-04-19 16:47:45--  https://www.dropbox.com/s/78d4c5u4vuj80t6/my%20mail%20spam.csv?dl=0\n",
            "Resolving www.dropbox.com (www.dropbox.com)... 162.125.65.1, 2620:100:6021:1::a27d:4101\n",
            "Connecting to www.dropbox.com (www.dropbox.com)|162.125.65.1|:443... connected.\n",
            "HTTP request sent, awaiting response... 301 Moved Permanently\n",
            "Location: /s/raw/78d4c5u4vuj80t6/my%20mail%20spam.csv [following]\n",
            "--2020-04-19 16:47:46--  https://www.dropbox.com/s/raw/78d4c5u4vuj80t6/my%20mail%20spam.csv\n",
            "Reusing existing connection to www.dropbox.com:443.\n",
            "HTTP request sent, awaiting response... 302 Found\n",
            "Location: https://uc12a62d0c450a489ed5d9292563.dl.dropboxusercontent.com/cd/0/inline/A2IrcTbcBZ__xfh7kq0-SgAd7htGW5Lxmq1iw_AzJR1NwfOgvi0qkkA1Gs8IdKUMdjRn0H-k1Z23S8vIyAmNAw4EaxdGs4V1mmgoQH1aSVMy9pjZn9ACaSrTGbZ-LLo3ljI/file# [following]\n",
            "--2020-04-19 16:47:47--  https://uc12a62d0c450a489ed5d9292563.dl.dropboxusercontent.com/cd/0/inline/A2IrcTbcBZ__xfh7kq0-SgAd7htGW5Lxmq1iw_AzJR1NwfOgvi0qkkA1Gs8IdKUMdjRn0H-k1Z23S8vIyAmNAw4EaxdGs4V1mmgoQH1aSVMy9pjZn9ACaSrTGbZ-LLo3ljI/file\n",
            "Resolving uc12a62d0c450a489ed5d9292563.dl.dropboxusercontent.com (uc12a62d0c450a489ed5d9292563.dl.dropboxusercontent.com)... 162.125.65.6, 2620:100:6021:6::a27d:4106\n",
            "Connecting to uc12a62d0c450a489ed5d9292563.dl.dropboxusercontent.com (uc12a62d0c450a489ed5d9292563.dl.dropboxusercontent.com)|162.125.65.6|:443... connected.\n",
            "HTTP request sent, awaiting response... 200 OK\n",
            "Length: 1777249 (1.7M) [text/plain]\n",
            "Saving to: ‘my mail spam.csv?dl=0’\n",
            "\n",
            "my mail spam.csv?dl 100%[===================>]   1.69M  --.-KB/s    in 0.1s    \n",
            "\n",
            "2020-04-19 16:47:47 (17.4 MB/s) - ‘my mail spam.csv?dl=0’ saved [1777249/1777249]\n",
            "\n"
          ],
          "name": "stdout"
        }
      ]
    },
    {
      "cell_type": "code",
      "metadata": {
        "id": "D2wsHGBcyIdp",
        "colab_type": "code",
        "colab": {}
      },
      "source": [
        "spam_mail=pd.read_csv(r'/content/my mail spam.csv?dl=0')"
      ],
      "execution_count": 0,
      "outputs": []
    },
    {
      "cell_type": "code",
      "metadata": {
        "id": "wKtTs6y7GeJr",
        "colab_type": "code",
        "colab": {}
      },
      "source": [
        "spam=spam_mail.loc[:,['Subject', 'Body']]"
      ],
      "execution_count": 0,
      "outputs": []
    },
    {
      "cell_type": "code",
      "metadata": {
        "id": "LAfAbP4pWYYf",
        "colab_type": "code",
        "colab": {}
      },
      "source": [
        "spam['Body']=np.where(spam['Body'].isnull(),\"nan\",spam['Body'])"
      ],
      "execution_count": 0,
      "outputs": []
    },
    {
      "cell_type": "code",
      "metadata": {
        "id": "IMKpMnAEyITZ",
        "colab_type": "code",
        "colab": {}
      },
      "source": [
        "import re\n",
        "string_check= re.compile(r'[@_:.;!#$%^&*()<>?/\\|}{~]+-*')\n",
        "spam['Subject'] = spam['Subject'].apply(lambda x: (\" \".join([i for i in x.strip().split() if (string_check.search(i)==None) and ('http' not in i) and ('html' not in i)\n",
        "          and ('HTML' not in i) and (\"=\" not in i) and (i not in my_stop) and (\"+\" not in i) and (\"-\" not in i) and (len(i)<28)])).strip())\n",
        "\n",
        "spam['Body'] = spam['Body'].apply(lambda x: (\" \".join([i for i in x.strip().split() if (string_check.search(i)==None) and ('http' not in i) and ('html' not in i)\n",
        "          and ('HTML' not in i) and (\"=\" not in i) and (i not in my_stop) and (\"+\" not in i) and (\"-\" not in i) and (len(i)<28)])).strip())"
      ],
      "execution_count": 0,
      "outputs": []
    },
    {
      "cell_type": "code",
      "metadata": {
        "id": "Sx1viy28XBtO",
        "colab_type": "code",
        "colab": {}
      },
      "source": [
        "sequence_spam_mail_sub=tok_sub.texts_to_sequences(spam['Subject'])\n",
        "seq_spam_mail_sub_matrix=sequence.pad_sequences(sequence_spam_mail_sub,maxlen=max_len_sub)\n",
        "\n",
        "sequence_spam_mail_body=tok_body.texts_to_sequences(spam['Body'])\n",
        "seq_spam_mail_body_matrix=sequence.pad_sequences(sequence.pad_sequences(sequence_spam_mail_body,maxlen=max_len_body))"
      ],
      "execution_count": 0,
      "outputs": []
    },
    {
      "cell_type": "code",
      "metadata": {
        "id": "S5-x1rHPXBrz",
        "colab_type": "code",
        "colab": {}
      },
      "source": [
        "y_spam_mail=model_we.predict([seq_spam_mail_sub_matrix,seq_spam_mail_body_matrix])"
      ],
      "execution_count": 0,
      "outputs": []
    },
    {
      "cell_type": "code",
      "metadata": {
        "id": "g0L0j1xZXBnJ",
        "colab_type": "code",
        "colab": {}
      },
      "source": [
        "y_spam_binary=pd.DataFrame((y_spam_mail>0.06).astype(int),columns=['y_spam_pred'])"
      ],
      "execution_count": 0,
      "outputs": []
    },
    {
      "cell_type": "code",
      "metadata": {
        "id": "Hx96DvG3XBln",
        "colab_type": "code",
        "colab": {
          "base_uri": "https://localhost:8080/",
          "height": 67
        },
        "outputId": "37fdb49b-2207-4448-beed-d0a299ead4e5"
      },
      "source": [
        "y_spam_binary['y_spam_pred'].value_counts()"
      ],
      "execution_count": 142,
      "outputs": [
        {
          "output_type": "execute_result",
          "data": {
            "text/plain": [
              "1    271\n",
              "0     33\n",
              "Name: y_spam_pred, dtype: int64"
            ]
          },
          "metadata": {
            "tags": []
          },
          "execution_count": 142
        }
      ]
    },
    {
      "cell_type": "code",
      "metadata": {
        "id": "Cq6vHsvlXBfu",
        "colab_type": "code",
        "colab": {}
      },
      "source": [
        "spam['predicted_we']=(y_spam_mail>0.06).astype(int)"
      ],
      "execution_count": 0,
      "outputs": []
    },
    {
      "cell_type": "code",
      "metadata": {
        "id": "mJiAN5b-pSKi",
        "colab_type": "code",
        "colab": {
          "base_uri": "https://localhost:8080/",
          "height": 373
        },
        "outputId": "f763afed-6928-4610-c0e8-1a26a7adb148"
      },
      "source": [
        "!wget https://www.dropbox.com/s/hmgoihdu8nubzsu/my%20mail.csv?dl=0\n",
        "\n",
        "mydata=pd.read_csv(r'/content/my mail.csv?dl=0')"
      ],
      "execution_count": 143,
      "outputs": [
        {
          "output_type": "stream",
          "text": [
            "--2020-04-19 18:14:12--  https://www.dropbox.com/s/hmgoihdu8nubzsu/my%20mail.csv?dl=0\n",
            "Resolving www.dropbox.com (www.dropbox.com)... 162.125.65.1, 2620:100:6021:1::a27d:4101\n",
            "Connecting to www.dropbox.com (www.dropbox.com)|162.125.65.1|:443... connected.\n",
            "HTTP request sent, awaiting response... 301 Moved Permanently\n",
            "Location: /s/raw/hmgoihdu8nubzsu/my%20mail.csv [following]\n",
            "--2020-04-19 18:14:12--  https://www.dropbox.com/s/raw/hmgoihdu8nubzsu/my%20mail.csv\n",
            "Reusing existing connection to www.dropbox.com:443.\n",
            "HTTP request sent, awaiting response... 302 Found\n",
            "Location: https://uc1726831d0248224a34906e144e.dl.dropboxusercontent.com/cd/0/inline/A2IOJ83qB7RjbqfPGiEhWKr__Gf0KeNNw_dO5cUVHolDw9Iy-rBifvblZ9ZuEVH-s2OpdSOMPej6ExCfnlrfC2SO2rJrG-eM84pMqqXiiHaWOBmM6TB63sb6mDsXNsOlOXk/file# [following]\n",
            "--2020-04-19 18:14:12--  https://uc1726831d0248224a34906e144e.dl.dropboxusercontent.com/cd/0/inline/A2IOJ83qB7RjbqfPGiEhWKr__Gf0KeNNw_dO5cUVHolDw9Iy-rBifvblZ9ZuEVH-s2OpdSOMPej6ExCfnlrfC2SO2rJrG-eM84pMqqXiiHaWOBmM6TB63sb6mDsXNsOlOXk/file\n",
            "Resolving uc1726831d0248224a34906e144e.dl.dropboxusercontent.com (uc1726831d0248224a34906e144e.dl.dropboxusercontent.com)... 162.125.65.6, 2620:100:6021:6::a27d:4106\n",
            "Connecting to uc1726831d0248224a34906e144e.dl.dropboxusercontent.com (uc1726831d0248224a34906e144e.dl.dropboxusercontent.com)|162.125.65.6|:443... connected.\n",
            "HTTP request sent, awaiting response... 200 OK\n",
            "Length: 168200153 (160M) [text/plain]\n",
            "Saving to: ‘my mail.csv?dl=0’\n",
            "\n",
            "my mail.csv?dl=0    100%[===================>] 160.41M  59.2MB/s    in 2.7s    \n",
            "\n",
            "2020-04-19 18:14:15 (59.2 MB/s) - ‘my mail.csv?dl=0’ saved [168200153/168200153]\n",
            "\n"
          ],
          "name": "stdout"
        }
      ]
    },
    {
      "cell_type": "code",
      "metadata": {
        "id": "PO8dMJSapivD",
        "colab_type": "code",
        "colab": {}
      },
      "source": [
        "mail=mydata.loc[(mydata['Subject'].notnull()) & (mydata['Body'].notnull()),['Mail_Id','Subject','Body']]\n",
        "mail.reset_index(drop=True,inplace=True)"
      ],
      "execution_count": 0,
      "outputs": []
    },
    {
      "cell_type": "code",
      "metadata": {
        "id": "2TOnM1BrpijK",
        "colab_type": "code",
        "colab": {}
      },
      "source": [
        "string_check= re.compile(r'[@_:.;!#$%^&*()<>?/\\|}{~]+-*')\n",
        "mail['Subject'] = mail['Subject'].apply(lambda x: (\" \".join([i for i in x.strip().split() if (string_check.search(i)==None) and ('http' not in i) and ('html' not in i)\n",
        "          and ('HTML' not in i) and (\"=\" not in i) and (i not in my_stop) and (\"+\" not in i) and (\"-\" not in i) and (len(i)<28)])).strip())\n",
        "\n",
        "mail['Body'] = mail['Body'].apply(lambda x: (\" \".join([i for i in x.strip().split() if (string_check.search(i)==None) and ('http' not in i) and ('html' not in i)\n",
        "          and ('HTML' not in i) and (\"=\" not in i) and (i not in my_stop) and (\"+\" not in i) and (\"-\" not in i) and (len(i)<28)])).strip())"
      ],
      "execution_count": 0,
      "outputs": []
    },
    {
      "cell_type": "code",
      "metadata": {
        "id": "2rgSP8C4piVy",
        "colab_type": "code",
        "colab": {}
      },
      "source": [
        "# Mail Subject\n",
        "\n",
        "sequence_mail_sub=tok_sub.texts_to_sequences(mail['Subject'])\n",
        "sequence_mail_sub_matrix=sequence.pad_sequences(sequence_mail_sub,maxlen=max_len_sub)\n",
        "\n",
        "# Mail Body\n",
        "\n",
        "sequence_mail_body=tok_body.texts_to_sequences(mail['Body'])\n",
        "sequence_mail_body_matrix=sequence.pad_sequences(sequence_mail_body,maxlen=max_len_body)"
      ],
      "execution_count": 0,
      "outputs": []
    },
    {
      "cell_type": "code",
      "metadata": {
        "id": "0JD3wOHRp_Sk",
        "colab_type": "code",
        "colab": {}
      },
      "source": [
        "y_mail=model_we.predict([sequence_mail_sub_matrix,sequence_mail_body_matrix])\n",
        "\n",
        "mail['predict_we']=(y_mail>0.06).astype(int)"
      ],
      "execution_count": 0,
      "outputs": []
    },
    {
      "cell_type": "code",
      "metadata": {
        "id": "sJhAP0mXp_JT",
        "colab_type": "code",
        "colab": {
          "base_uri": "https://localhost:8080/",
          "height": 67
        },
        "outputId": "66bfcee3-49b1-4551-b6b6-1deeaf83da1c"
      },
      "source": [
        "mail['predict_we'].value_counts()"
      ],
      "execution_count": 148,
      "outputs": [
        {
          "output_type": "execute_result",
          "data": {
            "text/plain": [
              "1    21005\n",
              "0     3564\n",
              "Name: predict_we, dtype: int64"
            ]
          },
          "metadata": {
            "tags": []
          },
          "execution_count": 148
        }
      ]
    },
    {
      "cell_type": "code",
      "metadata": {
        "id": "S79V7yPup-_A",
        "colab_type": "code",
        "colab": {}
      },
      "source": [
        ""
      ],
      "execution_count": 0,
      "outputs": []
    },
    {
      "cell_type": "code",
      "metadata": {
        "id": "E5IiZAhSXBeA",
        "colab_type": "code",
        "colab": {}
      },
      "source": [
        "# TF IDF Check"
      ],
      "execution_count": 0,
      "outputs": []
    },
    {
      "cell_type": "code",
      "metadata": {
        "id": "8X5dqMveY43c",
        "colab_type": "code",
        "colab": {}
      },
      "source": [
        "spam['concate']=spam[['Subject','Body']].apply(lambda x:' '.join(x.astype(str)),axis=1)"
      ],
      "execution_count": 0,
      "outputs": []
    },
    {
      "cell_type": "code",
      "metadata": {
        "id": "FfgCHFE8Y4px",
        "colab_type": "code",
        "colab": {}
      },
      "source": [
        "spam_tf=tf.transform(spam['concate'])\n",
        "x_spam_tf=pd.DataFrame(spam_tf.toarray(),columns=tf.get_feature_names())"
      ],
      "execution_count": 0,
      "outputs": []
    },
    {
      "cell_type": "code",
      "metadata": {
        "id": "6DdFnvmcY4ig",
        "colab_type": "code",
        "colab": {}
      },
      "source": [
        "spam['predict_tf_idf']=(model.predict(x_spam_tf)>0.53).astype(int)"
      ],
      "execution_count": 0,
      "outputs": []
    },
    {
      "cell_type": "code",
      "metadata": {
        "id": "CxIKC8ymY4Wg",
        "colab_type": "code",
        "colab": {
          "base_uri": "https://localhost:8080/",
          "height": 67
        },
        "outputId": "6d11a21c-b7ed-4366-c8fd-541c05355ae0"
      },
      "source": [
        "spam['predicted_we'].value_counts()"
      ],
      "execution_count": 117,
      "outputs": [
        {
          "output_type": "execute_result",
          "data": {
            "text/plain": [
              "1    265\n",
              "0     39\n",
              "Name: predicted_we, dtype: int64"
            ]
          },
          "metadata": {
            "tags": []
          },
          "execution_count": 117
        }
      ]
    },
    {
      "cell_type": "code",
      "metadata": {
        "id": "nxUiDM00Y6j7",
        "colab_type": "code",
        "colab": {
          "base_uri": "https://localhost:8080/",
          "height": 67
        },
        "outputId": "9c4a8019-a477-4e91-cf6a-4b074976d150"
      },
      "source": [
        "spam['predict_tf_idf'].value_counts()"
      ],
      "execution_count": 118,
      "outputs": [
        {
          "output_type": "execute_result",
          "data": {
            "text/plain": [
              "1    200\n",
              "0    104\n",
              "Name: predict_tf_idf, dtype: int64"
            ]
          },
          "metadata": {
            "tags": []
          },
          "execution_count": 118
        }
      ]
    },
    {
      "cell_type": "code",
      "metadata": {
        "id": "x2rGKE3oY6eA",
        "colab_type": "code",
        "colab": {}
      },
      "source": [
        ""
      ],
      "execution_count": 0,
      "outputs": []
    },
    {
      "cell_type": "code",
      "metadata": {
        "id": "Wkgctv8lY6aA",
        "colab_type": "code",
        "colab": {}
      },
      "source": [
        ""
      ],
      "execution_count": 0,
      "outputs": []
    },
    {
      "cell_type": "code",
      "metadata": {
        "id": "T1O3Jd5WHylF",
        "colab_type": "code",
        "colab": {}
      },
      "source": [
        ""
      ],
      "execution_count": 0,
      "outputs": []
    },
    {
      "cell_type": "code",
      "metadata": {
        "id": "SRjehUUHHygB",
        "colab_type": "code",
        "colab": {}
      },
      "source": [
        "from google.colab import drive, files"
      ],
      "execution_count": 0,
      "outputs": []
    },
    {
      "cell_type": "code",
      "metadata": {
        "id": "9jIoSY5-JU1C",
        "colab_type": "code",
        "colab": {
          "base_uri": "https://localhost:8080/",
          "height": 121
        },
        "outputId": "5f31096e-d4a6-4dac-fdf5-92ecc95237fe"
      },
      "source": [
        "drive.mount(r'/content/gdrive')"
      ],
      "execution_count": 85,
      "outputs": [
        {
          "output_type": "stream",
          "text": [
            "Go to this URL in a browser: https://accounts.google.com/o/oauth2/auth?client_id=947318989803-6bn6qk8qdgf4n4g3pfee6491hc0brc4i.apps.googleusercontent.com&redirect_uri=urn%3aietf%3awg%3aoauth%3a2.0%3aoob&response_type=code&scope=email%20https%3a%2f%2fwww.googleapis.com%2fauth%2fdocs.test%20https%3a%2f%2fwww.googleapis.com%2fauth%2fdrive%20https%3a%2f%2fwww.googleapis.com%2fauth%2fdrive.photos.readonly%20https%3a%2f%2fwww.googleapis.com%2fauth%2fpeopleapi.readonly\n",
            "\n",
            "Enter your authorization code:\n",
            "··········\n",
            "Mounted at /content/gdrive\n"
          ],
          "name": "stdout"
        }
      ]
    },
    {
      "cell_type": "code",
      "metadata": {
        "id": "szZDh8taHyc8",
        "colab_type": "code",
        "colab": {}
      },
      "source": [
        "!pip install -U -q PyDrive\n",
        "from pydrive.auth import GoogleAuth\n",
        "from pydrive.drive import GoogleDrive \n",
        "from google.colab import auth \n",
        "from oauth2client.client import GoogleCredentials"
      ],
      "execution_count": 0,
      "outputs": []
    },
    {
      "cell_type": "code",
      "metadata": {
        "id": "eoYKFZS4HyXM",
        "colab_type": "code",
        "colab": {}
      },
      "source": [
        "auth.authenticate_user()\n",
        "gauth = GoogleAuth()\n",
        "gauth.credentials = GoogleCredentials.get_application_default()"
      ],
      "execution_count": 0,
      "outputs": []
    },
    {
      "cell_type": "code",
      "metadata": {
        "id": "ZPeVwe1FKNlL",
        "colab_type": "code",
        "colab": {}
      },
      "source": [
        "model.save(r'/content/gdrive/My Drive/model_tf.h5')\n",
        "\n",
        "model_we.save(r'/content/gdrive/My Drive/model_we.h5')"
      ],
      "execution_count": 0,
      "outputs": []
    },
    {
      "cell_type": "code",
      "metadata": {
        "id": "vjr5ibASIsaI",
        "colab_type": "code",
        "colab": {}
      },
      "source": [
        ""
      ],
      "execution_count": 0,
      "outputs": []
    },
    {
      "cell_type": "code",
      "metadata": {
        "id": "3_mNxhMkHyU6",
        "colab_type": "code",
        "colab": {}
      },
      "source": [
        "import os"
      ],
      "execution_count": 0,
      "outputs": []
    },
    {
      "cell_type": "code",
      "metadata": {
        "id": "Iy2A1onLHyNK",
        "colab_type": "code",
        "colab": {
          "base_uri": "https://localhost:8080/",
          "height": 34
        },
        "outputId": "d1a298ce-ea3b-46ff-ca4a-6c25d8fe98e9"
      },
      "source": [
        "os.getcwd()"
      ],
      "execution_count": 94,
      "outputs": [
        {
          "output_type": "execute_result",
          "data": {
            "text/plain": [
              "'/content'"
            ]
          },
          "metadata": {
            "tags": []
          },
          "execution_count": 94
        }
      ]
    },
    {
      "cell_type": "code",
      "metadata": {
        "id": "aA44Kc-KyHW4",
        "colab_type": "code",
        "colab": {}
      },
      "source": [
        ""
      ],
      "execution_count": 0,
      "outputs": []
    }
  ]
}