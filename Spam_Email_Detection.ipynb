{
 "cells": [
  {
   "cell_type": "code",
   "execution_count": 0,
   "metadata": {
    "colab": {},
    "colab_type": "code",
    "id": "w22fjvnijzWz"
   },
   "outputs": [],
   "source": [
    "%tensorflow_version 2.x"
   ]
  },
  {
   "cell_type": "code",
   "execution_count": 0,
   "metadata": {
    "colab": {},
    "colab_type": "code",
    "id": "fFPQqlgNkDOP"
   },
   "outputs": [],
   "source": [
    "import pandas as pd\n",
    "import numpy as np"
   ]
  },
  {
   "cell_type": "code",
   "execution_count": 0,
   "metadata": {
    "colab": {},
    "colab_type": "code",
    "id": "LEGoHaCuBeLv"
   },
   "outputs": [],
   "source": [
    "from google.colab import drive, files\n",
    "drive.mount(r'/content/gdrive')"
   ]
  },
  {
   "cell_type": "code",
   "execution_count": 3,
   "metadata": {
    "colab": {
     "base_uri": "https://localhost:8080/",
     "height": 373
    },
    "colab_type": "code",
    "id": "_aaXGA1nkE_6",
    "outputId": "c8b83e20-4a81-4ed9-83ab-ec4cd94f32a9"
   },
   "outputs": [
    {
     "name": "stdout",
     "output_type": "stream",
     "text": [
      "--2020-05-03 11:29:26--  https://www.dropbox.com/s/qvxz4qnyfb8w3re/train%20test%20data.csv?dl=0\n",
      "Resolving www.dropbox.com (www.dropbox.com)... 162.125.3.1, 2620:100:601b:1::a27d:801\n",
      "Connecting to www.dropbox.com (www.dropbox.com)|162.125.3.1|:443... connected.\n",
      "HTTP request sent, awaiting response... 301 Moved Permanently\n",
      "Location: /s/raw/qvxz4qnyfb8w3re/train%20test%20data.csv [following]\n",
      "--2020-05-03 11:29:26--  https://www.dropbox.com/s/raw/qvxz4qnyfb8w3re/train%20test%20data.csv\n",
      "Reusing existing connection to www.dropbox.com:443.\n",
      "HTTP request sent, awaiting response... 302 Found\n",
      "Location: https://uc7f966e519355e0fc79b2814629.dl.dropboxusercontent.com/cd/0/inline/A3CqJ3mC5jpJc7m2qgqju6TFLAjoKCT2RzXcTjyRd4JALTMMufSLxA8NB967crb0hX5MalKa8lUicO1iNsHn7xePwfDbtmJ4-SW3g9Cnjhhk7QoaXfDjB-A4Al1HYat_qpg/file# [following]\n",
      "--2020-05-03 11:29:26--  https://uc7f966e519355e0fc79b2814629.dl.dropboxusercontent.com/cd/0/inline/A3CqJ3mC5jpJc7m2qgqju6TFLAjoKCT2RzXcTjyRd4JALTMMufSLxA8NB967crb0hX5MalKa8lUicO1iNsHn7xePwfDbtmJ4-SW3g9Cnjhhk7QoaXfDjB-A4Al1HYat_qpg/file\n",
      "Resolving uc7f966e519355e0fc79b2814629.dl.dropboxusercontent.com (uc7f966e519355e0fc79b2814629.dl.dropboxusercontent.com)... 162.125.3.6, 2620:100:601b:6::a27d:806\n",
      "Connecting to uc7f966e519355e0fc79b2814629.dl.dropboxusercontent.com (uc7f966e519355e0fc79b2814629.dl.dropboxusercontent.com)|162.125.3.6|:443... connected.\n",
      "HTTP request sent, awaiting response... 200 OK\n",
      "Length: 45422569 (43M) [text/plain]\n",
      "Saving to: ‘train test data.csv?dl=0’\n",
      "\n",
      "train test data.csv 100%[===================>]  43.32M  81.6MB/s    in 0.5s    \n",
      "\n",
      "2020-05-03 11:29:27 (81.6 MB/s) - ‘train test data.csv?dl=0’ saved [45422569/45422569]\n",
      "\n"
     ]
    }
   ],
   "source": [
    "data=pd.read_csv(r'/content/train test data.csv?dl=0')"
   ]
  },
  {
   "cell_type": "code",
   "execution_count": 0,
   "metadata": {
    "colab": {},
    "colab_type": "code",
    "id": "3JwQUmLZzOOK"
   },
   "outputs": [],
   "source": [
    "data=data[~data['Body'].isnull()]\n"
   ]
  },
  {
   "cell_type": "code",
   "execution_count": 6,
   "metadata": {
    "colab": {
     "base_uri": "https://localhost:8080/",
     "height": 168
    },
    "colab_type": "code",
    "id": "IK9rynGikIRx",
    "outputId": "d6d0553b-3b64-4a52-e555-d009e274d059"
   },
   "outputs": [
    {
     "name": "stdout",
     "output_type": "stream",
     "text": [
      "[nltk_data] Downloading package stopwords to /root/nltk_data...\n",
      "[nltk_data]   Unzipping corpora/stopwords.zip.\n",
      "[nltk_data] Downloading package punkt to /root/nltk_data...\n",
      "[nltk_data]   Unzipping tokenizers/punkt.zip.\n",
      "[nltk_data] Downloading package wordnet to /root/nltk_data...\n",
      "[nltk_data]   Unzipping corpora/wordnet.zip.\n",
      "[nltk_data] Downloading package averaged_perceptron_tagger to\n",
      "[nltk_data]     /root/nltk_data...\n",
      "[nltk_data]   Unzipping taggers/averaged_perceptron_tagger.zip.\n"
     ]
    }
   ],
   "source": [
    "import re\n",
    "import nltk\n",
    "nltk.download('stopwords')\n",
    "nltk.download('punkt')\n",
    "nltk.download('wordnet')\n",
    "nltk.download('averaged_perceptron_tagger')\n",
    "import re\n",
    "from nltk.corpus import wordnet\n",
    "from nltk.stem.wordnet import WordNetLemmatizer\n",
    "from nltk.corpus import stopwords\n",
    "from string import punctuation\n",
    "from nltk.stem.snowball import SnowballStemmer\n",
    "from nltk import WordNetLemmatizer, pos_tag, word_tokenize\n",
    "lemma = WordNetLemmatizer()\n",
    "my_stop=set(stopwords.words('english')+list(punctuation))\n",
    "\n",
    "from nltk import word_tokenize\n",
    "from tensorflow.keras.preprocessing.text import Tokenizer\n",
    "from tensorflow.keras.preprocessing import sequence\n",
    "\n",
    "\n",
    "from sklearn.feature_extraction.text import CountVectorizer, TfidfVectorizer\n",
    "from sklearn.model_selection import train_test_split\n"
   ]
  },
  {
   "cell_type": "code",
   "execution_count": 0,
   "metadata": {
    "colab": {},
    "colab_type": "code",
    "id": "FcgOV86CkNEH"
   },
   "outputs": [],
   "source": [
    "data['concate']=data[['Subject','Body']].apply(lambda x:' '.join(x.astype(str)),axis=1)\n",
    "df=data.loc[:,['concate','Class']]"
   ]
  },
  {
   "cell_type": "code",
   "execution_count": 0,
   "metadata": {
    "colab": {},
    "colab_type": "code",
    "id": "6skL-0aLkP8R"
   },
   "outputs": [],
   "source": [
    "df_train,df_test=train_test_split(df,test_size=0.2,random_state=2)"
   ]
  },
  {
   "cell_type": "code",
   "execution_count": 0,
   "metadata": {
    "colab": {},
    "colab_type": "code",
    "id": "SmsHZ0LAkZZI"
   },
   "outputs": [],
   "source": [
    "y_train=(df_train['Class']=='spam').astype(int)\n",
    "y_train.reset_index(inplace=True,drop=True)\n",
    "y_test=(df_test['Class']=='spam').astype(int)\n",
    "y_test.reset_index(inplace=True,drop=True)"
   ]
  },
  {
   "cell_type": "code",
   "execution_count": 0,
   "metadata": {
    "colab": {},
    "colab_type": "code",
    "id": "h0Fd8nWUk1JN"
   },
   "outputs": [],
   "source": [
    "df_train.reset_index(inplace=True,drop=True)\n",
    "df_test.reset_index(inplace=True,drop=True)"
   ]
  },
  {
   "cell_type": "code",
   "execution_count": 0,
   "metadata": {
    "colab": {},
    "colab_type": "code",
    "id": "f3ZgHNbnknUs"
   },
   "outputs": [],
   "source": [
    "my_stop=set(stopwords.words('english')+list(punctuation)+[i for i in '0123456789'])"
   ]
  },
  {
   "cell_type": "code",
   "execution_count": 0,
   "metadata": {
    "colab": {},
    "colab_type": "code",
    "id": "JMxgsG2RksRt"
   },
   "outputs": [],
   "source": [
    "def lemmatize(text):\n",
    "    \"\"\" Tokenize text and lemmatize word tokens \"\"\"\n",
    "    \n",
    "    text=text.lower()\n",
    "    def get_pos(tag):\n",
    "        if tag.startswith('J'):\n",
    "            return wordnet.ADJ\n",
    "        elif tag.startswith('V'):\n",
    "            return wordnet.VERB\n",
    "        elif tag.startswith('N'):\n",
    "            return wordnet.NOUN\n",
    "        elif tag.startswith('R'):\n",
    "            return wordnet.ADV\n",
    "        return wordnet.NOUN\n",
    "    \n",
    "    wnl = WordNetLemmatizer()\n",
    "    num=re.compile(u'(?ui)\\\\b\\\\w*[a-z]+\\\\w*\\\\b')\n",
    "    return [wnl.lemmatize(token, get_pos(tag)) for token, tag in pos_tag(word_tokenize(text)) if (token not in my_stop) and (num.search(token)!=None)]\n",
    "\n",
    "tf=TfidfVectorizer(tokenizer=lemmatize ,min_df=100,max_df=500)"
   ]
  },
  {
   "cell_type": "code",
   "execution_count": 0,
   "metadata": {
    "colab": {
     "base_uri": "https://localhost:8080/",
     "height": 70
    },
    "colab_type": "code",
    "id": "26SftC9dlBJx",
    "outputId": "44cd9076-593c-496b-995a-98f3ab3d6650"
   },
   "outputs": [
    {
     "name": "stderr",
     "output_type": "stream",
     "text": [
      "/usr/local/lib/python3.6/dist-packages/sklearn/feature_extraction/text.py:507: UserWarning: The parameter 'token_pattern' will not be used since 'tokenizer' is not None'\n",
      "  warnings.warn(\"The parameter 'token_pattern' will not be used\"\n"
     ]
    }
   ],
   "source": [
    "tf.fit(df_train['concate'])\n",
    "train_tf=tf.transform(df_train['concate'])\n"
   ]
  },
  {
   "cell_type": "code",
   "execution_count": 0,
   "metadata": {
    "colab": {},
    "colab_type": "code",
    "id": "Xzm-t4rqlBqP"
   },
   "outputs": [],
   "source": [
    "x_train_tf=pd.DataFrame(train_tf.toarray(),columns=tf.get_feature_names())\n",
    "col=x_train_tf.columns"
   ]
  },
  {
   "cell_type": "code",
   "execution_count": 0,
   "metadata": {
    "colab": {
     "base_uri": "https://localhost:8080/",
     "height": 67
    },
    "colab_type": "code",
    "id": "MAIZpHyG2WCz",
    "outputId": "025b9685-68e2-473f-9f12-46486fff2e02"
   },
   "outputs": [
    {
     "name": "stdout",
     "output_type": "stream",
     "text": [
      "(26600, 2219) (26600,)\n",
      "(6651, 2219) (6651,)\n",
      "2219 <class 'int'>\n"
     ]
    }
   ],
   "source": [
    "print(x_train_tf.shape,y_train.shape)\n",
    "print(x_test_tf.shape,y_test.shape)\n",
    "\n",
    "input_len=x_train_tf.shape[1]\n",
    "print(input_len,type(input_len))"
   ]
  },
  {
   "cell_type": "code",
   "execution_count": 0,
   "metadata": {
    "colab": {},
    "colab_type": "code",
    "id": "dfKFwIctlLEG"
   },
   "outputs": [],
   "source": [
    "test_tf=tf.transform(df_test['concate'])\n",
    "x_test_tf=pd.DataFrame(test_tf.toarray(),columns=tf.get_feature_names())"
   ]
  },
  {
   "cell_type": "code",
   "execution_count": 0,
   "metadata": {
    "colab": {},
    "colab_type": "code",
    "id": "7YiK2gJalLnW"
   },
   "outputs": [],
   "source": [
    "from tensorflow.keras.models import Sequential\n",
    "from tensorflow.keras.layers import Dense, LeakyReLU, Dropout, LSTM\n",
    "from tensorflow.keras import backend as K\n",
    "\n",
    "from tensorflow.keras.backend import sigmoid\n",
    "from tensorflow.keras import activations\n",
    "\n",
    "from sklearn.metrics import roc_auc_score\n",
    "from sklearn.metrics import fbeta_score"
   ]
  },
  {
   "cell_type": "code",
   "execution_count": 0,
   "metadata": {
    "colab": {},
    "colab_type": "code",
    "id": "Q2Di7mhXlPod"
   },
   "outputs": [],
   "source": [
    "model = Sequential()\n",
    "\n",
    "model.add(Dense(1000,input_dim=input_len,activation='relu'))\n",
    "\n",
    "model.add(Dropout(0.1))\n",
    "\n",
    "model.add(Dense(500,activation=LeakyReLU()))\n",
    "\n",
    "model.add(Dropout(0.1))\n",
    "\n",
    "model.add(Dense(200,activation='relu'))\n",
    "\n",
    "model.add(Dropout(0.15))\n",
    "\n",
    "model.add(Dense(50,activation=LeakyReLU()))\n",
    "\n",
    "model.add(Dropout(0.1))\n",
    "\n",
    "model.add(Dense(1,activation='sigmoid'))"
   ]
  },
  {
   "cell_type": "code",
   "execution_count": 0,
   "metadata": {
    "colab": {
     "base_uri": "https://localhost:8080/",
     "height": 454
    },
    "colab_type": "code",
    "id": "LSGg5owUljsd",
    "outputId": "6ccfc55d-f76d-4242-b257-65cbd288bb24"
   },
   "outputs": [
    {
     "name": "stdout",
     "output_type": "stream",
     "text": [
      "Model: \"sequential_1\"\n",
      "_________________________________________________________________\n",
      "Layer (type)                 Output Shape              Param #   \n",
      "=================================================================\n",
      "dense_5 (Dense)              (None, 1000)              2220000   \n",
      "_________________________________________________________________\n",
      "dropout_4 (Dropout)          (None, 1000)              0         \n",
      "_________________________________________________________________\n",
      "dense_6 (Dense)              (None, 500)               500500    \n",
      "_________________________________________________________________\n",
      "dropout_5 (Dropout)          (None, 500)               0         \n",
      "_________________________________________________________________\n",
      "dense_7 (Dense)              (None, 200)               100200    \n",
      "_________________________________________________________________\n",
      "dropout_6 (Dropout)          (None, 200)               0         \n",
      "_________________________________________________________________\n",
      "dense_8 (Dense)              (None, 50)                10050     \n",
      "_________________________________________________________________\n",
      "dropout_7 (Dropout)          (None, 50)                0         \n",
      "_________________________________________________________________\n",
      "dense_9 (Dense)              (None, 1)                 51        \n",
      "=================================================================\n",
      "Total params: 2,830,801\n",
      "Trainable params: 2,830,801\n",
      "Non-trainable params: 0\n",
      "_________________________________________________________________\n"
     ]
    }
   ],
   "source": [
    "model.compile(optimizer='adam',loss='binary_crossentropy',metrics=['accuracy'])\n",
    "model.summary()"
   ]
  },
  {
   "cell_type": "code",
   "execution_count": 0,
   "metadata": {
    "colab": {
     "base_uri": "https://localhost:8080/",
     "height": 953
    },
    "colab_type": "code",
    "id": "jD-i3QhClmRp",
    "outputId": "ade82607-d5a4-4d33-9eb5-649b262885b7"
   },
   "outputs": [
    {
     "data": {
      "image/png": "[encoded data removed]",
      "text/plain": [
       "<IPython.core.display.Image object>"
      ]
     },
     "execution_count": 37,
     "metadata": {
      "tags": []
     },
     "output_type": "execute_result"
    }
   ],
   "source": [
    "from tensorflow.keras.utils import plot_model\n",
    "plot_model(model)"
   ]
  },
  {
   "cell_type": "code",
   "execution_count": 0,
   "metadata": {
    "colab": {
     "base_uri": "https://localhost:8080/",
     "height": 1000
    },
    "colab_type": "code",
    "id": "jPOGLgvHlpIz",
    "outputId": "1516587c-c5d4-4319-b1c4-9d3d37855eff"
   },
   "outputs": [
    {
     "name": "stdout",
     "output_type": "stream",
     "text": [
      "Epoch 1/100\n",
      "266/266 [==============================] - 1s 5ms/step - loss: 0.1559 - accuracy: 0.9325 - val_loss: 0.1147 - val_accuracy: 0.9505\n",
      "Epoch 2/100\n",
      "266/266 [==============================] - 1s 5ms/step - loss: 0.0640 - accuracy: 0.9731 - val_loss: 0.1095 - val_accuracy: 0.9549\n",
      "Epoch 3/100\n",
      "266/266 [==============================] - 1s 4ms/step - loss: 0.0375 - accuracy: 0.9830 - val_loss: 0.1466 - val_accuracy: 0.9556\n",
      "Epoch 4/100\n",
      "266/266 [==============================] - 1s 4ms/step - loss: 0.0269 - accuracy: 0.9866 - val_loss: 0.2415 - val_accuracy: 0.9553\n",
      "Epoch 5/100\n",
      "266/266 [==============================] - 1s 5ms/step - loss: 0.0255 - accuracy: 0.9868 - val_loss: 0.2009 - val_accuracy: 0.9562\n",
      "Epoch 6/100\n",
      "266/266 [==============================] - 1s 4ms/step - loss: 0.0275 - accuracy: 0.9858 - val_loss: 0.2383 - val_accuracy: 0.9513\n",
      "Epoch 7/100\n",
      "266/266 [==============================] - 1s 4ms/step - loss: 0.0271 - accuracy: 0.9858 - val_loss: 0.2228 - val_accuracy: 0.9535\n",
      "Epoch 8/100\n",
      "266/266 [==============================] - 1s 4ms/step - loss: 0.0254 - accuracy: 0.9867 - val_loss: 0.2375 - val_accuracy: 0.9535\n",
      "Epoch 9/100\n",
      "266/266 [==============================] - 1s 4ms/step - loss: 0.0227 - accuracy: 0.9875 - val_loss: 0.2852 - val_accuracy: 0.9544\n",
      "Epoch 10/100\n",
      "266/266 [==============================] - 1s 4ms/step - loss: 0.0222 - accuracy: 0.9876 - val_loss: 0.2757 - val_accuracy: 0.9537\n",
      "Epoch 11/100\n",
      "266/266 [==============================] - 1s 4ms/step - loss: 0.0220 - accuracy: 0.9877 - val_loss: 0.3002 - val_accuracy: 0.9529\n",
      "Epoch 12/100\n",
      "266/266 [==============================] - 1s 4ms/step - loss: 0.0218 - accuracy: 0.9878 - val_loss: 0.3280 - val_accuracy: 0.9540\n",
      "Epoch 13/100\n",
      "266/266 [==============================] - 1s 4ms/step - loss: 0.0224 - accuracy: 0.9877 - val_loss: 0.2422 - val_accuracy: 0.9546\n",
      "Epoch 14/100\n",
      "266/266 [==============================] - 1s 4ms/step - loss: 0.0219 - accuracy: 0.9877 - val_loss: 0.3053 - val_accuracy: 0.9541\n",
      "Epoch 15/100\n",
      "266/266 [==============================] - 1s 4ms/step - loss: 0.0218 - accuracy: 0.9877 - val_loss: 0.3376 - val_accuracy: 0.9543\n",
      "Epoch 16/100\n",
      "266/266 [==============================] - 1s 4ms/step - loss: 0.0218 - accuracy: 0.9880 - val_loss: 0.3267 - val_accuracy: 0.9544\n",
      "Epoch 17/100\n",
      "266/266 [==============================] - 1s 4ms/step - loss: 0.0217 - accuracy: 0.9877 - val_loss: 0.3558 - val_accuracy: 0.9541\n",
      "Epoch 18/100\n",
      "266/266 [==============================] - 1s 4ms/step - loss: 0.0221 - accuracy: 0.9878 - val_loss: 0.2912 - val_accuracy: 0.9511\n",
      "Epoch 19/100\n",
      "266/266 [==============================] - 1s 4ms/step - loss: 0.0274 - accuracy: 0.9862 - val_loss: 0.1831 - val_accuracy: 0.9526\n",
      "Epoch 20/100\n",
      "266/266 [==============================] - 1s 4ms/step - loss: 0.0285 - accuracy: 0.9859 - val_loss: 0.2455 - val_accuracy: 0.9540\n",
      "Epoch 21/100\n",
      "266/266 [==============================] - 1s 4ms/step - loss: 0.0255 - accuracy: 0.9867 - val_loss: 0.2074 - val_accuracy: 0.9522\n",
      "Epoch 22/100\n",
      "266/266 [==============================] - 1s 4ms/step - loss: 0.0223 - accuracy: 0.9878 - val_loss: 0.3111 - val_accuracy: 0.9549\n",
      "Epoch 23/100\n",
      "266/266 [==============================] - 1s 4ms/step - loss: 0.0225 - accuracy: 0.9877 - val_loss: 0.2924 - val_accuracy: 0.9543\n",
      "Epoch 24/100\n",
      "266/266 [==============================] - 1s 4ms/step - loss: 0.0219 - accuracy: 0.9876 - val_loss: 0.2983 - val_accuracy: 0.9538\n",
      "Epoch 25/100\n",
      "266/266 [==============================] - 1s 4ms/step - loss: 0.0218 - accuracy: 0.9877 - val_loss: 0.3003 - val_accuracy: 0.9541\n",
      "Epoch 26/100\n",
      "266/266 [==============================] - 1s 5ms/step - loss: 0.0217 - accuracy: 0.9878 - val_loss: 0.3320 - val_accuracy: 0.9546\n",
      "Epoch 27/100\n",
      "266/266 [==============================] - 1s 4ms/step - loss: 0.0218 - accuracy: 0.9875 - val_loss: 0.3121 - val_accuracy: 0.9547\n",
      "Epoch 28/100\n",
      "266/266 [==============================] - 1s 4ms/step - loss: 0.0216 - accuracy: 0.9879 - val_loss: 0.3347 - val_accuracy: 0.9543\n",
      "Epoch 29/100\n",
      "266/266 [==============================] - 1s 4ms/step - loss: 0.0216 - accuracy: 0.9879 - val_loss: 0.3453 - val_accuracy: 0.9543\n",
      "Epoch 30/100\n",
      "266/266 [==============================] - 1s 4ms/step - loss: 0.0217 - accuracy: 0.9877 - val_loss: 0.3518 - val_accuracy: 0.9552\n",
      "Epoch 31/100\n",
      "266/266 [==============================] - 1s 4ms/step - loss: 0.0222 - accuracy: 0.9876 - val_loss: 0.2792 - val_accuracy: 0.9544\n",
      "Epoch 32/100\n",
      "266/266 [==============================] - 1s 4ms/step - loss: 0.0219 - accuracy: 0.9878 - val_loss: 0.2490 - val_accuracy: 0.9543\n",
      "Epoch 33/100\n",
      "266/266 [==============================] - 1s 4ms/step - loss: 0.0221 - accuracy: 0.9877 - val_loss: 0.3035 - val_accuracy: 0.9543\n",
      "Epoch 34/100\n",
      "266/266 [==============================] - 1s 4ms/step - loss: 0.0225 - accuracy: 0.9877 - val_loss: 0.3296 - val_accuracy: 0.9543\n",
      "Epoch 35/100\n",
      "266/266 [==============================] - 1s 4ms/step - loss: 0.0217 - accuracy: 0.9876 - val_loss: 0.3668 - val_accuracy: 0.9541\n",
      "Epoch 36/100\n",
      "266/266 [==============================] - 1s 4ms/step - loss: 0.0217 - accuracy: 0.9878 - val_loss: 0.3907 - val_accuracy: 0.9549\n",
      "Epoch 37/100\n",
      "266/266 [==============================] - 1s 4ms/step - loss: 0.0217 - accuracy: 0.9876 - val_loss: 0.3683 - val_accuracy: 0.9549\n",
      "Epoch 38/100\n",
      "266/266 [==============================] - 1s 4ms/step - loss: 0.0216 - accuracy: 0.9879 - val_loss: 0.3903 - val_accuracy: 0.9544\n",
      "Epoch 39/100\n",
      "266/266 [==============================] - 1s 4ms/step - loss: 0.0217 - accuracy: 0.9877 - val_loss: 0.3810 - val_accuracy: 0.9544\n",
      "Epoch 40/100\n",
      "266/266 [==============================] - 1s 5ms/step - loss: 0.0217 - accuracy: 0.9877 - val_loss: 0.3783 - val_accuracy: 0.9549\n",
      "Epoch 41/100\n",
      "266/266 [==============================] - 1s 4ms/step - loss: 0.0216 - accuracy: 0.9879 - val_loss: 0.4018 - val_accuracy: 0.9543\n",
      "Epoch 42/100\n",
      "266/266 [==============================] - 1s 5ms/step - loss: 0.0216 - accuracy: 0.9878 - val_loss: 0.4152 - val_accuracy: 0.9544\n",
      "Epoch 43/100\n",
      "266/266 [==============================] - 1s 4ms/step - loss: 0.0219 - accuracy: 0.9877 - val_loss: 0.4479 - val_accuracy: 0.9546\n",
      "Epoch 44/100\n",
      "266/266 [==============================] - 1s 4ms/step - loss: 0.0255 - accuracy: 0.9869 - val_loss: 0.1924 - val_accuracy: 0.9547\n",
      "Epoch 45/100\n",
      "266/266 [==============================] - 1s 4ms/step - loss: 0.0282 - accuracy: 0.9857 - val_loss: 0.2846 - val_accuracy: 0.9541\n",
      "Epoch 46/100\n",
      "266/266 [==============================] - 1s 5ms/step - loss: 0.0225 - accuracy: 0.9877 - val_loss: 0.2635 - val_accuracy: 0.9531\n",
      "Epoch 47/100\n",
      "266/266 [==============================] - 1s 4ms/step - loss: 0.0217 - accuracy: 0.9878 - val_loss: 0.3456 - val_accuracy: 0.9541\n",
      "Epoch 48/100\n",
      "266/266 [==============================] - 1s 4ms/step - loss: 0.0216 - accuracy: 0.9880 - val_loss: 0.3678 - val_accuracy: 0.9541\n",
      "Epoch 49/100\n",
      "266/266 [==============================] - 1s 4ms/step - loss: 0.0219 - accuracy: 0.9879 - val_loss: 0.3043 - val_accuracy: 0.9543\n",
      "Epoch 50/100\n",
      "266/266 [==============================] - 1s 4ms/step - loss: 0.0216 - accuracy: 0.9877 - val_loss: 0.3370 - val_accuracy: 0.9543\n",
      "Epoch 51/100\n",
      "266/266 [==============================] - 1s 4ms/step - loss: 0.0216 - accuracy: 0.9877 - val_loss: 0.3474 - val_accuracy: 0.9543\n",
      "Epoch 52/100\n",
      "266/266 [==============================] - 1s 4ms/step - loss: 0.0217 - accuracy: 0.9877 - val_loss: 0.3558 - val_accuracy: 0.9543\n",
      "Epoch 53/100\n",
      "266/266 [==============================] - 1s 4ms/step - loss: 0.0216 - accuracy: 0.9880 - val_loss: 0.3597 - val_accuracy: 0.9543\n",
      "Epoch 54/100\n",
      "266/266 [==============================] - 1s 4ms/step - loss: 0.0216 - accuracy: 0.9879 - val_loss: 0.3772 - val_accuracy: 0.9541\n",
      "Epoch 55/100\n",
      "266/266 [==============================] - 1s 4ms/step - loss: 0.0216 - accuracy: 0.9879 - val_loss: 0.3639 - val_accuracy: 0.9540\n",
      "Epoch 56/100\n",
      "266/266 [==============================] - 1s 4ms/step - loss: 0.0219 - accuracy: 0.9878 - val_loss: 0.2743 - val_accuracy: 0.9547\n",
      "Epoch 57/100\n",
      "266/266 [==============================] - 1s 4ms/step - loss: 0.0217 - accuracy: 0.9879 - val_loss: 0.3287 - val_accuracy: 0.9547\n",
      "Epoch 58/100\n",
      "266/266 [==============================] - 1s 5ms/step - loss: 0.0217 - accuracy: 0.9879 - val_loss: 0.3671 - val_accuracy: 0.9544\n",
      "Epoch 59/100\n",
      "266/266 [==============================] - 1s 5ms/step - loss: 0.0216 - accuracy: 0.9877 - val_loss: 0.3640 - val_accuracy: 0.9547\n",
      "Epoch 60/100\n",
      "266/266 [==============================] - 1s 5ms/step - loss: 0.0218 - accuracy: 0.9878 - val_loss: 0.3798 - val_accuracy: 0.9529\n",
      "Epoch 61/100\n",
      "266/266 [==============================] - 1s 5ms/step - loss: 0.0221 - accuracy: 0.9878 - val_loss: 0.3140 - val_accuracy: 0.9535\n",
      "Epoch 62/100\n",
      "266/266 [==============================] - 1s 4ms/step - loss: 0.0216 - accuracy: 0.9879 - val_loss: 0.3922 - val_accuracy: 0.9531\n",
      "Epoch 63/100\n",
      "266/266 [==============================] - 1s 5ms/step - loss: 0.0216 - accuracy: 0.9878 - val_loss: 0.4198 - val_accuracy: 0.9535\n",
      "Epoch 64/100\n",
      "266/266 [==============================] - 1s 5ms/step - loss: 0.0218 - accuracy: 0.9879 - val_loss: 0.3400 - val_accuracy: 0.9538\n",
      "Epoch 65/100\n",
      "266/266 [==============================] - 1s 5ms/step - loss: 0.0223 - accuracy: 0.9876 - val_loss: 0.4082 - val_accuracy: 0.9525\n",
      "Epoch 66/100\n",
      "266/266 [==============================] - 1s 5ms/step - loss: 0.0226 - accuracy: 0.9877 - val_loss: 0.3440 - val_accuracy: 0.9531\n",
      "Epoch 67/100\n",
      "266/266 [==============================] - 1s 4ms/step - loss: 0.0224 - accuracy: 0.9878 - val_loss: 0.3841 - val_accuracy: 0.9522\n",
      "Epoch 68/100\n",
      "266/266 [==============================] - 1s 4ms/step - loss: 0.0255 - accuracy: 0.9871 - val_loss: 0.2006 - val_accuracy: 0.9534\n",
      "Epoch 69/100\n",
      "266/266 [==============================] - 1s 4ms/step - loss: 0.0233 - accuracy: 0.9874 - val_loss: 0.2897 - val_accuracy: 0.9559\n",
      "Epoch 70/100\n",
      "266/266 [==============================] - 1s 4ms/step - loss: 0.0219 - accuracy: 0.9877 - val_loss: 0.2885 - val_accuracy: 0.9556\n",
      "Epoch 71/100\n",
      "266/266 [==============================] - 1s 4ms/step - loss: 0.0216 - accuracy: 0.9878 - val_loss: 0.3106 - val_accuracy: 0.9543\n",
      "Epoch 72/100\n",
      "266/266 [==============================] - 1s 4ms/step - loss: 0.0217 - accuracy: 0.9878 - val_loss: 0.3209 - val_accuracy: 0.9543\n",
      "Epoch 73/100\n",
      "266/266 [==============================] - 1s 4ms/step - loss: 0.0217 - accuracy: 0.9878 - val_loss: 0.3270 - val_accuracy: 0.9543\n",
      "Epoch 74/100\n",
      "266/266 [==============================] - 1s 4ms/step - loss: 0.0216 - accuracy: 0.9879 - val_loss: 0.3505 - val_accuracy: 0.9544\n",
      "Epoch 75/100\n",
      "266/266 [==============================] - 1s 4ms/step - loss: 0.0217 - accuracy: 0.9877 - val_loss: 0.3618 - val_accuracy: 0.9546\n",
      "Epoch 76/100\n",
      "266/266 [==============================] - 1s 4ms/step - loss: 0.0216 - accuracy: 0.9877 - val_loss: 0.3528 - val_accuracy: 0.9541\n",
      "Epoch 77/100\n",
      "266/266 [==============================] - 1s 4ms/step - loss: 0.0216 - accuracy: 0.9879 - val_loss: 0.3517 - val_accuracy: 0.9543\n",
      "Epoch 78/100\n",
      "266/266 [==============================] - 1s 4ms/step - loss: 0.0216 - accuracy: 0.9877 - val_loss: 0.3950 - val_accuracy: 0.9543\n",
      "Epoch 79/100\n",
      "266/266 [==============================] - 1s 4ms/step - loss: 0.0216 - accuracy: 0.9880 - val_loss: 0.3806 - val_accuracy: 0.9549\n",
      "Epoch 80/100\n",
      "266/266 [==============================] - 1s 4ms/step - loss: 0.0216 - accuracy: 0.9876 - val_loss: 0.3884 - val_accuracy: 0.9540\n",
      "Epoch 81/100\n",
      "266/266 [==============================] - 1s 4ms/step - loss: 0.0217 - accuracy: 0.9878 - val_loss: 0.3460 - val_accuracy: 0.9552\n",
      "Epoch 82/100\n",
      "266/266 [==============================] - 1s 4ms/step - loss: 0.0216 - accuracy: 0.9879 - val_loss: 0.3665 - val_accuracy: 0.9546\n",
      "Epoch 83/100\n",
      "266/266 [==============================] - 1s 4ms/step - loss: 0.0216 - accuracy: 0.9879 - val_loss: 0.3873 - val_accuracy: 0.9547\n",
      "Epoch 84/100\n",
      "266/266 [==============================] - 1s 4ms/step - loss: 0.0216 - accuracy: 0.9879 - val_loss: 0.4175 - val_accuracy: 0.9552\n",
      "Epoch 85/100\n",
      "266/266 [==============================] - 1s 4ms/step - loss: 0.0222 - accuracy: 0.9879 - val_loss: 0.3021 - val_accuracy: 0.9555\n",
      "Epoch 86/100\n",
      "266/266 [==============================] - 1s 4ms/step - loss: 0.0216 - accuracy: 0.9879 - val_loss: 0.4212 - val_accuracy: 0.9556\n",
      "Epoch 87/100\n",
      "266/266 [==============================] - 1s 5ms/step - loss: 0.0222 - accuracy: 0.9877 - val_loss: 0.4378 - val_accuracy: 0.9553\n",
      "Epoch 88/100\n",
      "266/266 [==============================] - 1s 4ms/step - loss: 0.0226 - accuracy: 0.9877 - val_loss: 0.2138 - val_accuracy: 0.9520\n",
      "Epoch 89/100\n",
      "266/266 [==============================] - 1s 4ms/step - loss: 0.0245 - accuracy: 0.9875 - val_loss: 0.2681 - val_accuracy: 0.9555\n",
      "Epoch 90/100\n",
      "266/266 [==============================] - 1s 4ms/step - loss: 0.0224 - accuracy: 0.9877 - val_loss: 0.3113 - val_accuracy: 0.9547\n",
      "Epoch 91/100\n",
      "266/266 [==============================] - 1s 4ms/step - loss: 0.0223 - accuracy: 0.9878 - val_loss: 0.2570 - val_accuracy: 0.9541\n",
      "Epoch 92/100\n",
      "266/266 [==============================] - 1s 4ms/step - loss: 0.0217 - accuracy: 0.9878 - val_loss: 0.3352 - val_accuracy: 0.9558\n",
      "Epoch 93/100\n",
      "266/266 [==============================] - 1s 4ms/step - loss: 0.0216 - accuracy: 0.9880 - val_loss: 0.3376 - val_accuracy: 0.9559\n",
      "Epoch 94/100\n",
      "266/266 [==============================] - 1s 4ms/step - loss: 0.0221 - accuracy: 0.9877 - val_loss: 0.3427 - val_accuracy: 0.9559\n",
      "Epoch 95/100\n",
      "266/266 [==============================] - 1s 4ms/step - loss: 0.0217 - accuracy: 0.9879 - val_loss: 0.2850 - val_accuracy: 0.9559\n",
      "Epoch 96/100\n",
      "266/266 [==============================] - 1s 4ms/step - loss: 0.0216 - accuracy: 0.9879 - val_loss: 0.3530 - val_accuracy: 0.9565\n",
      "Epoch 97/100\n",
      "266/266 [==============================] - 1s 5ms/step - loss: 0.0216 - accuracy: 0.9878 - val_loss: 0.2959 - val_accuracy: 0.9562\n",
      "Epoch 98/100\n",
      "266/266 [==============================] - 1s 4ms/step - loss: 0.0216 - accuracy: 0.9880 - val_loss: 0.3582 - val_accuracy: 0.9559\n",
      "Epoch 99/100\n",
      "266/266 [==============================] - 1s 5ms/step - loss: 0.0216 - accuracy: 0.9880 - val_loss: 0.3650 - val_accuracy: 0.9567\n",
      "Epoch 100/100\n",
      "266/266 [==============================] - 1s 4ms/step - loss: 0.0216 - accuracy: 0.9879 - val_loss: 0.3715 - val_accuracy: 0.9562\n"
     ]
    },
    {
     "data": {
      "text/plain": [
       "<tensorflow.python.keras.callbacks.History at 0x7f73ec20ca90>"
      ]
     },
     "execution_count": 38,
     "metadata": {
      "tags": []
     },
     "output_type": "execute_result"
    }
   ],
   "source": [
    "model.fit(x_train_tf,y_train.values,validation_data=(x_test_tf,y_test.values),epochs=100,batch_size=100,verbose=1)"
   ]
  },
  {
   "cell_type": "code",
   "execution_count": 0,
   "metadata": {
    "colab": {
     "base_uri": "https://localhost:8080/",
     "height": 50
    },
    "colab_type": "code",
    "id": "nU-gT5mQlu2W",
    "outputId": "1de5647f-3fdb-45d6-af5e-d69c3d51f6ba"
   },
   "outputs": [
    {
     "name": "stdout",
     "output_type": "stream",
     "text": [
      "Train Data Accuracy 0.9995335688806198\n",
      "Test Data Accuracy 0.9917166148486698\n"
     ]
    }
   ],
   "source": [
    "print('Train Data Accuracy',roc_auc_score(y_train,model.predict(x_train_tf)))\n",
    "\n",
    "print('Test Data Accuracy',roc_auc_score(y_test,model.predict(x_test_tf)))"
   ]
  },
  {
   "cell_type": "code",
   "execution_count": 0,
   "metadata": {
    "colab": {},
    "colab_type": "code",
    "id": "hiqCYyInlvDT"
   },
   "outputs": [],
   "source": [
    "cutoffs=np.linspace(0.01,0.99,99)\n",
    "real=y_train\n",
    "prob_score=model.predict(x_train_tf)"
   ]
  },
  {
   "cell_type": "code",
   "execution_count": 0,
   "metadata": {
    "colab": {},
    "colab_type": "code",
    "id": "u7xOrHQClvdx"
   },
   "outputs": [],
   "source": [
    "KS_cut=[]\n",
    "for cutoff in cutoffs:\n",
    "  predicted=pd.Series([0]*len(y_train))\n",
    "  predicted=(prob_score>cutoff).astype(int)\n",
    "  df=pd.DataFrame(list(zip(y_train,predicted)),columns=[\"real\",\"predicted\"])\n",
    "  TP=len(df[(df[\"real\"]==1) & (df[\"predicted\"]==1) ])\n",
    "  FP=len(df[(df[\"real\"]==0) & (df[\"predicted\"]==1) ])\n",
    "  TN=len(df[(df[\"real\"]==0) & (df[\"predicted\"]==0) ])\n",
    "  FN=len(df[(df[\"real\"]==1) & (df[\"predicted\"]==0) ])\n",
    "  P=TP+FN\n",
    "  N=TN+FP\n",
    "  KS=(TP/P)-(FP/N)\n",
    "  KS_cut.append(KS)\n",
    "\n",
    "cutoff_data=pd.DataFrame(list(zip(cutoffs,KS_cut)),columns=[\"cutoff\",\"KS\"])\n",
    "\n",
    "KS_cutoff=cutoff_data[cutoff_data[\"KS\"]==cutoff_data[\"KS\"].max()][\"cutoff\"]"
   ]
  },
  {
   "cell_type": "code",
   "execution_count": 0,
   "metadata": {
    "colab": {
     "base_uri": "https://localhost:8080/",
     "height": 118
    },
    "colab_type": "code",
    "id": "y2u_ZJFbmFVI",
    "outputId": "9a937762-a00c-481c-d00e-6c9191d01800"
   },
   "outputs": [
    {
     "data": {
      "text/plain": [
       "52    0.53\n",
       "53    0.54\n",
       "54    0.55\n",
       "55    0.56\n",
       "56    0.57\n",
       "Name: cutoff, dtype: float64"
      ]
     },
     "execution_count": 42,
     "metadata": {
      "tags": []
     },
     "output_type": "execute_result"
    }
   ],
   "source": [
    "KS_cutoff"
   ]
  },
  {
   "cell_type": "code",
   "execution_count": 0,
   "metadata": {
    "colab": {
     "base_uri": "https://localhost:8080/",
     "height": 136
    },
    "colab_type": "code",
    "id": "XvFyr0wPmFzE",
    "outputId": "7cfb1666-0582-46b7-ae0c-294a67ae896d"
   },
   "outputs": [
    {
     "data": {
      "text/html": [
       "<div>\n",
       "<style scoped>\n",
       "    .dataframe tbody tr th:only-of-type {\n",
       "        vertical-align: middle;\n",
       "    }\n",
       "\n",
       "    .dataframe tbody tr th {\n",
       "        vertical-align: top;\n",
       "    }\n",
       "\n",
       "    .dataframe thead th {\n",
       "        text-align: right;\n",
       "    }\n",
       "</style>\n",
       "<table border=\"1\" class=\"dataframe\">\n",
       "  <thead>\n",
       "    <tr style=\"text-align: right;\">\n",
       "      <th>Predicted</th>\n",
       "      <th>0</th>\n",
       "      <th>1</th>\n",
       "    </tr>\n",
       "    <tr>\n",
       "      <th>Original</th>\n",
       "      <th></th>\n",
       "      <th></th>\n",
       "    </tr>\n",
       "  </thead>\n",
       "  <tbody>\n",
       "    <tr>\n",
       "      <th>0</th>\n",
       "      <td>3148</td>\n",
       "      <td>99</td>\n",
       "    </tr>\n",
       "    <tr>\n",
       "      <th>1</th>\n",
       "      <td>193</td>\n",
       "      <td>3211</td>\n",
       "    </tr>\n",
       "  </tbody>\n",
       "</table>\n",
       "</div>"
      ],
      "text/plain": [
       "Predicted     0     1\n",
       "Original             \n",
       "0          3148    99\n",
       "1           193  3211"
      ]
     },
     "execution_count": 43,
     "metadata": {
      "tags": []
     },
     "output_type": "execute_result"
    }
   ],
   "source": [
    "y_predict_test=model.predict(x_test_tf)\n",
    "binary_predict=((y_predict_test>0.53).astype(int))\n",
    "y_data=pd.DataFrame(binary_predict,columns=['Predicted'])\n",
    "y_data['Original']=y_test\n",
    "pd.crosstab(y_data['Original'],y_data['Predicted'])"
   ]
  },
  {
   "cell_type": "code",
   "execution_count": 0,
   "metadata": {
    "colab": {},
    "colab_type": "code",
    "id": "ERHzcKTylv8E"
   },
   "outputs": [],
   "source": []
  },
  {
   "cell_type": "markdown",
   "metadata": {
    "colab_type": "text",
    "id": "XPn4NITmwBPo"
   },
   "source": [
    "# Word Embedding"
   ]
  },
  {
   "cell_type": "code",
   "execution_count": 0,
   "metadata": {
    "colab": {},
    "colab_type": "code",
    "id": "3Uca6B84wbfY"
   },
   "outputs": [],
   "source": [
    "data_train,data_test=train_test_split(data,test_size=0.2,random_state=2)\n",
    "\n",
    "data_train.reset_index(inplace=True,drop=True)\n",
    "data_test.reset_index(inplace=True,drop=True)\n",
    "\n",
    "x_train=data_train.loc[:,['Subject','Body']]\n",
    "x_train.reset_index(inplace=True,drop=True)\n",
    "\n",
    "x_test=data_test.loc[:,['Subject','Body']]\n",
    "x_test.reset_index(inplace=True,drop=True)"
   ]
  },
  {
   "cell_type": "code",
   "execution_count": 0,
   "metadata": {
    "colab": {},
    "colab_type": "code",
    "id": "jnJSmIKOWETQ"
   },
   "outputs": [],
   "source": [
    "y_train=(data_train['Class']=='spam').astype(int)\n",
    "y_train.reset_index(inplace=True,drop=True)\n",
    "y_test=(data_test['Class']=='spam').astype(int)\n",
    "y_test.reset_index(inplace=True,drop=True)"
   ]
  },
  {
   "cell_type": "code",
   "execution_count": 0,
   "metadata": {
    "colab": {},
    "colab_type": "code",
    "id": "9U7gm2wHwJc-"
   },
   "outputs": [],
   "source": [
    "sen_len=[]\n",
    "\n",
    "for sent in data['Body']:\n",
    "  sen_len.append(len(word_tokenize(sent)))"
   ]
  },
  {
   "cell_type": "code",
   "execution_count": 0,
   "metadata": {
    "colab": {},
    "colab_type": "code",
    "id": "Hkhm274LECzd"
   },
   "outputs": [],
   "source": [
    "np.quantile(sen_len,0.90)"
   ]
  },
  {
   "cell_type": "code",
   "execution_count": 11,
   "metadata": {
    "colab": {
     "base_uri": "https://localhost:8080/",
     "height": 386
    },
    "colab_type": "code",
    "id": "JmWiu74-wr0t",
    "outputId": "046ef722-427b-4783-953a-92bb2e49015f"
   },
   "outputs": [
    {
     "name": "stdout",
     "output_type": "stream",
     "text": [
      "--2020-05-03 11:29:54--  http://nlp.stanford.edu/data/glove.840B.300d.zip\n",
      "Resolving nlp.stanford.edu (nlp.stanford.edu)... 171.64.67.140\n",
      "Connecting to nlp.stanford.edu (nlp.stanford.edu)|171.64.67.140|:80... connected.\n",
      "HTTP request sent, awaiting response... 302 Found\n",
      "Location: https://nlp.stanford.edu/data/glove.840B.300d.zip [following]\n",
      "--2020-05-03 11:29:54--  https://nlp.stanford.edu/data/glove.840B.300d.zip\n",
      "Connecting to nlp.stanford.edu (nlp.stanford.edu)|171.64.67.140|:443... connected.\n",
      "HTTP request sent, awaiting response... 301 Moved Permanently\n",
      "Location: http://downloads.cs.stanford.edu/nlp/data/glove.840B.300d.zip [following]\n",
      "--2020-05-03 11:29:54--  http://downloads.cs.stanford.edu/nlp/data/glove.840B.300d.zip\n",
      "Resolving downloads.cs.stanford.edu (downloads.cs.stanford.edu)... 171.64.64.22\n",
      "Connecting to downloads.cs.stanford.edu (downloads.cs.stanford.edu)|171.64.64.22|:80... connected.\n",
      "HTTP request sent, awaiting response... 200 OK\n",
      "Length: 2176768927 (2.0G) [application/zip]\n",
      "Saving to: ‘glove.840B.300d.zip’\n",
      "\n",
      "glove.840B.300d.zip 100%[===================>]   2.03G  2.01MB/s    in 16m 55s \n",
      "\n",
      "2020-05-03 11:46:49 (2.05 MB/s) - ‘glove.840B.300d.zip’ saved [2176768927/2176768927]\n",
      "\n",
      "Archive:  /content/glove.840B.300d.zip\n",
      "  inflating: glove.840B.300d.txt     \n"
     ]
    }
   ],
   "source": [
    "!wget http://nlp.stanford.edu/data/glove.840B.300d.zip\n",
    "\n",
    "!unzip /content/glove.840B.300d.zip"
   ]
  },
  {
   "cell_type": "code",
   "execution_count": 0,
   "metadata": {
    "colab": {},
    "colab_type": "code",
    "id": "-HOqeC8-wrpO"
   },
   "outputs": [],
   "source": [
    "embedding_index={}\n",
    "\n",
    "f=open('glove.840B.300d.txt','r',errors='ignore',encoding='utf8')\n",
    "\n",
    "for line in f:\n",
    "  values=line.split()\n",
    "  word=values[0]\n",
    "  coefs=np.asarray(values[-300:],dtype='float32')\n",
    "  embedding_index[word]=coefs\n",
    "f.close()"
   ]
  },
  {
   "cell_type": "code",
   "execution_count": 13,
   "metadata": {
    "colab": {
     "base_uri": "https://localhost:8080/",
     "height": 34
    },
    "colab_type": "code",
    "id": "mRB19cJLwrgV",
    "outputId": "7a5c416c-e9ef-4394-ce51-2a0365ae0002"
   },
   "outputs": [
    {
     "name": "stdout",
     "output_type": "stream",
     "text": [
      "vocab_len_sub : 15989\n"
     ]
    }
   ],
   "source": [
    "# Subject word embedding on train and test data\n",
    "\n",
    "max_len_sub = 15\n",
    "tok_sub = Tokenizer(char_level=False,split=' ')\n",
    "tok_sub.fit_on_texts(data_train['Subject'])\n",
    "\n",
    "vocab_len_sub=len(tok_sub.word_index)\n",
    "print(\"vocab_len_sub :\",vocab_len_sub)\n",
    "\n",
    "sequence_sub=tok_sub.texts_to_sequences(data_train['Subject'])\n",
    "sequence_matrix_sub=sequence.pad_sequences(sequence_sub,maxlen=max_len_sub)\n",
    "\n",
    "embedding_matrix_sub=np.zeros((vocab_len_sub+1,300))\n",
    "\n",
    "for word,i in tok_sub.word_index.items():\n",
    "  embed_vector=embedding_index.get(word)\n",
    "  if embed_vector is not None:\n",
    "    embedding_matrix_sub[i]=embed_vector\n",
    "\n",
    "sequence_sub_test=tok_sub.texts_to_sequences(data_test['Subject'])\n",
    "sequence_matrix_sub_test=sequence.pad_sequences(sequence_sub_test,maxlen=max_len_sub)"
   ]
  },
  {
   "cell_type": "code",
   "execution_count": 14,
   "metadata": {
    "colab": {
     "base_uri": "https://localhost:8080/",
     "height": 34
    },
    "colab_type": "code",
    "id": "LAEQnuGKwrWS",
    "outputId": "afafb39c-b1ad-4dc9-e6c4-80abf60591f9"
   },
   "outputs": [
    {
     "name": "stdout",
     "output_type": "stream",
     "text": [
      "vocab_len_body : 135962\n"
     ]
    }
   ],
   "source": [
    "# Body Word embedding on train and test data\n",
    "\n",
    "max_len_body=900\n",
    "tok_body=Tokenizer()\n",
    "tok_body.fit_on_texts(data_train['Body'])\n",
    "\n",
    "sequence_body=tok_body.texts_to_sequences(data_train['Body'])\n",
    "sequence_matrix_body=sequence.pad_sequences(sequence_body,max_len_body)\n",
    "\n",
    "vocab_len_body=len(tok_body.word_index)\n",
    "print(\"vocab_len_body :\",vocab_len_body)\n",
    "\n",
    "embedding_matrix_body=np.zeros((vocab_len_body+1,300))\n",
    "\n",
    "for word,i in tok_body.word_index.items():\n",
    "  embed_vector=embedding_index.get(word)\n",
    "  if embed_vector is not None:\n",
    "    embedding_matrix_body[i]=embed_vector\n",
    "\n",
    "sequence_body_test=tok_body.texts_to_sequences(data_test['Body'])\n",
    "sequence_matrix_body_test=sequence.pad_sequences(sequence_body_test,maxlen=max_len_body)\n",
    "\n"
   ]
  },
  {
   "cell_type": "code",
   "execution_count": 0,
   "metadata": {
    "colab": {},
    "colab_type": "code",
    "id": "NofcbrTQ-Fzo"
   },
   "outputs": [],
   "source": [
    "from tensorflow.keras.layers import Dense,LSTM, LeakyReLU ,BatchNormalization, Dropout,concatenate,Input,Embedding\n",
    "from tensorflow.keras.models import Model"
   ]
  },
  {
   "cell_type": "code",
   "execution_count": 0,
   "metadata": {
    "colab": {},
    "colab_type": "code",
    "id": "jGWi2l2QwrLv"
   },
   "outputs": [],
   "source": [
    "### subject lstm \n",
    "\n",
    "input_sub=Input(name='input_sub',shape=[max_len_sub])\n",
    "\n",
    "layer_sub = Embedding(vocab_len_sub+1,300,input_length=max_len_sub,mask_zero=True,weights=[embedding_matrix_sub],\n",
    "                      trainable=False)(input_sub)\n",
    "layer_sub = LSTM(124)(layer_sub)\n"
   ]
  },
  {
   "cell_type": "code",
   "execution_count": 0,
   "metadata": {
    "colab": {},
    "colab_type": "code",
    "id": "xbpbnEGBwrBD"
   },
   "outputs": [],
   "source": [
    "### body lstm \n",
    "\n",
    "input_body=Input(name='input_body',shape=[max_len_body])\n",
    "\n",
    "layer_body = Embedding(vocab_len_body+1,300,input_length=max_len_body,mask_zero=True,\n",
    "                       weights=[embedding_matrix_body],trainable=False)(input_body)\n",
    "layer_body = LSTM(124)(layer_body)"
   ]
  },
  {
   "cell_type": "code",
   "execution_count": 0,
   "metadata": {
    "colab": {},
    "colab_type": "code",
    "id": "XTb5u1e8wq2Y"
   },
   "outputs": [],
   "source": [
    "# conatenate and dense on top\n",
    "x = concatenate([layer_sub, layer_body])\n",
    "\n",
    "dense1 = Dense(150, activation='relu')(x)\n",
    "drop=Dropout(0.2)(dense1)\n",
    "dense2 = Dense(100, activation=LeakyReLU())(drop)\n",
    "drop1=Dropout(0.2)(dense2)\n",
    "dense3=Dense(50,activation='relu')(drop1)\n",
    "drop2=Dropout(0.25)(dense3)\n",
    "dense4=Dense(20,activation='tanh')(drop2)\n",
    "drop3=Dropout(0.3)(dense4)\n",
    "output = Dense(1, activation='sigmoid',name='output')(drop3)"
   ]
  },
  {
   "cell_type": "code",
   "execution_count": 0,
   "metadata": {
    "colab": {
     "base_uri": "https://localhost:8080/",
     "height": 706
    },
    "colab_type": "code",
    "id": "KhCXqrfYwqqf",
    "outputId": "d4ae54d3-b5d5-40ac-ab04-ff5c289953f0"
   },
   "outputs": [
    {
     "name": "stdout",
     "output_type": "stream",
     "text": [
      "Model: \"model_3\"\n",
      "__________________________________________________________________________________________________\n",
      "Layer (type)                    Output Shape         Param #     Connected to                     \n",
      "==================================================================================================\n",
      "input_sub (InputLayer)          [(None, 15)]         0                                            \n",
      "__________________________________________________________________________________________________\n",
      "input_body (InputLayer)         [(None, 900)]        0                                            \n",
      "__________________________________________________________________________________________________\n",
      "embedding_4 (Embedding)         (None, 15, 300)      4797000     input_sub[0][0]                  \n",
      "__________________________________________________________________________________________________\n",
      "embedding_5 (Embedding)         (None, 900, 300)     40788900    input_body[0][0]                 \n",
      "__________________________________________________________________________________________________\n",
      "lstm_4 (LSTM)                   (None, 124)          210800      embedding_4[0][0]                \n",
      "__________________________________________________________________________________________________\n",
      "lstm_5 (LSTM)                   (None, 124)          210800      embedding_5[0][0]                \n",
      "__________________________________________________________________________________________________\n",
      "concatenate_3 (Concatenate)     (None, 248)          0           lstm_4[0][0]                     \n",
      "                                                                 lstm_5[0][0]                     \n",
      "__________________________________________________________________________________________________\n",
      "dense_9 (Dense)                 (None, 150)          37350       concatenate_3[0][0]              \n",
      "__________________________________________________________________________________________________\n",
      "dropout_4 (Dropout)             (None, 150)          0           dense_9[0][0]                    \n",
      "__________________________________________________________________________________________________\n",
      "dense_10 (Dense)                (None, 100)          15100       dropout_4[0][0]                  \n",
      "__________________________________________________________________________________________________\n",
      "dropout_5 (Dropout)             (None, 100)          0           dense_10[0][0]                   \n",
      "__________________________________________________________________________________________________\n",
      "dense_11 (Dense)                (None, 50)           5050        dropout_5[0][0]                  \n",
      "__________________________________________________________________________________________________\n",
      "dropout_6 (Dropout)             (None, 50)           0           dense_11[0][0]                   \n",
      "__________________________________________________________________________________________________\n",
      "dense_12 (Dense)                (None, 20)           1020        dropout_6[0][0]                  \n",
      "__________________________________________________________________________________________________\n",
      "dropout_7 (Dropout)             (None, 20)           0           dense_12[0][0]                   \n",
      "__________________________________________________________________________________________________\n",
      "output (Dense)                  (None, 1)            21          dropout_7[0][0]                  \n",
      "==================================================================================================\n",
      "Total params: 46,066,041\n",
      "Trainable params: 480,141\n",
      "Non-trainable params: 45,585,900\n",
      "__________________________________________________________________________________________________\n"
     ]
    }
   ],
   "source": [
    "model_we = Model(inputs=[input_sub,input_body],outputs=[output])\n",
    "model_we.compile(optimizer='adam',loss='binary_crossentropy',metrics=['accuracy'])\n",
    "model_we.summary()"
   ]
  },
  {
   "cell_type": "code",
   "execution_count": 0,
   "metadata": {
    "colab": {
     "base_uri": "https://localhost:8080/",
     "height": 1000
    },
    "colab_type": "code",
    "id": "ZAGQwpoeyBpQ",
    "outputId": "197b7fd6-6307-4e39-fe4e-6dab3663754f"
   },
   "outputs": [
    {
     "data": {
      "image/png": "[encoded data removed]",
      "text/plain": [
       "<IPython.core.display.Image object>"
      ]
     },
     "execution_count": 96,
     "metadata": {
      "tags": []
     },
     "output_type": "execute_result"
    }
   ],
   "source": [
    "from tensorflow.keras.utils import plot_model\n",
    "plot_model(model_we,show_shapes=True)"
   ]
  },
  {
   "cell_type": "code",
   "execution_count": 0,
   "metadata": {
    "colab": {},
    "colab_type": "code",
    "id": "Bc8btFh7QKvx"
   },
   "outputs": [],
   "source": [
    "from tensorflow.keras.callbacks import ModelCheckpoint, EarlyStopping\n",
    "import os\n",
    "outputFolder = './subscriber_model_output'\n",
    "\n",
    "if not os.path.exists(outputFolder):\n",
    "    os.makedirs(outputFolder)\n",
    "\n",
    "filepath=outputFolder+\"/weights-{epoch:02d}-{val_accuracy:.4f}.h5\"\n",
    "checkpoint = ModelCheckpoint(filepath, monitor='val_accuracy', \n",
    "                             verbose=1, \n",
    "                             save_best_only=True, \n",
    "                             save_weights_only=True, \n",
    "                             mode='auto')\n",
    "earlystop = EarlyStopping(monitor='val_accuracy', \n",
    "                          min_delta=0.0001, patience=5,\n",
    "                          verbose=1, mode='auto')"
   ]
  },
  {
   "cell_type": "code",
   "execution_count": 0,
   "metadata": {
    "colab": {},
    "colab_type": "code",
    "id": "C8X8VY95QioB"
   },
   "outputs": [],
   "source": [
    "# for Model loaded with last best fit\n",
    "\n",
    "model_we.compile(optimizer='adam',loss='binary_crossentropy',metrics=['accuracy'])"
   ]
  },
  {
   "cell_type": "code",
   "execution_count": 33,
   "metadata": {
    "colab": {
     "base_uri": "https://localhost:8080/",
     "height": 924
    },
    "colab_type": "code",
    "id": "zKZwSrtTyJMz",
    "outputId": "2855dfa4-3ca7-48b9-c7cb-cf162da300f7"
   },
   "outputs": [
    {
     "name": "stdout",
     "output_type": "stream",
     "text": [
      "Epoch 1/20\n",
      "133/133 [==============================] - ETA: 0s - loss: 0.0023 - accuracy: 0.9993\n",
      "Epoch 00001: val_accuracy improved from -inf to 0.98812, saving model to ./subscriber_model_output/weights-01-0.9881.h5\n",
      "133/133 [==============================] - 165s 1s/step - loss: 0.0023 - accuracy: 0.9993 - val_loss: 0.0720 - val_accuracy: 0.9881\n",
      "Epoch 2/20\n",
      "133/133 [==============================] - ETA: 0s - loss: 0.0029 - accuracy: 0.9993\n",
      "Epoch 00002: val_accuracy did not improve from 0.98812\n",
      "133/133 [==============================] - 160s 1s/step - loss: 0.0029 - accuracy: 0.9993 - val_loss: 0.0703 - val_accuracy: 0.9866\n",
      "Epoch 3/20\n",
      "133/133 [==============================] - ETA: 0s - loss: 7.1883e-04 - accuracy: 0.9998\n",
      "Epoch 00003: val_accuracy improved from 0.98812 to 0.98872, saving model to ./subscriber_model_output/weights-03-0.9887.h5\n",
      "133/133 [==============================] - 159s 1s/step - loss: 7.1883e-04 - accuracy: 0.9998 - val_loss: 0.0724 - val_accuracy: 0.9887\n",
      "Epoch 4/20\n",
      "133/133 [==============================] - ETA: 0s - loss: 0.0011 - accuracy: 0.9996\n",
      "Epoch 00004: val_accuracy did not improve from 0.98872\n",
      "133/133 [==============================] - 158s 1s/step - loss: 0.0011 - accuracy: 0.9996 - val_loss: 0.0757 - val_accuracy: 0.9862\n",
      "Epoch 5/20\n",
      "133/133 [==============================] - ETA: 0s - loss: 0.0051 - accuracy: 0.9985\n",
      "Epoch 00005: val_accuracy did not improve from 0.98872\n",
      "133/133 [==============================] - 158s 1s/step - loss: 0.0051 - accuracy: 0.9985 - val_loss: 0.0656 - val_accuracy: 0.9836\n",
      "Epoch 6/20\n",
      "133/133 [==============================] - ETA: 0s - loss: 0.0024 - accuracy: 0.9992\n",
      "Epoch 00006: val_accuracy did not improve from 0.98872\n",
      "133/133 [==============================] - 157s 1s/step - loss: 0.0024 - accuracy: 0.9992 - val_loss: 0.0679 - val_accuracy: 0.9869\n",
      "Epoch 7/20\n",
      "133/133 [==============================] - ETA: 0s - loss: 5.0788e-04 - accuracy: 0.9999\n",
      "Epoch 00007: val_accuracy did not improve from 0.98872\n",
      "133/133 [==============================] - 155s 1s/step - loss: 5.0788e-04 - accuracy: 0.9999 - val_loss: 0.0684 - val_accuracy: 0.9877\n",
      "Epoch 8/20\n",
      "133/133 [==============================] - ETA: 0s - loss: 2.5842e-04 - accuracy: 0.9999\n",
      "Epoch 00008: val_accuracy improved from 0.98872 to 0.98902, saving model to ./subscriber_model_output/weights-08-0.9890.h5\n",
      "133/133 [==============================] - 155s 1s/step - loss: 2.5842e-04 - accuracy: 0.9999 - val_loss: 0.0723 - val_accuracy: 0.9890\n",
      "Epoch 9/20\n",
      "133/133 [==============================] - ETA: 0s - loss: 2.5462e-05 - accuracy: 1.0000\n",
      "Epoch 00009: val_accuracy did not improve from 0.98902\n",
      "133/133 [==============================] - 155s 1s/step - loss: 2.5462e-05 - accuracy: 1.0000 - val_loss: 0.0742 - val_accuracy: 0.9886\n",
      "Epoch 10/20\n",
      "133/133 [==============================] - ETA: 0s - loss: 1.6842e-05 - accuracy: 1.0000\n",
      "Epoch 00010: val_accuracy did not improve from 0.98902\n",
      "133/133 [==============================] - 156s 1s/step - loss: 1.6842e-05 - accuracy: 1.0000 - val_loss: 0.0760 - val_accuracy: 0.9886\n",
      "Epoch 11/20\n",
      "133/133 [==============================] - ETA: 0s - loss: 1.2751e-05 - accuracy: 1.0000\n",
      "Epoch 00011: val_accuracy did not improve from 0.98902\n",
      "133/133 [==============================] - 155s 1s/step - loss: 1.2751e-05 - accuracy: 1.0000 - val_loss: 0.0774 - val_accuracy: 0.9886\n",
      "Epoch 12/20\n",
      "133/133 [==============================] - ETA: 0s - loss: 1.0186e-05 - accuracy: 1.0000\n",
      "Epoch 00012: val_accuracy did not improve from 0.98902\n",
      "133/133 [==============================] - 155s 1s/step - loss: 1.0186e-05 - accuracy: 1.0000 - val_loss: 0.0790 - val_accuracy: 0.9884\n",
      "Epoch 13/20\n",
      "133/133 [==============================] - ETA: 0s - loss: 1.0309e-05 - accuracy: 1.0000\n",
      "Epoch 00013: val_accuracy did not improve from 0.98902\n",
      "133/133 [==============================] - 154s 1s/step - loss: 1.0309e-05 - accuracy: 1.0000 - val_loss: 0.0804 - val_accuracy: 0.9884\n",
      "Epoch 00013: early stopping\n"
     ]
    },
    {
     "data": {
      "text/plain": [
       "<tensorflow.python.keras.callbacks.History at 0x7f858dd167b8>"
      ]
     },
     "execution_count": 33,
     "metadata": {
      "tags": []
     },
     "output_type": "execute_result"
    }
   ],
   "source": [
    "model_we.fit([sequence_matrix_sub,sequence_matrix_body],y_train.values,validation_data=([sequence_matrix_sub_test,sequence_matrix_body_test],y_test.values),\n",
    "          epochs=20,batch_size=200,verbose=1,callbacks=[checkpoint,earlystop])"
   ]
  },
  {
   "cell_type": "code",
   "execution_count": 0,
   "metadata": {
    "colab": {},
    "colab_type": "code",
    "id": "hDtLv78fuu1w"
   },
   "outputs": [],
   "source": [
    "y_prob=model_we.predict([sequence_matrix_sub,sequence_matrix_body])"
   ]
  },
  {
   "cell_type": "code",
   "execution_count": 35,
   "metadata": {
    "colab": {
     "base_uri": "https://localhost:8080/",
     "height": 50
    },
    "colab_type": "code",
    "id": "c7wq34qPyJGC",
    "outputId": "4f6831ce-42e0-4572-d728-c124b668a150"
   },
   "outputs": [
    {
     "name": "stdout",
     "output_type": "stream",
     "text": [
      "Train data accuracy 1.0\n",
      "Test data accuracy 0.9990551252769889\n"
     ]
    }
   ],
   "source": [
    "print('Train data accuracy',roc_auc_score(y_train,y_prob))\n",
    "print('Test data accuracy',roc_auc_score(y_test,model_we.predict([sequence_matrix_sub_test,sequence_matrix_body_test])))"
   ]
  },
  {
   "cell_type": "code",
   "execution_count": 0,
   "metadata": {
    "colab": {},
    "colab_type": "code",
    "id": "E8vHZ5pyyJEb"
   },
   "outputs": [],
   "source": [
    "cutoffs=np.linspace(0.01,0.99,99)\n",
    "real=y_train\n",
    "prob_score=y_prob"
   ]
  },
  {
   "cell_type": "code",
   "execution_count": 0,
   "metadata": {
    "colab": {},
    "colab_type": "code",
    "id": "7UzfXepYyI9x"
   },
   "outputs": [],
   "source": [
    "KS_cut=[]\n",
    "for cutoff in cutoffs:\n",
    "  predicted=pd.Series([0]*len(y_train))\n",
    "  predicted=(prob_score>cutoff).astype(int)\n",
    "  df=pd.DataFrame(list(zip(y_train,predicted)),columns=[\"real\",\"predicted\"])\n",
    "  TP=len(df[(df[\"real\"]==1) & (df[\"predicted\"]==1) ])\n",
    "  FP=len(df[(df[\"real\"]==0) & (df[\"predicted\"]==1) ])\n",
    "  TN=len(df[(df[\"real\"]==0) & (df[\"predicted\"]==0) ])\n",
    "  FN=len(df[(df[\"real\"]==1) & (df[\"predicted\"]==0) ])\n",
    "  P=TP+FN\n",
    "  N=TN+FP\n",
    "  KS=(TP/P)-(FP/N)\n",
    "  KS_cut.append(KS)\n",
    "\n",
    "cutoff_data=pd.DataFrame(list(zip(cutoffs,KS_cut)),columns=[\"cutoff\",\"KS\"])\n",
    "\n",
    "KS_cutoff=cutoff_data[cutoff_data[\"KS\"]==cutoff_data[\"KS\"].max()][\"cutoff\"]"
   ]
  },
  {
   "cell_type": "code",
   "execution_count": 38,
   "metadata": {
    "colab": {
     "base_uri": "https://localhost:8080/",
     "height": 34
    },
    "colab_type": "code",
    "id": "_k4UqTQ7yI8T",
    "outputId": "ac8ac3bb-99ba-428c-bd28-ab992e7fe3ff"
   },
   "outputs": [
    {
     "data": {
      "text/plain": [
       "0.01"
      ]
     },
     "execution_count": 38,
     "metadata": {
      "tags": []
     },
     "output_type": "execute_result"
    }
   ],
   "source": [
    "list(KS_cutoff)[0]"
   ]
  },
  {
   "cell_type": "code",
   "execution_count": 39,
   "metadata": {
    "colab": {
     "base_uri": "https://localhost:8080/",
     "height": 136
    },
    "colab_type": "code",
    "id": "QuhoZPSwyI1S",
    "outputId": "4e874706-20ab-484d-dfcc-a02e1cb5a40f"
   },
   "outputs": [
    {
     "data": {
      "text/html": [
       "<div>\n",
       "<style scoped>\n",
       "    .dataframe tbody tr th:only-of-type {\n",
       "        vertical-align: middle;\n",
       "    }\n",
       "\n",
       "    .dataframe tbody tr th {\n",
       "        vertical-align: top;\n",
       "    }\n",
       "\n",
       "    .dataframe thead th {\n",
       "        text-align: right;\n",
       "    }\n",
       "</style>\n",
       "<table border=\"1\" class=\"dataframe\">\n",
       "  <thead>\n",
       "    <tr style=\"text-align: right;\">\n",
       "      <th>Predicted</th>\n",
       "      <th>0</th>\n",
       "      <th>1</th>\n",
       "    </tr>\n",
       "    <tr>\n",
       "      <th>Original</th>\n",
       "      <th></th>\n",
       "      <th></th>\n",
       "    </tr>\n",
       "  </thead>\n",
       "  <tbody>\n",
       "    <tr>\n",
       "      <th>0</th>\n",
       "      <td>3199</td>\n",
       "      <td>48</td>\n",
       "    </tr>\n",
       "    <tr>\n",
       "      <th>1</th>\n",
       "      <td>22</td>\n",
       "      <td>3382</td>\n",
       "    </tr>\n",
       "  </tbody>\n",
       "</table>\n",
       "</div>"
      ],
      "text/plain": [
       "Predicted     0     1\n",
       "Original             \n",
       "0          3199    48\n",
       "1            22  3382"
      ]
     },
     "execution_count": 39,
     "metadata": {
      "tags": []
     },
     "output_type": "execute_result"
    }
   ],
   "source": [
    "y_predict_test=model_we.predict([sequence_matrix_sub_test,sequence_matrix_body_test])\n",
    "binary_predict=((y_predict_test>0.01).astype(int))\n",
    "y_data=pd.DataFrame(binary_predict,columns=['Predicted'])\n",
    "y_data['Original']=y_test\n",
    "pd.crosstab(y_data['Original'],y_data['Predicted'])"
   ]
  },
  {
   "cell_type": "code",
   "execution_count": 0,
   "metadata": {
    "colab": {},
    "colab_type": "code",
    "id": "vqCCXoVryIzr"
   },
   "outputs": [],
   "source": [
    "# model_we.save(r'/content/gdrive/My Drive/model_we_v2.h5')\n",
    "# 0.01"
   ]
  },
  {
   "cell_type": "code",
   "execution_count": 0,
   "metadata": {
    "colab": {},
    "colab_type": "code",
    "id": "qXpyClImBv34"
   },
   "outputs": [],
   "source": [
    "#Testing on SPAM Data"
   ]
  },
  {
   "cell_type": "code",
   "execution_count": 0,
   "metadata": {
    "colab": {},
    "colab_type": "code",
    "id": "D2wsHGBcyIdp"
   },
   "outputs": [],
   "source": [
    "spam_mail=pd.read_csv(r'/content/my mail spam.csv?dl=0')"
   ]
  },
  {
   "cell_type": "code",
   "execution_count": 0,
   "metadata": {
    "colab": {},
    "colab_type": "code",
    "id": "wKtTs6y7GeJr"
   },
   "outputs": [],
   "source": [
    "spam=spam_mail.loc[:,['Subject', 'Body']]"
   ]
  },
  {
   "cell_type": "code",
   "execution_count": 0,
   "metadata": {
    "colab": {},
    "colab_type": "code",
    "id": "LAfAbP4pWYYf"
   },
   "outputs": [],
   "source": [
    "spam['Body']=np.where(spam['Body'].isnull(),\"nan\",spam['Body'])"
   ]
  },
  {
   "cell_type": "code",
   "execution_count": 44,
   "metadata": {
    "colab": {
     "base_uri": "https://localhost:8080/",
     "height": 34
    },
    "colab_type": "code",
    "id": "J6apmcCkQjXc",
    "outputId": "b297f40a-2418-4344-c994-a6ba7d2e3a7f"
   },
   "outputs": [
    {
     "data": {
      "text/plain": [
       "(413, 2)"
      ]
     },
     "execution_count": 44,
     "metadata": {
      "tags": []
     },
     "output_type": "execute_result"
    }
   ],
   "source": [
    "spam.shape"
   ]
  },
  {
   "cell_type": "code",
   "execution_count": 0,
   "metadata": {
    "colab": {},
    "colab_type": "code",
    "id": "IMKpMnAEyITZ"
   },
   "outputs": [],
   "source": [
    "import re\n",
    "string_check= re.compile(r'[@_:.;!#$%^&*()<>?/\\|}{~]+-*')\n",
    "spam['Subject'] = spam['Subject'].apply(lambda x: (\" \".join([i for i in x.strip().split() if (string_check.search(i)==None) and ('http' not in i) and ('html' not in i)\n",
    "          and ('HTML' not in i) and (\"=\" not in i) and (i not in my_stop) and (\"+\" not in i) and (\"-\" not in i) and (len(i)<28)])).strip())\n",
    "\n",
    "spam['Body'] = spam['Body'].apply(lambda x: (\" \".join([i for i in x.strip().split() if (string_check.search(i)==None) and ('http' not in i) and ('html' not in i)\n",
    "          and ('HTML' not in i) and (\"=\" not in i) and (i not in my_stop) and (\"+\" not in i) and (\"-\" not in i) and (len(i)<28)])).strip())"
   ]
  },
  {
   "cell_type": "code",
   "execution_count": 0,
   "metadata": {
    "colab": {},
    "colab_type": "code",
    "id": "Sx1viy28XBtO"
   },
   "outputs": [],
   "source": [
    "sequence_spam_mail_sub=tok_sub.texts_to_sequences(spam['Subject'])\n",
    "seq_spam_mail_sub_matrix=sequence.pad_sequences(sequence_spam_mail_sub,maxlen=max_len_sub)\n",
    "\n",
    "sequence_spam_mail_body=tok_body.texts_to_sequences(spam['Body'])\n",
    "seq_spam_mail_body_matrix=sequence.pad_sequences(sequence.pad_sequences(sequence_spam_mail_body,maxlen=max_len_body))"
   ]
  },
  {
   "cell_type": "code",
   "execution_count": 0,
   "metadata": {
    "colab": {},
    "colab_type": "code",
    "id": "k2aTBdZjQ2Hb"
   },
   "outputs": [],
   "source": [
    "from tensorflow.keras.models import load_model"
   ]
  },
  {
   "cell_type": "code",
   "execution_count": 0,
   "metadata": {
    "colab": {},
    "colab_type": "code",
    "id": "MOXtUdnpRNUJ"
   },
   "outputs": [],
   "source": [
    "# model_we=load_model(r'/content/gdrive/My Drive/model_we.h5',custom_objects={'LeakyReLU':LeakyReLU()})"
   ]
  },
  {
   "cell_type": "code",
   "execution_count": 0,
   "metadata": {
    "colab": {},
    "colab_type": "code",
    "id": "eElZO-ThRNOe"
   },
   "outputs": [],
   "source": []
  },
  {
   "cell_type": "code",
   "execution_count": 0,
   "metadata": {
    "colab": {},
    "colab_type": "code",
    "id": "S5-x1rHPXBrz"
   },
   "outputs": [],
   "source": [
    "y_spam_mail=model_we.predict([seq_spam_mail_sub_matrix,seq_spam_mail_body_matrix])"
   ]
  },
  {
   "cell_type": "code",
   "execution_count": 0,
   "metadata": {
    "colab": {},
    "colab_type": "code",
    "id": "g0L0j1xZXBnJ"
   },
   "outputs": [],
   "source": [
    "y_spam_binary=pd.DataFrame((y_spam_mail>0.01).astype(int),columns=['y_spam_pred'])"
   ]
  },
  {
   "cell_type": "code",
   "execution_count": 50,
   "metadata": {
    "colab": {
     "base_uri": "https://localhost:8080/",
     "height": 67
    },
    "colab_type": "code",
    "id": "Hx96DvG3XBln",
    "outputId": "0a4faadd-6c92-4cd5-b857-f733bb4ad179"
   },
   "outputs": [
    {
     "data": {
      "text/plain": [
       "1    370\n",
       "0     43\n",
       "Name: y_spam_pred, dtype: int64"
      ]
     },
     "execution_count": 50,
     "metadata": {
      "tags": []
     },
     "output_type": "execute_result"
    }
   ],
   "source": [
    "y_spam_binary['y_spam_pred'].value_counts()"
   ]
  },
  {
   "cell_type": "code",
   "execution_count": 0,
   "metadata": {
    "colab": {},
    "colab_type": "code",
    "id": "Cq6vHsvlXBfu"
   },
   "outputs": [],
   "source": [
    "spam['predicted_we']=(y_spam_mail>0.01).astype(int)"
   ]
  },
  {
   "cell_type": "code",
   "execution_count": 0,
   "metadata": {
    "colab": {},
    "colab_type": "code",
    "id": "opU94P-LBq8J"
   },
   "outputs": [],
   "source": [
    "#Mail Data"
   ]
  },
  {
   "cell_type": "code",
   "execution_count": 59,
   "metadata": {
    "colab": {
     "base_uri": "https://localhost:8080/",
     "height": 373
    },
    "colab_type": "code",
    "id": "mJiAN5b-pSKi",
    "outputId": "62a74d7c-1192-4e1a-df07-3f2bd893fd0d"
   },
   "outputs": [
    {
     "name": "stdout",
     "output_type": "stream",
     "text": [
      "--2020-05-03 13:40:01--  https://www.dropbox.com/s/hmgoihdu8nubzsu/my%20mail.csv?dl=0\n",
      "Resolving www.dropbox.com (www.dropbox.com)... 162.125.8.1, 2620:100:601b:1::a27d:801\n",
      "Connecting to www.dropbox.com (www.dropbox.com)|162.125.8.1|:443... connected.\n",
      "HTTP request sent, awaiting response... 301 Moved Permanently\n",
      "Location: /s/raw/hmgoihdu8nubzsu/my%20mail.csv [following]\n",
      "--2020-05-03 13:40:01--  https://www.dropbox.com/s/raw/hmgoihdu8nubzsu/my%20mail.csv\n",
      "Reusing existing connection to www.dropbox.com:443.\n",
      "HTTP request sent, awaiting response... 302 Found\n",
      "Location: https://uc47dbfff6375b0352c26b9e3a58.dl.dropboxusercontent.com/cd/0/inline/A3BgD_Y8lAKuBkc5RFfSzmErNdox-APlY53pcPnBH3UO2pF_wEP0_AOzYigy_fgFgNNlKNR-HRU_t9_o_-0quUGDz9yco3rZnAr8E-0MlcYnjvNVBcniWWU4BoHhSeGGVwo/file# [following]\n",
      "--2020-05-03 13:40:02--  https://uc47dbfff6375b0352c26b9e3a58.dl.dropboxusercontent.com/cd/0/inline/A3BgD_Y8lAKuBkc5RFfSzmErNdox-APlY53pcPnBH3UO2pF_wEP0_AOzYigy_fgFgNNlKNR-HRU_t9_o_-0quUGDz9yco3rZnAr8E-0MlcYnjvNVBcniWWU4BoHhSeGGVwo/file\n",
      "Resolving uc47dbfff6375b0352c26b9e3a58.dl.dropboxusercontent.com (uc47dbfff6375b0352c26b9e3a58.dl.dropboxusercontent.com)... 162.125.8.6, 2620:100:601b:6::a27d:806\n",
      "Connecting to uc47dbfff6375b0352c26b9e3a58.dl.dropboxusercontent.com (uc47dbfff6375b0352c26b9e3a58.dl.dropboxusercontent.com)|162.125.8.6|:443... connected.\n",
      "HTTP request sent, awaiting response... 200 OK\n",
      "Length: 168200153 (160M) [text/plain]\n",
      "Saving to: ‘my mail.csv?dl=0’\n",
      "\n",
      "my mail.csv?dl=0    100%[===================>] 160.41M  80.5MB/s    in 2.0s    \n",
      "\n",
      "2020-05-03 13:40:04 (80.5 MB/s) - ‘my mail.csv?dl=0’ saved [168200153/168200153]\n",
      "\n"
     ]
    }
   ],
   "source": [
    "mydata=pd.read_csv(r'/content/my mail.csv?dl=0')"
   ]
  },
  {
   "cell_type": "code",
   "execution_count": 0,
   "metadata": {
    "colab": {},
    "colab_type": "code",
    "id": "PO8dMJSapivD"
   },
   "outputs": [],
   "source": [
    "mail=mydata.loc[(mydata['Subject'].notnull()) & (mydata['Body'].notnull()),['Mail_Id','Subject','Body']]\n",
    "mail.reset_index(drop=True,inplace=True)"
   ]
  },
  {
   "cell_type": "code",
   "execution_count": 66,
   "metadata": {
    "colab": {
     "base_uri": "https://localhost:8080/",
     "height": 34
    },
    "colab_type": "code",
    "id": "gBVyQVgbxnNT",
    "outputId": "01a9399b-665d-406b-8081-a53871d6bc96"
   },
   "outputs": [
    {
     "data": {
      "text/plain": [
       "(24569, 4)"
      ]
     },
     "execution_count": 66,
     "metadata": {
      "tags": []
     },
     "output_type": "execute_result"
    }
   ],
   "source": [
    "mail.shape"
   ]
  },
  {
   "cell_type": "code",
   "execution_count": 0,
   "metadata": {
    "colab": {},
    "colab_type": "code",
    "id": "2TOnM1BrpijK"
   },
   "outputs": [],
   "source": [
    "string_check= re.compile(r'[@_:.;!#$%^&*()<>?/\\|}{~]+-*')\n",
    "mail['Subject'] = mail['Subject'].apply(lambda x: (\" \".join([i for i in x.strip().split() if (string_check.search(i)==None) and ('http' not in i) and ('html' not in i)\n",
    "          and ('HTML' not in i) and (\"=\" not in i) and (i not in my_stop) and (\"+\" not in i) and (\"-\" not in i) and (len(i)<28)])).strip())\n",
    "\n",
    "mail['Body'] = mail['Body'].apply(lambda x: (\" \".join([i for i in x.strip().split() if (string_check.search(i)==None) and ('http' not in i) and ('html' not in i)\n",
    "          and ('HTML' not in i) and (\"=\" not in i) and (i not in my_stop) and (\"+\" not in i) and (\"-\" not in i) and (len(i)<28)])).strip())"
   ]
  },
  {
   "cell_type": "code",
   "execution_count": 0,
   "metadata": {
    "colab": {},
    "colab_type": "code",
    "id": "2rgSP8C4piVy"
   },
   "outputs": [],
   "source": [
    "# Mail Subject\n",
    "\n",
    "sequence_mail_sub=tok_sub.texts_to_sequences(mail['Subject'])\n",
    "sequence_mail_sub_matrix=sequence.pad_sequences(sequence_mail_sub,maxlen=max_len_sub)\n",
    "\n",
    "# Mail Body\n",
    "\n",
    "sequence_mail_body=tok_body.texts_to_sequences(mail['Body'])\n",
    "sequence_mail_body_matrix=sequence.pad_sequences(sequence_mail_body,maxlen=max_len_body)"
   ]
  },
  {
   "cell_type": "code",
   "execution_count": 0,
   "metadata": {
    "colab": {},
    "colab_type": "code",
    "id": "-6iG030YxIHp"
   },
   "outputs": [],
   "source": [
    "#After further training...\n",
    "y_mail=model_we.predict([sequence_mail_sub_matrix,sequence_mail_body_matrix])\n",
    "\n",
    "mail['predict_we']=(y_mail>0.01).astype(int)"
   ]
  },
  {
   "cell_type": "code",
   "execution_count": 65,
   "metadata": {
    "colab": {
     "base_uri": "https://localhost:8080/",
     "height": 67
    },
    "colab_type": "code",
    "id": "JJdwmWBHxH16",
    "outputId": "ef03ee85-0560-4f52-dd4a-55b6173b476b"
   },
   "outputs": [
    {
     "data": {
      "text/plain": [
       "1    22031\n",
       "0     2538\n",
       "Name: predict_we, dtype: int64"
      ]
     },
     "execution_count": 65,
     "metadata": {
      "tags": []
     },
     "output_type": "execute_result"
    }
   ],
   "source": [
    "mail['predict_we'].value_counts()"
   ]
  },
  {
   "cell_type": "code",
   "execution_count": 77,
   "metadata": {
    "colab": {
     "base_uri": "https://localhost:8080/",
     "height": 195
    },
    "colab_type": "code",
    "id": "OBDVsiRAyT6m",
    "outputId": "0a437927-f5d6-4965-8247-ad28557b1a4a"
   },
   "outputs": [
    {
     "data": {
      "text/html": [
       "<div>\n",
       "<style scoped>\n",
       "    .dataframe tbody tr th:only-of-type {\n",
       "        vertical-align: middle;\n",
       "    }\n",
       "\n",
       "    .dataframe tbody tr th {\n",
       "        vertical-align: top;\n",
       "    }\n",
       "\n",
       "    .dataframe thead th {\n",
       "        text-align: right;\n",
       "    }\n",
       "</style>\n",
       "<table border=\"1\" class=\"dataframe\">\n",
       "  <thead>\n",
       "    <tr style=\"text-align: right;\">\n",
       "      <th></th>\n",
       "      <th>Mail_Id</th>\n",
       "      <th>Subject</th>\n",
       "      <th>Body</th>\n",
       "      <th>predict_we</th>\n",
       "    </tr>\n",
       "  </thead>\n",
       "  <tbody>\n",
       "    <tr>\n",
       "      <th>24560</th>\n",
       "      <td>14cd5287e26a5bba</td>\n",
       "      <td>Team Outing</td>\n",
       "      <td>On Tue, Jan 6, 2015 AM, Myle Prasen On Mon, Ja...</td>\n",
       "      <td>0</td>\n",
       "    </tr>\n",
       "    <tr>\n",
       "      <th>24563</th>\n",
       "      <td>14c87f7e90327ef9</td>\n",
       "      <td>CitiAlert Welcome Citibank</td>\n",
       "      <td>Delivery following recipient failed Technical ...</td>\n",
       "      <td>0</td>\n",
       "    </tr>\n",
       "    <tr>\n",
       "      <th>24564</th>\n",
       "      <td>14bf2c5bf23c23b6</td>\n",
       "      <td>Abstract request</td>\n",
       "      <td>On Wed, Oct 15, 2014 PM, teju reddy</td>\n",
       "      <td>0</td>\n",
       "    </tr>\n",
       "    <tr>\n",
       "      <th>24565</th>\n",
       "      <td>14bb21957c90ddb0</td>\n",
       "      <td>BENZ LETTER HEAD</td>\n",
       "      <td>Delivery following recipient failed Technical ...</td>\n",
       "      <td>0</td>\n",
       "    </tr>\n",
       "    <tr>\n",
       "      <th>24568</th>\n",
       "      <td>14b34b1222570158</td>\n",
       "      <td>reg project</td>\n",
       "      <td>DEAR VIRENDER SINGH TANWAR GREETINGS FOR THE Y...</td>\n",
       "      <td>0</td>\n",
       "    </tr>\n",
       "  </tbody>\n",
       "</table>\n",
       "</div>"
      ],
      "text/plain": [
       "                Mail_Id  ... predict_we\n",
       "24560  14cd5287e26a5bba  ...          0\n",
       "24563  14c87f7e90327ef9  ...          0\n",
       "24564  14bf2c5bf23c23b6  ...          0\n",
       "24565  14bb21957c90ddb0  ...          0\n",
       "24568  14b34b1222570158  ...          0\n",
       "\n",
       "[5 rows x 4 columns]"
      ]
     },
     "execution_count": 77,
     "metadata": {
      "tags": []
     },
     "output_type": "execute_result"
    }
   ],
   "source": [
    "mail[mail['predict_we']==0].tail()"
   ]
  },
  {
   "cell_type": "code",
   "execution_count": 0,
   "metadata": {
    "colab": {},
    "colab_type": "code",
    "id": "zBWJ0ygHyT00"
   },
   "outputs": [],
   "source": [
    "mail.to_csv(r'/content/Mail Prediction.csv',index=None)"
   ]
  },
  {
   "cell_type": "code",
   "execution_count": 0,
   "metadata": {
    "colab": {},
    "colab_type": "code",
    "id": "XrZYE5IyyTyi"
   },
   "outputs": [],
   "source": []
  },
  {
   "cell_type": "code",
   "execution_count": 0,
   "metadata": {
    "colab": {},
    "colab_type": "code",
    "id": "0JD3wOHRp_Sk"
   },
   "outputs": [],
   "source": [
    "# Initial Model....\n",
    "y_mail=model_we.predict([sequence_mail_sub_matrix,sequence_mail_body_matrix])\n",
    "\n",
    "mail['predict_we']=(y_mail>0.06).astype(int)"
   ]
  },
  {
   "cell_type": "code",
   "execution_count": 0,
   "metadata": {
    "colab": {
     "base_uri": "https://localhost:8080/",
     "height": 50
    },
    "colab_type": "code",
    "id": "sJhAP0mXp_JT",
    "outputId": "742c51ba-0a94-4052-fc16-f5587b347e2e"
   },
   "outputs": [
    {
     "data": {
      "text/plain": [
       "1    24569\n",
       "Name: predict_we, dtype: int64"
      ]
     },
     "execution_count": 48,
     "metadata": {
      "tags": []
     },
     "output_type": "execute_result"
    }
   ],
   "source": [
    "# mail['predict_we'].value_counts()"
   ]
  },
  {
   "cell_type": "code",
   "execution_count": 0,
   "metadata": {
    "colab": {},
    "colab_type": "code",
    "id": "S79V7yPup-_A"
   },
   "outputs": [],
   "source": []
  },
  {
   "cell_type": "code",
   "execution_count": 0,
   "metadata": {
    "colab": {},
    "colab_type": "code",
    "id": "E5IiZAhSXBeA"
   },
   "outputs": [],
   "source": [
    "# TF IDF Check"
   ]
  },
  {
   "cell_type": "code",
   "execution_count": 0,
   "metadata": {
    "colab": {},
    "colab_type": "code",
    "id": "8X5dqMveY43c"
   },
   "outputs": [],
   "source": [
    "spam['concate']=spam[['Subject','Body']].apply(lambda x:' '.join(x.astype(str)),axis=1)"
   ]
  },
  {
   "cell_type": "code",
   "execution_count": 0,
   "metadata": {
    "colab": {},
    "colab_type": "code",
    "id": "FfgCHFE8Y4px"
   },
   "outputs": [],
   "source": [
    "spam_tf=tf.transform(spam['concate'])\n",
    "x_spam_tf=pd.DataFrame(spam_tf.toarray(),columns=tf.get_feature_names())"
   ]
  },
  {
   "cell_type": "code",
   "execution_count": 0,
   "metadata": {
    "colab": {},
    "colab_type": "code",
    "id": "6DdFnvmcY4ig"
   },
   "outputs": [],
   "source": [
    "spam['predict_tf_idf']=(model.predict(x_spam_tf)>0.53).astype(int)"
   ]
  },
  {
   "cell_type": "code",
   "execution_count": 0,
   "metadata": {
    "colab": {
     "base_uri": "https://localhost:8080/",
     "height": 67
    },
    "colab_type": "code",
    "id": "CxIKC8ymY4Wg",
    "outputId": "6d11a21c-b7ed-4366-c8fd-541c05355ae0"
   },
   "outputs": [
    {
     "data": {
      "text/plain": [
       "1    265\n",
       "0     39\n",
       "Name: predicted_we, dtype: int64"
      ]
     },
     "execution_count": 117,
     "metadata": {
      "tags": []
     },
     "output_type": "execute_result"
    }
   ],
   "source": [
    "spam['predicted_we'].value_counts()"
   ]
  },
  {
   "cell_type": "code",
   "execution_count": 0,
   "metadata": {
    "colab": {
     "base_uri": "https://localhost:8080/",
     "height": 67
    },
    "colab_type": "code",
    "id": "nxUiDM00Y6j7",
    "outputId": "9c4a8019-a477-4e91-cf6a-4b074976d150"
   },
   "outputs": [
    {
     "data": {
      "text/plain": [
       "1    200\n",
       "0    104\n",
       "Name: predict_tf_idf, dtype: int64"
      ]
     },
     "execution_count": 118,
     "metadata": {
      "tags": []
     },
     "output_type": "execute_result"
    }
   ],
   "source": [
    "spam['predict_tf_idf'].value_counts()"
   ]
  },
  {
   "cell_type": "code",
   "execution_count": 0,
   "metadata": {
    "colab": {},
    "colab_type": "code",
    "id": "x2rGKE3oY6eA"
   },
   "outputs": [],
   "source": []
  }
 ],
 "metadata": {
  "accelerator": "GPU",
  "colab": {
   "collapsed_sections": [],
   "name": "Spam Email Detection",
   "provenance": [],
   "toc_visible": true
  },
  "kernelspec": {
   "display_name": "Python 3",
   "language": "python",
   "name": "python3"
  },
  "language_info": {
   "codemirror_mode": {
    "name": "ipython",
    "version": 3
   },
   "file_extension": ".py",
   "mimetype": "text/x-python",
   "name": "python",
   "nbconvert_exporter": "python",
   "pygments_lexer": "ipython3",
   "version": "3.7.4"
  }
 },
 "nbformat": 4,
 "nbformat_minor": 1
}
