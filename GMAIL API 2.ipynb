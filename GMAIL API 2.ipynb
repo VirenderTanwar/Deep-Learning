{
 "cells": [
  {
   "cell_type": "code",
   "execution_count": 1,
   "metadata": {},
   "outputs": [
    {
     "data": {
      "text/plain": [
       "<googleapiclient.discovery.Resource at 0x2404881c988>"
      ]
     },
     "execution_count": 1,
     "metadata": {},
     "output_type": "execute_result"
    }
   ],
   "source": [
    "from __future__ import print_function\n",
    "import pickle\n",
    "import os.path\n",
    "import base64\n",
    "import email\n",
    "from apiclient import errors\n",
    "import re\n",
    "import time\n",
    "from datetime import datetime\n",
    "from googleapiclient.discovery import build\n",
    "from google_auth_oauthlib.flow import InstalledAppFlow\n",
    "from google.auth.transport.requests import Request\n",
    "\n",
    "# If modifying these scopes, delete the file token.pickle.\n",
    "SCOPES = ['https://www.googleapis.com/auth/gmail.readonly']\n",
    "\n",
    "def main():\n",
    "    \"\"\"Shows basic usage of the Gmail API.\n",
    "    Lists the user's Gmail labels.\n",
    "    \"\"\"\n",
    "    creds = None\n",
    "    # The file token.pickle stores the user's access and refresh tokens, and is\n",
    "    # created automatically when the authorization flow completes for the first\n",
    "    # time.\n",
    "    if os.path.exists('token.pickle'):\n",
    "        with open('token.pickle', 'rb') as token:\n",
    "            creds = pickle.load(token)\n",
    "    # If there are no (valid) credentials available, let the user log in.\n",
    "    if not creds or not creds.valid:\n",
    "        if creds and creds.expired and creds.refresh_token:\n",
    "            creds.refresh(Request())\n",
    "        else:\n",
    "            flow = InstalledAppFlow.from_client_secrets_file(\n",
    "                'credentials.json', SCOPES)\n",
    "            creds = flow.run_local_server(port=0)\n",
    "        # Save the credentials for the next run\n",
    "        with open('token.pickle', 'wb') as token:\n",
    "            pickle.dump(creds, token)\n",
    "\n",
    "    service = build('gmail', 'v1', credentials=creds)\n",
    "    \n",
    "    return service\n",
    "\n",
    "#     # Call the Gmail API\n",
    "#     results = service.users().labels().list(userId='me').execute()\n",
    "#     labels = results.get('labels', [])\n",
    "    \n",
    "#     userInfo = service.users().getProfile(userId='me').execute()\n",
    "#     print(\"User Info :\",userInfo)\n",
    "\n",
    "#     if not labels:\n",
    "#         print('No labels found.')\n",
    "#     else:\n",
    "#         print('Labels:')\n",
    "#         for label in labels:\n",
    "#             print(label['name'])\n",
    "\n",
    "\n",
    "\n",
    "\n",
    "\n",
    "# if __name__ == '__main__':\n",
    "#     main()\n",
    "\n",
    "main()"
   ]
  },
  {
   "cell_type": "code",
   "execution_count": 2,
   "metadata": {},
   "outputs": [
    {
     "data": {
      "text/plain": [
       "['CHAT',\n",
       " 'SENT',\n",
       " 'INBOX',\n",
       " 'IMPORTANT',\n",
       " 'TRASH',\n",
       " 'DRAFT',\n",
       " 'SPAM',\n",
       " 'CATEGORY_FORUMS',\n",
       " 'CATEGORY_UPDATES',\n",
       " 'CATEGORY_PERSONAL',\n",
       " 'CATEGORY_PROMOTIONS',\n",
       " 'CATEGORY_SOCIAL',\n",
       " 'STARRED',\n",
       " 'UNREAD']"
      ]
     },
     "execution_count": 2,
     "metadata": {},
     "output_type": "execute_result"
    }
   ],
   "source": [
    "results=main().users().labels().list(userId='me').execute()\n",
    "label=results.get('labels', [])\n",
    "[i['name'] for i in label]"
   ]
  },
  {
   "cell_type": "code",
   "execution_count": 3,
   "metadata": {},
   "outputs": [],
   "source": [
    "results = main().users().messages().list(userId='me',labelIds = ['SPAM'],maxResults=500).execute()"
   ]
  },
  {
   "cell_type": "code",
   "execution_count": 4,
   "metadata": {},
   "outputs": [],
   "source": [
    "messages = results.get('messages', [])"
   ]
  },
  {
   "cell_type": "code",
   "execution_count": null,
   "metadata": {},
   "outputs": [],
   "source": []
  },
  {
   "cell_type": "code",
   "execution_count": 5,
   "metadata": {},
   "outputs": [],
   "source": [
    "# results = main().users().messages().list(userId='me',labelIds = ['INBOX'],maxResults=500).execute\n",
    "# messages = results.get('messages', [])\n",
    "\n",
    "while 'nextPageToken' in results:\n",
    "    page_token=results['nextPageToken']\n",
    "#     print(page_token)\n",
    "    results = main().users().messages().list(userId='me',labelIds = ['SPAM'],maxResults=500,pageToken=page_token).execute()\n",
    "    messages.extend(results['messages'])\n",
    "    "
   ]
  },
  {
   "cell_type": "code",
   "execution_count": 6,
   "metadata": {},
   "outputs": [
    {
     "data": {
      "text/plain": [
       "249"
      ]
     },
     "execution_count": 6,
     "metadata": {},
     "output_type": "execute_result"
    }
   ],
   "source": [
    "len([i['id'] for i in messages])"
   ]
  },
  {
   "cell_type": "code",
   "execution_count": 22,
   "metadata": {},
   "outputs": [
    {
     "name": "stdout",
     "output_type": "stream",
     "text": [
      "1587923538.1032784\n",
      "23:22:18\n",
      "0\n",
      "171b70da99da5923\n",
      "Subject:  UC Riverside School of Business Virtual Info Sessions\n",
      "      Next        \n",
      "1\n",
      "171b4e3ad02eb734\n",
      "Subject:  Your path to greatness\n",
      "      Next        \n",
      "2\n",
      "171b4ba361440057\n",
      "Subject:  MNC Job Oriented Course ▷▷Data Analyst ▷▷Free Python/Tableau/SAS Course  ▷Business Analytics  ▷▷ WFA-MIS Analyst ▷▷ Banking Analyst ▷ Finance Analyst ▷▷ HR Analyst  ▷▷SAP MNC Jobs ▷Online/Offline Course\n",
      "      Next        \n",
      "3\n",
      "171b4b75fb01bf35\n",
      "Subject:  MNC Job Oriented Course ▷▷Data Analyst ▷▷Free Python/Tableau/SAS Course  ▷Business Analytics  ▷▷ WFA-MIS Analyst ▷▷ Banking Analyst ▷ Finance Analyst ▷▷ HR Analyst  ▷▷SAP MNC Jobs ▷Online/Offline Course\n",
      "      Next        \n",
      "4\n",
      "171b4b02015f93ed\n",
      "Subject:  MNC Job Oriented Course ▷▷Data Analyst ▷▷Free Python/Tableau/SAS Course  ▷Business Analytics  ▷▷ WFA-MIS Analyst ▷▷ Banking Analyst ▷ Finance Analyst ▷▷ HR Analyst  ▷▷SAP MNC Jobs ▷Online/Offline Course\n",
      "      Next        \n",
      "5\n",
      "171b45718c78cc6d\n",
      "Subject:  [Free Training] - The ONE Thing to Financial Freedom Is...\n",
      "      Next        \n",
      "6\n",
      "171b2c376e4f7105\n",
      "Subject:  Dear veer, register now for our new online digital programmes\n",
      "      Next        \n",
      "7\n",
      "171afb8c7b6045ed\n",
      "Subject:  No more drama\n",
      "      Next        \n",
      "8\n",
      "171afb86a593e66f\n",
      "Subject:  3 tips to protect yourself from EMI frauds!\n",
      "      Next        \n",
      "9\n",
      "171af9c4a50a24dd\n",
      "Subject:  Amity Future Academy || Skills to Ace at Being a Data Scientist\n",
      "      Next        \n",
      "time taken 22.35817241668701\n"
     ]
    }
   ],
   "source": [
    "start=time.time()\n",
    "print(start)\n",
    "string_check= re.compile('[@_!#$%^&*()<>?/\\|}{~]')\n",
    "msg_read=[]\n",
    "date=[]\n",
    "ff=[]\n",
    "sub=[]\n",
    "text=[]\n",
    "length=[]\n",
    "id=[]\n",
    "time_taken=[]\n",
    "for i in range(len([i['id'] for i in messages])):\n",
    "    if i%200==0:\n",
    "        print((datetime.now()).strftime('%H:%M:%S'))\n",
    "        time_taken.append((datetime.now()).strftime('%H:%M:%S'))\n",
    "    print(i)\n",
    "    print(messages[i]['id'])\n",
    "    id.append(messages[i]['id'])\n",
    "    msg=main().users().messages().get(userId='me',id=messages[i]['id'],format=\"full\").execute()\n",
    "    subject=[i['value'] for i in msg['payload']['headers'] if i['name']=='Subject' or i['name']=='SUBJECT'][0]\n",
    "    From=[i['value'] for i in msg['payload']['headers'] if i['name']=='from' or i['name']=='FROM' or i['name']=='From'][0]\n",
    "    Date=[i['value'] for i in msg['payload']['headers'] if i['name']=='Date' or i['name']=='DATE'][0]\n",
    "    msg_read.append(msg['snippet'])\n",
    "    date.append(Date)\n",
    "    ff.append(From)\n",
    "    sub.append(subject)\n",
    "    msg=main().users().messages().get(userId='me',id=messages[i]['id'],format=\"raw\").execute()\n",
    "    try:\n",
    "        msg_str=base64.urlsafe_b64decode(msg['raw']).decode()\n",
    "    except:\n",
    "        msg_str=base64.urlsafe_b64decode(msg['raw']).decode(encoding='windows-1252')\n",
    "    mime_msg=email.message_from_string(msg_str)\n",
    "    \n",
    "    length.append(len(mime_msg.get_payload()))\n",
    "    \n",
    "    \n",
    "    a=[]\n",
    "    a1=[]\n",
    "    if mime_msg.is_multipart():\n",
    "        \n",
    "        for payload in mime_msg.get_payload():\n",
    "            a.append(payload.get_payload())\n",
    "            \n",
    "            while type(a[0])==list:\n",
    "                a=[i.get_payload() for i in a[0]]\n",
    "            \n",
    "            \n",
    "#         if type(a1[0])==list:\n",
    "#             b=mime_msg.get_payload()[0]\n",
    "            \n",
    "#             for i in b.get_payload():\n",
    "#                 a.append(i.get_payload())\n",
    "                \n",
    "#         else:\n",
    "#             for payload in mime_msg.get_payload():\n",
    "#                 a.append(payload.get_payload())\n",
    "            \n",
    "        \n",
    "# #         for payload in mime_msg.get_payload():\n",
    "# #             a.append(payload.get_payload())\n",
    "    else:\n",
    "        a.append(mime_msg.get_payload())\n",
    "    \n",
    "    t1=a[0].replace(\"\\r\",\" \").replace(\"\\n\",\" \")\n",
    "    text.append(\" \".join([i for i in t1.split() if (string_check.search(i)==None) and ('http' not in i)]))\n",
    "    \n",
    "    print(\"Subject: \",subject)\n",
    "#     print(\"From: \",From)\n",
    "#     print(\"Date: \",Date)\n",
    "#     print(msg['snippet'])\n",
    "    print(\"      Next        \")\n",
    "    \n",
    "print(\"time taken\",time.time()-start) \n",
    "taken=time.time()-start"
   ]
  },
  {
   "cell_type": "code",
   "execution_count": null,
   "metadata": {},
   "outputs": [],
   "source": [
    "    len(time_taken)"
   ]
  },
  {
   "cell_type": "code",
   "execution_count": null,
   "metadata": {},
   "outputs": [],
   "source": [
    "len(date)"
   ]
  },
  {
   "cell_type": "code",
   "execution_count": null,
   "metadata": {},
   "outputs": [],
   "source": [
    "len(msg_read)"
   ]
  },
  {
   "cell_type": "code",
   "execution_count": null,
   "metadata": {},
   "outputs": [],
   "source": [
    "msg_read[2]"
   ]
  },
  {
   "cell_type": "code",
   "execution_count": null,
   "metadata": {},
   "outputs": [],
   "source": [
    "msg_read=[]\n",
    "date=[]\n",
    "ff=[]\n",
    "for i in range(5):\n",
    "    msg=main().users().messages().get(userId='me',id=messages[i]['id'],format=\"full\").execute()\n",
    "    subject=[i['value'] for i in msg['payload']['headers'] if i['name']=='Subject'][0]\n",
    "    From=[i['value'] for i in msg['payload']['headers'] if i['name']=='From'][0]\n",
    "    Date=[i['value'] for i in msg['payload']['headers'] if i['name']=='Date'][0]\n",
    "    msg_read.append(msg['snippet'])\n",
    "    date.append(Date)\n",
    "    ff.append(From)\n",
    "#     sub.append(subject)\n",
    "    print(i+1)\n",
    "    print(\"Subject: \",subject)\n",
    "    print(\"From: \",From)\n",
    "    print(\"Date: \",Date)\n",
    "    print(msg['snippet'])\n",
    "    print(\"              \")"
   ]
  },
  {
   "cell_type": "code",
   "execution_count": null,
   "metadata": {},
   "outputs": [],
   "source": [
    "list(messages)[276]"
   ]
  },
  {
   "cell_type": "code",
   "execution_count": null,
   "metadata": {},
   "outputs": [],
   "source": [
    "list(messages)[471]"
   ]
  },
  {
   "cell_type": "code",
   "execution_count": null,
   "metadata": {},
   "outputs": [],
   "source": []
  },
  {
   "cell_type": "code",
   "execution_count": null,
   "metadata": {},
   "outputs": [],
   "source": [
    "msg=main().users().messages().get(userId='me',id='170d799c17cf8d04',format=\"full\").execute()\n",
    "msg['snippet']"
   ]
  },
  {
   "cell_type": "code",
   "execution_count": 8,
   "metadata": {},
   "outputs": [],
   "source": [
    "f=[\" \".join(i.split()[:-1]) if len(i.split())>1 else i for i in ff]"
   ]
  },
  {
   "cell_type": "code",
   "execution_count": 9,
   "metadata": {},
   "outputs": [],
   "source": [
    "import pandas as pd"
   ]
  },
  {
   "cell_type": "code",
   "execution_count": 10,
   "metadata": {},
   "outputs": [],
   "source": [
    "df=pd.DataFrame(list(zip(id,date,ff,sub,msg_read,text)),columns=['Mail_Id','Date','From','Subject','Short Text','Body'])"
   ]
  },
  {
   "cell_type": "code",
   "execution_count": 12,
   "metadata": {},
   "outputs": [
    {
     "data": {
      "text/html": [
       "<div>\n",
       "<style scoped>\n",
       "    .dataframe tbody tr th:only-of-type {\n",
       "        vertical-align: middle;\n",
       "    }\n",
       "\n",
       "    .dataframe tbody tr th {\n",
       "        vertical-align: top;\n",
       "    }\n",
       "\n",
       "    .dataframe thead th {\n",
       "        text-align: right;\n",
       "    }\n",
       "</style>\n",
       "<table border=\"1\" class=\"dataframe\">\n",
       "  <thead>\n",
       "    <tr style=\"text-align: right;\">\n",
       "      <th></th>\n",
       "      <th>Mail_Id</th>\n",
       "      <th>Date</th>\n",
       "      <th>From</th>\n",
       "      <th>Subject</th>\n",
       "      <th>Short Text</th>\n",
       "      <th>Body</th>\n",
       "    </tr>\n",
       "  </thead>\n",
       "  <tbody>\n",
       "    <tr>\n",
       "      <td>0</td>\n",
       "      <td>171b70da99da5923</td>\n",
       "      <td>Sun, 26 Apr 2020 15:14:14 +0000 (UTC)</td>\n",
       "      <td>UCR Graduate Business Admissions &lt;agsmadmissio...</td>\n",
       "      <td>UC Riverside School of Business Virtual Info S...</td>\n",
       "      <td>UC Riverside School of Business Virtual Info S...</td>\n",
       "      <td>UCR School of Business link: www.agsm.ucr.edu ...</td>\n",
       "    </tr>\n",
       "    <tr>\n",
       "      <td>1</td>\n",
       "      <td>171b4e3ad02eb734</td>\n",
       "      <td>Sun, 26 Apr 2020 05:01:46 +0000</td>\n",
       "      <td>Instaread &lt;newsletters@instaread.co&gt;</td>\n",
       "      <td>Your path to greatness</td>\n",
       "      <td>Weekend Wisdom Hi there, A lot of companies ar...</td>\n",
       "      <td>html PUBLIC XHTML 1.0 t-family:arial, 'helveti...</td>\n",
       "    </tr>\n",
       "    <tr>\n",
       "      <td>2</td>\n",
       "      <td>171b4ba361440057</td>\n",
       "      <td>Sun, 26 Apr 2020 09:53:50 +0530 (IST)</td>\n",
       "      <td>&lt;classes@naukrirms.com&gt;</td>\n",
       "      <td>MNC Job Oriented Course ▷▷Data Analyst ▷▷Free ...</td>\n",
       "      <td>STRUCTURED LEARNING ASSISTANCE CONSULTANTS IND...</td>\n",
       "      <td>html PUBLIC XHTML 1.0 class=3D\"oh\" id=3D\"mailL...</td>\n",
       "    </tr>\n",
       "    <tr>\n",
       "      <td>3</td>\n",
       "      <td>171b4b75fb01bf35</td>\n",
       "      <td>Sun, 26 Apr 2020 09:50:42 +0530 (IST)</td>\n",
       "      <td>&lt;classes@naukrirms.com&gt;</td>\n",
       "      <td>MNC Job Oriented Course ▷▷Data Analyst ▷▷Free ...</td>\n",
       "      <td>STRUCTURED LEARNING ASSISTANCE CONSULTANTS IND...</td>\n",
       "      <td>html PUBLIC XHTML 1.0 class=3D\"oh\" id=3D\"mailL...</td>\n",
       "    </tr>\n",
       "    <tr>\n",
       "      <td>4</td>\n",
       "      <td>171b4b02015f93ed</td>\n",
       "      <td>Sun, 26 Apr 2020 09:42:48 +0530 (IST)</td>\n",
       "      <td>&lt;classes@naukrirms.com&gt;</td>\n",
       "      <td>MNC Job Oriented Course ▷▷Data Analyst ▷▷Free ...</td>\n",
       "      <td>STRUCTURED LEARNING ASSISTANCE CONSULTANTS IND...</td>\n",
       "      <td>html PUBLIC XHTML 1.0 class=3D\"oh\" id=3D\"mailL...</td>\n",
       "    </tr>\n",
       "  </tbody>\n",
       "</table>\n",
       "</div>"
      ],
      "text/plain": [
       "            Mail_Id                                   Date  \\\n",
       "0  171b70da99da5923  Sun, 26 Apr 2020 15:14:14 +0000 (UTC)   \n",
       "1  171b4e3ad02eb734        Sun, 26 Apr 2020 05:01:46 +0000   \n",
       "2  171b4ba361440057  Sun, 26 Apr 2020 09:53:50 +0530 (IST)   \n",
       "3  171b4b75fb01bf35  Sun, 26 Apr 2020 09:50:42 +0530 (IST)   \n",
       "4  171b4b02015f93ed  Sun, 26 Apr 2020 09:42:48 +0530 (IST)   \n",
       "\n",
       "                                                From  \\\n",
       "0  UCR Graduate Business Admissions <agsmadmissio...   \n",
       "1               Instaread <newsletters@instaread.co>   \n",
       "2                            <classes@naukrirms.com>   \n",
       "3                            <classes@naukrirms.com>   \n",
       "4                            <classes@naukrirms.com>   \n",
       "\n",
       "                                             Subject  \\\n",
       "0  UC Riverside School of Business Virtual Info S...   \n",
       "1                             Your path to greatness   \n",
       "2  MNC Job Oriented Course ▷▷Data Analyst ▷▷Free ...   \n",
       "3  MNC Job Oriented Course ▷▷Data Analyst ▷▷Free ...   \n",
       "4  MNC Job Oriented Course ▷▷Data Analyst ▷▷Free ...   \n",
       "\n",
       "                                          Short Text  \\\n",
       "0  UC Riverside School of Business Virtual Info S...   \n",
       "1  Weekend Wisdom Hi there, A lot of companies ar...   \n",
       "2  STRUCTURED LEARNING ASSISTANCE CONSULTANTS IND...   \n",
       "3  STRUCTURED LEARNING ASSISTANCE CONSULTANTS IND...   \n",
       "4  STRUCTURED LEARNING ASSISTANCE CONSULTANTS IND...   \n",
       "\n",
       "                                                Body  \n",
       "0  UCR School of Business link: www.agsm.ucr.edu ...  \n",
       "1  html PUBLIC XHTML 1.0 t-family:arial, 'helveti...  \n",
       "2  html PUBLIC XHTML 1.0 class=3D\"oh\" id=3D\"mailL...  \n",
       "3  html PUBLIC XHTML 1.0 class=3D\"oh\" id=3D\"mailL...  \n",
       "4  html PUBLIC XHTML 1.0 class=3D\"oh\" id=3D\"mailL...  "
      ]
     },
     "execution_count": 12,
     "metadata": {},
     "output_type": "execute_result"
    }
   ],
   "source": [
    "df.head()"
   ]
  },
  {
   "cell_type": "code",
   "execution_count": 19,
   "metadata": {},
   "outputs": [
    {
     "data": {
      "text/html": [
       "<div>\n",
       "<style scoped>\n",
       "    .dataframe tbody tr th:only-of-type {\n",
       "        vertical-align: middle;\n",
       "    }\n",
       "\n",
       "    .dataframe tbody tr th {\n",
       "        vertical-align: top;\n",
       "    }\n",
       "\n",
       "    .dataframe thead th {\n",
       "        text-align: right;\n",
       "    }\n",
       "</style>\n",
       "<table border=\"1\" class=\"dataframe\">\n",
       "  <thead>\n",
       "    <tr style=\"text-align: right;\">\n",
       "      <th></th>\n",
       "      <th>Mail_Id</th>\n",
       "      <th>Date</th>\n",
       "      <th>From</th>\n",
       "      <th>Subject</th>\n",
       "      <th>Short Text</th>\n",
       "      <th>Body</th>\n",
       "    </tr>\n",
       "  </thead>\n",
       "  <tbody>\n",
       "    <tr>\n",
       "      <td>57</td>\n",
       "      <td>171935c75e45a459</td>\n",
       "      <td>Sun, 19 Apr 2020 08:33:27 -0400</td>\n",
       "      <td>Robert Kiyosaki &lt;robertkiyosaki@fivemoneyrules...</td>\n",
       "      <td>Earning more income in this failing economy...</td>\n",
       "      <td>lessons from the 2008 CRASH - OPEN NOW ‌ ‌ ‌ ‌...</td>\n",
       "      <td>no ...I've been warning of something like this...</td>\n",
       "    </tr>\n",
       "    <tr>\n",
       "      <td>58</td>\n",
       "      <td>17192cbf5c979684</td>\n",
       "      <td>Sun, 19 Apr 2020 14:16:10 +0000 (UTC)</td>\n",
       "      <td>UCR Graduate Business Admissions &lt;agsmadmissio...</td>\n",
       "      <td>UC Riverside School of Business Virtual Info S...</td>\n",
       "      <td>UC Riverside School of Business Virtual Info S...</td>\n",
       "      <td>UCR School of Business link: www.agsm.ucr.edu ...</td>\n",
       "    </tr>\n",
       "    <tr>\n",
       "      <td>59</td>\n",
       "      <td>17192a665e42dc7b</td>\n",
       "      <td>Sun, 19 Apr 2020 19:05:10 +0530</td>\n",
       "      <td>Swiggy &lt;no-reply@swiggy.in&gt;</td>\n",
       "      <td>Is your food safe? It is in these hands 👇</td>\n",
       "      <td>Don&amp;#39;t want to receive updates from Swiggy?...</td>\n",
       "      <td>Email Template Don't want to receive updates f...</td>\n",
       "    </tr>\n",
       "    <tr>\n",
       "      <td>60</td>\n",
       "      <td>171924e295c88642</td>\n",
       "      <td>Sun, 19 Apr 2020 09:43:01 +0000</td>\n",
       "      <td>Pranab Mishra &lt;purabm@mails.stocknote.com&gt;</td>\n",
       "      <td>Sharpen your stock market knowledge with knowl...</td>\n",
       "      <td>Open an Account Whether you are new to trading...</td>\n",
       "      <td>null</td>\n",
       "    </tr>\n",
       "    <tr>\n",
       "      <td>61</td>\n",
       "      <td>17191b41cbda144c</td>\n",
       "      <td>Sun, 19 Apr 2020 14:40:23 +0530 (IST)</td>\n",
       "      <td>&lt;kajal@naukrirms.com&gt;</td>\n",
       "      <td>MNC Job Oriented Course ▷▷Data Analyst ▷▷Free ...</td>\n",
       "      <td>STRUCTURED LEARNING ASSISTANCE CONSULTANTS IND...</td>\n",
       "      <td>html PUBLIC XHTML 1.0 class=3D\"oh\" id=3D\"mailL...</td>\n",
       "    </tr>\n",
       "  </tbody>\n",
       "</table>\n",
       "</div>"
      ],
      "text/plain": [
       "             Mail_Id                                   Date  \\\n",
       "57  171935c75e45a459        Sun, 19 Apr 2020 08:33:27 -0400   \n",
       "58  17192cbf5c979684  Sun, 19 Apr 2020 14:16:10 +0000 (UTC)   \n",
       "59  17192a665e42dc7b        Sun, 19 Apr 2020 19:05:10 +0530   \n",
       "60  171924e295c88642        Sun, 19 Apr 2020 09:43:01 +0000   \n",
       "61  17191b41cbda144c  Sun, 19 Apr 2020 14:40:23 +0530 (IST)   \n",
       "\n",
       "                                                 From  \\\n",
       "57  Robert Kiyosaki <robertkiyosaki@fivemoneyrules...   \n",
       "58  UCR Graduate Business Admissions <agsmadmissio...   \n",
       "59                        Swiggy <no-reply@swiggy.in>   \n",
       "60         Pranab Mishra <purabm@mails.stocknote.com>   \n",
       "61                              <kajal@naukrirms.com>   \n",
       "\n",
       "                                              Subject  \\\n",
       "57     Earning more income in this failing economy...   \n",
       "58  UC Riverside School of Business Virtual Info S...   \n",
       "59          Is your food safe? It is in these hands 👇   \n",
       "60  Sharpen your stock market knowledge with knowl...   \n",
       "61  MNC Job Oriented Course ▷▷Data Analyst ▷▷Free ...   \n",
       "\n",
       "                                           Short Text  \\\n",
       "57  lessons from the 2008 CRASH - OPEN NOW ‌ ‌ ‌ ‌...   \n",
       "58  UC Riverside School of Business Virtual Info S...   \n",
       "59  Don&#39;t want to receive updates from Swiggy?...   \n",
       "60  Open an Account Whether you are new to trading...   \n",
       "61  STRUCTURED LEARNING ASSISTANCE CONSULTANTS IND...   \n",
       "\n",
       "                                                 Body  \n",
       "57  no ...I've been warning of something like this...  \n",
       "58  UCR School of Business link: www.agsm.ucr.edu ...  \n",
       "59  Email Template Don't want to receive updates f...  \n",
       "60                                               null  \n",
       "61  html PUBLIC XHTML 1.0 class=3D\"oh\" id=3D\"mailL...  "
      ]
     },
     "execution_count": 19,
     "metadata": {},
     "output_type": "execute_result"
    }
   ],
   "source": [
    "df_spam=df.iloc[:62]\n",
    "df_spam.tail()"
   ]
  },
  {
   "cell_type": "code",
   "execution_count": 21,
   "metadata": {},
   "outputs": [],
   "source": [
    "df_spam.to_csv(r'C:\\Users\\lenovo\\Documents\\Project\\my mail spam add.csv',index=None)"
   ]
  },
  {
   "cell_type": "code",
   "execution_count": 11,
   "metadata": {},
   "outputs": [],
   "source": [
    "df.to_csv(r'C:\\Users\\lenovo\\Documents\\Project\\my mail spam.csv',index=None)"
   ]
  },
  {
   "cell_type": "code",
   "execution_count": null,
   "metadata": {},
   "outputs": [],
   "source": [
    "df.to_excel(r'C:\\Users\\lenovo\\Documents\\Project\\my mail spam.xlsx',index=None)"
   ]
  },
  {
   "cell_type": "code",
   "execution_count": null,
   "metadata": {},
   "outputs": [],
   "source": []
  },
  {
   "cell_type": "code",
   "execution_count": null,
   "metadata": {},
   "outputs": [],
   "source": []
  },
  {
   "cell_type": "code",
   "execution_count": null,
   "metadata": {},
   "outputs": [],
   "source": [
    "from __future__ import print_function\n",
    "import pickle\n",
    "import os.path\n",
    "import base64\n",
    "import email\n",
    "from apiclient import errors\n",
    "import re\n",
    "import time\n",
    "from datetime import datetime\n",
    "from googleapiclient.discovery import build\n",
    "from google_auth_oauthlib.flow import InstalledAppFlow\n",
    "from google.auth.transport.requests import Request\n",
    "\n",
    "# If modifying these scopes, delete the file token.pickle.\n",
    "SCOPES = ['https://mail.google.com/']\n",
    "\n",
    "def main():\n",
    "    \"\"\"Shows basic usage of the Gmail API.\n",
    "    Lists the user's Gmail labels.\n",
    "    \"\"\"\n",
    "    creds = None\n",
    "    # The file token.pickle stores the user's access and refresh tokens, and is\n",
    "    # created automatically when the authorization flow completes for the first\n",
    "    # time.\n",
    "    if os.path.exists('token.pickle'):\n",
    "        with open('token.pickle', 'rb') as token:\n",
    "            creds = pickle.load(token)\n",
    "    # If there are no (valid) credentials available, let the user log in.\n",
    "    if not creds or not creds.valid:\n",
    "        if creds and creds.expired and creds.refresh_token:\n",
    "            creds.refresh(Request())\n",
    "        else:\n",
    "            flow = InstalledAppFlow.from_client_secrets_file(\n",
    "                'credentials.json', SCOPES)\n",
    "            creds = flow.run_local_server(port=0)\n",
    "        # Save the credentials for the next run\n",
    "        with open('token.pickle', 'wb') as token:\n",
    "            pickle.dump(creds, token)\n",
    "\n",
    "    service = build('gmail', 'v1', credentials=creds)\n",
    "    \n",
    "    return service\n",
    "\n",
    "#     # Call the Gmail API\n",
    "#     results = service.users().labels().list(userId='me').execute()\n",
    "#     labels = results.get('labels', [])\n",
    "    \n",
    "#     userInfo = service.users().getProfile(userId='me').execute()\n",
    "#     print(\"User Info :\",userInfo)\n",
    "\n",
    "#     if not labels:\n",
    "#         print('No labels found.')\n",
    "#     else:\n",
    "#         print('Labels:')\n",
    "#         for label in labels:\n",
    "#             print(label['name'])\n",
    "\n",
    "\n",
    "\n",
    "\n",
    "\n",
    "# if __name__ == '__main__':\n",
    "#     main()\n",
    "\n",
    "main()"
   ]
  },
  {
   "cell_type": "code",
   "execution_count": null,
   "metadata": {},
   "outputs": [],
   "source": [
    "a='1719045aa8141abb'"
   ]
  },
  {
   "cell_type": "code",
   "execution_count": null,
   "metadata": {},
   "outputs": [],
   "source": [
    "try:\n",
    "    main().users().messages().delete(userId='me',id=a).execute()\n",
    "    print('Message with id: %s deleted successfully.',a)\n",
    "except errors.HttpError as error:\n",
    "    print(error)"
   ]
  },
  {
   "cell_type": "code",
   "execution_count": null,
   "metadata": {},
   "outputs": [],
   "source": []
  },
  {
   "cell_type": "code",
   "execution_count": null,
   "metadata": {},
   "outputs": [],
   "source": []
  }
 ],
 "metadata": {
  "kernelspec": {
   "display_name": "Python 3",
   "language": "python",
   "name": "python3"
  },
  "language_info": {
   "codemirror_mode": {
    "name": "ipython",
    "version": 3
   },
   "file_extension": ".py",
   "mimetype": "text/x-python",
   "name": "python",
   "nbconvert_exporter": "python",
   "pygments_lexer": "ipython3",
   "version": "3.7.4"
  }
 },
 "nbformat": 4,
 "nbformat_minor": 2
}
